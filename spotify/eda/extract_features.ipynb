{
 "cells": [
  {
   "cell_type": "code",
   "execution_count": 7,
   "metadata": {},
   "outputs": [
    {
     "data": {
      "text/plain": [
       "'/Users/nikhilshukla/ML-Deployment/spotify/data'"
      ]
     },
     "execution_count": 7,
     "metadata": {},
     "output_type": "execute_result"
    }
   ],
   "source": [
    "import pandas as pd\n",
    "import os\n",
    "from tqdm import tqdm\n",
    "import re\n",
    "\n",
    "dir_path = os.getcwd()\n",
    "dir_path\n",
    "# os.chdir('../data/')\n",
    "\n"
   ]
  },
  {
   "cell_type": "code",
   "execution_count": 10,
   "metadata": {},
   "outputs": [
    {
     "data": {
      "text/html": [
       "<div>\n",
       "<style scoped>\n",
       "    .dataframe tbody tr th:only-of-type {\n",
       "        vertical-align: middle;\n",
       "    }\n",
       "\n",
       "    .dataframe tbody tr th {\n",
       "        vertical-align: top;\n",
       "    }\n",
       "\n",
       "    .dataframe thead th {\n",
       "        text-align: right;\n",
       "    }\n",
       "</style>\n",
       "<table border=\"1\" class=\"dataframe\">\n",
       "  <thead>\n",
       "    <tr style=\"text-align: right;\">\n",
       "      <th></th>\n",
       "      <th>Unnamed: 0</th>\n",
       "      <th>Unnamed: 0.1</th>\n",
       "      <th>pos</th>\n",
       "      <th>artist_name</th>\n",
       "      <th>track_uri</th>\n",
       "      <th>artist_uri</th>\n",
       "      <th>track_name</th>\n",
       "      <th>album_uri</th>\n",
       "      <th>duration_ms_x</th>\n",
       "      <th>album_name</th>\n",
       "      <th>...</th>\n",
       "      <th>type</th>\n",
       "      <th>id</th>\n",
       "      <th>uri</th>\n",
       "      <th>track_href</th>\n",
       "      <th>analysis_url</th>\n",
       "      <th>duration_ms_y</th>\n",
       "      <th>time_signature</th>\n",
       "      <th>artist_pop</th>\n",
       "      <th>genres</th>\n",
       "      <th>track_pop</th>\n",
       "    </tr>\n",
       "  </thead>\n",
       "  <tbody>\n",
       "    <tr>\n",
       "      <th>34480</th>\n",
       "      <td>34480</td>\n",
       "      <td>13909</td>\n",
       "      <td>34</td>\n",
       "      <td>Lady Antebellum</td>\n",
       "      <td>5TMN7wN8Knzt7FYwF2TiFE</td>\n",
       "      <td>spotify:artist:32WkQRZEVKSzVAAYqukAEA</td>\n",
       "      <td>Freestyle</td>\n",
       "      <td>spotify:album:1JHNRou038CfCC0RZztDz8</td>\n",
       "      <td>184293</td>\n",
       "      <td>747</td>\n",
       "      <td>...</td>\n",
       "      <td>audio_features</td>\n",
       "      <td>5TMN7wN8Knzt7FYwF2TiFE</td>\n",
       "      <td>spotify:track:5TMN7wN8Knzt7FYwF2TiFE</td>\n",
       "      <td>https://api.spotify.com/v1/tracks/5TMN7wN8Knzt...</td>\n",
       "      <td>https://api.spotify.com/v1/audio-analysis/5TMN...</td>\n",
       "      <td>184293</td>\n",
       "      <td>4</td>\n",
       "      <td>73</td>\n",
       "      <td>contemporary_country country country_dawn coun...</td>\n",
       "      <td>38</td>\n",
       "    </tr>\n",
       "    <tr>\n",
       "      <th>565</th>\n",
       "      <td>565</td>\n",
       "      <td>34341</td>\n",
       "      <td>153</td>\n",
       "      <td>Seal</td>\n",
       "      <td>6Vz7vzOpCwKeSQlfViibuY</td>\n",
       "      <td>spotify:artist:5GtMEZEeFFsuHY8ad4kOxv</td>\n",
       "      <td>Crazy</td>\n",
       "      <td>spotify:album:3NehJpD5x3MUtpl8jDTHaa</td>\n",
       "      <td>356520</td>\n",
       "      <td>Best 1991 - 2004</td>\n",
       "      <td>...</td>\n",
       "      <td>audio_features</td>\n",
       "      <td>6Vz7vzOpCwKeSQlfViibuY</td>\n",
       "      <td>spotify:track:6Vz7vzOpCwKeSQlfViibuY</td>\n",
       "      <td>https://api.spotify.com/v1/tracks/6Vz7vzOpCwKe...</td>\n",
       "      <td>https://api.spotify.com/v1/audio-analysis/6Vz7...</td>\n",
       "      <td>356520</td>\n",
       "      <td>4</td>\n",
       "      <td>67</td>\n",
       "      <td>british_soul soft_rock</td>\n",
       "      <td>66</td>\n",
       "    </tr>\n",
       "  </tbody>\n",
       "</table>\n",
       "<p>2 rows × 32 columns</p>\n",
       "</div>"
      ],
      "text/plain": [
       "       Unnamed: 0  Unnamed: 0.1  pos      artist_name               track_uri  \\\n",
       "34480       34480         13909   34  Lady Antebellum  5TMN7wN8Knzt7FYwF2TiFE   \n",
       "565           565         34341  153             Seal  6Vz7vzOpCwKeSQlfViibuY   \n",
       "\n",
       "                                  artist_uri track_name  \\\n",
       "34480  spotify:artist:32WkQRZEVKSzVAAYqukAEA  Freestyle   \n",
       "565    spotify:artist:5GtMEZEeFFsuHY8ad4kOxv      Crazy   \n",
       "\n",
       "                                  album_uri  duration_ms_x        album_name  \\\n",
       "34480  spotify:album:1JHNRou038CfCC0RZztDz8         184293               747   \n",
       "565    spotify:album:3NehJpD5x3MUtpl8jDTHaa         356520  Best 1991 - 2004   \n",
       "\n",
       "       ...            type                      id  \\\n",
       "34480  ...  audio_features  5TMN7wN8Knzt7FYwF2TiFE   \n",
       "565    ...  audio_features  6Vz7vzOpCwKeSQlfViibuY   \n",
       "\n",
       "                                        uri  \\\n",
       "34480  spotify:track:5TMN7wN8Knzt7FYwF2TiFE   \n",
       "565    spotify:track:6Vz7vzOpCwKeSQlfViibuY   \n",
       "\n",
       "                                              track_href  \\\n",
       "34480  https://api.spotify.com/v1/tracks/5TMN7wN8Knzt...   \n",
       "565    https://api.spotify.com/v1/tracks/6Vz7vzOpCwKe...   \n",
       "\n",
       "                                            analysis_url  duration_ms_y  \\\n",
       "34480  https://api.spotify.com/v1/audio-analysis/5TMN...         184293   \n",
       "565    https://api.spotify.com/v1/audio-analysis/6Vz7...         356520   \n",
       "\n",
       "       time_signature  artist_pop  \\\n",
       "34480               4          73   \n",
       "565                 4          67   \n",
       "\n",
       "                                                  genres  track_pop  \n",
       "34480  contemporary_country country country_dawn coun...         38  \n",
       "565                               british_soul soft_rock         66  \n",
       "\n",
       "[2 rows x 32 columns]"
      ]
     },
     "execution_count": 10,
     "metadata": {},
     "output_type": "execute_result"
    }
   ],
   "source": [
    "# Load the raw data into the dataframe\n",
    "df = pd.read_csv('../data/processed_data.csv')\n",
    "df.sample(2)"
   ]
  }
 ],
 "metadata": {
  "kernelspec": {
   "display_name": "Python 3",
   "language": "python",
   "name": "python3"
  },
  "language_info": {
   "codemirror_mode": {
    "name": "ipython",
    "version": 3
   },
   "file_extension": ".py",
   "mimetype": "text/x-python",
   "name": "python",
   "nbconvert_exporter": "python",
   "pygments_lexer": "ipython3",
   "version": "3.9.6"
  },
  "orig_nbformat": 4,
  "vscode": {
   "interpreter": {
    "hash": "7812ea015bdcee6f23a998adcdd2ef97c151c0c241b7b7070987d9313e41299d"
   }
  }
 },
 "nbformat": 4,
 "nbformat_minor": 2
}
