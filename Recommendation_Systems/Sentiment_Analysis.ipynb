{
 "cells": [
  {
   "attachments": {},
   "cell_type": "markdown",
   "metadata": {},
   "source": [
    "#### Problem Statement\n",
    "\n",
    "The e-commerce business is quite popular today. Here, you do not need to take orders by going to each customer. A company launches its website to sell the items to the end consumer, and customers can order the products that they require from the same website. Famous examples of such e-commerce companies are Amazon, Flipkart, Myntra, Paytm and Snapdeal.\n",
    "\n",
    "Suppose you are working as a Machine Learning Engineer/Data Scientist in an e-commerce company named 'E-Com'. E-Com has captured a huge market share in many fields, and it sells the products in various categories such as household essentials, books, personal care products, medicines, cosmetic items, beauty products, electrical appliances, kitchen and dining products and health care products.\n",
    "\n",
    "With the advancement in technology, it is imperative for E-Com to grow quickly in the e-commerce market to become a major leader in the market because it has to compete with the likes of Amazon, Flipkart, etc., which are already market leaders.\n",
    "\n",
    "As a Data Scientis/ML Engineer, you are asked to build a model that will improve the recommendations given to the users given their past reviews and ratings.\n",
    "\n",
    "In order to do this, you planned to build a sentiment-based product recommendation system, which includes the following tasks.\n",
    "\n",
    "Data sourcing and sentiment analysis Building a recommendation system Improving the recommendations using the sentiment analysis model Deploying the end-to-end project with a user interface\n"
   ]
  },
  {
   "attachments": {},
   "cell_type": "markdown",
   "metadata": {},
   "source": [
    "### High Level steps \n",
    "\n",
    "* Data Sourcing and Sentiment Analysis\n",
    "\n",
    "* Building a recommendation system\n",
    "\n",
    "* Improving the recommendation system using sentiment analysis model\n",
    "\n",
    "* Deploying the end-to-end project with user interface\n"
   ]
  },
  {
   "cell_type": "code",
   "execution_count": 16,
   "metadata": {},
   "outputs": [],
   "source": [
    "# !pip install pyspellchecker"
   ]
  },
  {
   "cell_type": "code",
   "execution_count": 1,
   "metadata": {},
   "outputs": [],
   "source": [
    "# Import general purpose libraries \n",
    "import re\n",
    "import time\n",
    "import pandas as pd\n",
    "import numpy as np\n",
    "import seaborn as sns\n",
    "import matplotlib.pyplot as plt\n",
    "from collections import Counter\n",
    "from datetime import datetime\n",
    "import warnings\n",
    "\n",
    "# Import Pre-Processing Tools\n",
    "from imblearn.over_sampling import SMOTE\n",
    "from imblearn.under_sampling import RandomUnderSampler\n",
    "from imblearn.pipeline import Pipeline\n",
    "warnings.filterwarnings(\"ignore\") \n",
    "\n",
    "# Set Pandas options\n",
    "pd.set_option('display.max_columns', 200)\n",
    "pd.set_option('display.max_colwidth', 300)\n",
    "pd.set_option(\"display.precision\", 2)"
   ]
  },
  {
   "cell_type": "code",
   "execution_count": null,
   "metadata": {},
   "outputs": [],
   "source": [
    "# nltk packages\n",
    "import nltk\n",
    "import ssl\n",
    "\n",
    "\"\"\" Download all nltk packages through external ssl\"\"\"\n",
    "try:\n",
    "    _create_unverified_https_context = ssl._create_unverified_context\n",
    "except AttributeError:\n",
    "    pass\n",
    "else:\n",
    "    ssl._create_default_https_context = _create_unverified_https_context\n",
    "\n",
    "nltk.download('stopwords')\n",
    "nltk.download('punkt')\n",
    "nltk.download('averaged_perceptron_tagger')\n",
    "nltk.download('wordnet')\n",
    "nltk.download('omw-1.4')\n",
    "\n"
   ]
  },
  {
   "cell_type": "code",
   "execution_count": 10,
   "metadata": {},
   "outputs": [],
   "source": [
    "# nltk libraries\n",
    "from nltk.corpus import stopwords \n",
    "from nltk import FreqDist\n",
    "from nltk.tokenize import word_tokenize\n",
    "from nltk.stem.wordnet import WordNetLemmatizer\n",
    "from nltk.corpus import wordnet as wn"
   ]
  },
  {
   "cell_type": "code",
   "execution_count": 12,
   "metadata": {},
   "outputs": [],
   "source": [
    "# ML Modelling Libraries\n",
    "\n",
    "from sklearn.model_selection import train_test_split\n",
    "from sklearn.feature_extraction.text import CountVectorizer, TfidfVectorizer\n",
    "from sklearn.linear_model import LogisticRegression\n",
    "from sklearn.ensemble import RandomForestClassifier\n",
    "from sklearn.metrics import accuracy_score\n",
    "from sklearn.metrics import confusion_matrix, classification_report, roc_auc_score"
   ]
  },
  {
   "cell_type": "code",
   "execution_count": 24,
   "metadata": {},
   "outputs": [],
   "source": [
    "# import sklearn\n",
    "# print(sklearn.__version__) #1.0.2\n",
    "# print(np.__version__) #1.22.4\n",
    "# print(pd.__version__) #1.3.5\n",
    "# print(nltk.__version__) #3.8.1"
   ]
  },
  {
   "cell_type": "code",
   "execution_count": 107,
   "metadata": {},
   "outputs": [
    {
     "data": {
      "text/plain": [
       "(30000, 15)"
      ]
     },
     "execution_count": 107,
     "metadata": {},
     "output_type": "execute_result"
    }
   ],
   "source": [
    "import os\n",
    "cwd = os.getcwd()\n",
    "df_reviews = pd.read_csv(cwd + \"/user_reviews.csv\", parse_dates= ['reviews_date'])\n",
    "df_reviews.shape"
   ]
  },
  {
   "cell_type": "code",
   "execution_count": 117,
   "metadata": {},
   "outputs": [
    {
     "data": {
      "text/html": [
       "<div>\n",
       "<style scoped>\n",
       "    .dataframe tbody tr th:only-of-type {\n",
       "        vertical-align: middle;\n",
       "    }\n",
       "\n",
       "    .dataframe tbody tr th {\n",
       "        vertical-align: top;\n",
       "    }\n",
       "\n",
       "    .dataframe thead th {\n",
       "        text-align: right;\n",
       "    }\n",
       "</style>\n",
       "<table border=\"1\" class=\"dataframe\">\n",
       "  <thead>\n",
       "    <tr style=\"text-align: right;\">\n",
       "      <th></th>\n",
       "      <th>id</th>\n",
       "      <th>brand</th>\n",
       "      <th>categories</th>\n",
       "      <th>manufacturer</th>\n",
       "      <th>name</th>\n",
       "      <th>reviews_date</th>\n",
       "      <th>reviews_didPurchase</th>\n",
       "      <th>reviews_doRecommend</th>\n",
       "      <th>reviews_rating</th>\n",
       "      <th>reviews_text</th>\n",
       "      <th>reviews_title</th>\n",
       "      <th>reviews_userCity</th>\n",
       "      <th>reviews_userProvince</th>\n",
       "      <th>reviews_username</th>\n",
       "      <th>user_sentiment</th>\n",
       "    </tr>\n",
       "  </thead>\n",
       "  <tbody>\n",
       "    <tr>\n",
       "      <th>29575</th>\n",
       "      <td>AVpfW8y_LJeJML437ySW</td>\n",
       "      <td>L'oreal Paris</td>\n",
       "      <td>Beauty,Hair Care,Shampoo &amp; Conditioner,Holiday Shop,Christmas,Featured Brands,Health &amp; Beauty,L'oreal,Personal Care,Hair Treatments,Conditioner</td>\n",
       "      <td>L'oreal Paris</td>\n",
       "      <td>L'or233al Paris Elvive Extraordinary Clay Rebalancing Conditioner - 12.6 Fl Oz</td>\n",
       "      <td>2017-01-25T16:57:13.000Z</td>\n",
       "      <td>NaN</td>\n",
       "      <td>True</td>\n",
       "      <td>4</td>\n",
       "      <td>Great conditioner in general with quality on par w/ L'Oreal brand. I wish it was as effective as it claims to be since I was so excited to try it thanks to Influenster. I have sensitive hair with oily roots and dry ends from curling iron, blow dryer, etc. So I was expecting this to work and save...</td>\n",
       "      <td>Smells Great; A Little Goes A Long Way!</td>\n",
       "      <td>Yonkers</td>\n",
       "      <td>NaN</td>\n",
       "      <td>skyy</td>\n",
       "      <td>Positive</td>\n",
       "    </tr>\n",
       "  </tbody>\n",
       "</table>\n",
       "</div>"
      ],
      "text/plain": [
       "                         id          brand  \\\n",
       "29575  AVpfW8y_LJeJML437ySW  L'oreal Paris   \n",
       "\n",
       "                                                                                                                                            categories  \\\n",
       "29575  Beauty,Hair Care,Shampoo & Conditioner,Holiday Shop,Christmas,Featured Brands,Health & Beauty,L'oreal,Personal Care,Hair Treatments,Conditioner   \n",
       "\n",
       "        manufacturer  \\\n",
       "29575  L'oreal Paris   \n",
       "\n",
       "                                                                                 name  \\\n",
       "29575  L'or233al Paris Elvive Extraordinary Clay Rebalancing Conditioner - 12.6 Fl Oz   \n",
       "\n",
       "                   reviews_date reviews_didPurchase reviews_doRecommend  \\\n",
       "29575  2017-01-25T16:57:13.000Z                 NaN                True   \n",
       "\n",
       "       reviews_rating  \\\n",
       "29575               4   \n",
       "\n",
       "                                                                                                                                                                                                                                                                                                      reviews_text  \\\n",
       "29575  Great conditioner in general with quality on par w/ L'Oreal brand. I wish it was as effective as it claims to be since I was so excited to try it thanks to Influenster. I have sensitive hair with oily roots and dry ends from curling iron, blow dryer, etc. So I was expecting this to work and save...   \n",
       "\n",
       "                                 reviews_title reviews_userCity  \\\n",
       "29575  Smells Great; A Little Goes A Long Way!          Yonkers   \n",
       "\n",
       "      reviews_userProvince reviews_username user_sentiment  \n",
       "29575                  NaN             skyy       Positive  "
      ]
     },
     "execution_count": 117,
     "metadata": {},
     "output_type": "execute_result"
    }
   ],
   "source": [
    "df_reviews.sample(1)"
   ]
  },
  {
   "cell_type": "code",
   "execution_count": 118,
   "metadata": {},
   "outputs": [
    {
     "name": "stdout",
     "output_type": "stream",
     "text": [
      "<class 'pandas.core.frame.DataFrame'>\n",
      "RangeIndex: 30000 entries, 0 to 29999\n",
      "Data columns (total 15 columns):\n",
      " #   Column                Non-Null Count  Dtype \n",
      "---  ------                --------------  ----- \n",
      " 0   id                    30000 non-null  object\n",
      " 1   brand                 30000 non-null  object\n",
      " 2   categories            30000 non-null  object\n",
      " 3   manufacturer          29859 non-null  object\n",
      " 4   name                  30000 non-null  object\n",
      " 5   reviews_date          29954 non-null  object\n",
      " 6   reviews_didPurchase   15932 non-null  object\n",
      " 7   reviews_doRecommend   27430 non-null  object\n",
      " 8   reviews_rating        30000 non-null  int64 \n",
      " 9   reviews_text          30000 non-null  object\n",
      " 10  reviews_title         29810 non-null  object\n",
      " 11  reviews_userCity      1929 non-null   object\n",
      " 12  reviews_userProvince  170 non-null    object\n",
      " 13  reviews_username      29937 non-null  object\n",
      " 14  user_sentiment        29999 non-null  object\n",
      "dtypes: int64(1), object(14)\n",
      "memory usage: 3.4+ MB\n"
     ]
    }
   ],
   "source": [
    "#Inspect the dataframe to understand the given data\n",
    "df_reviews.info()"
   ]
  },
  {
   "attachments": {},
   "cell_type": "markdown",
   "metadata": {},
   "source": [
    "* There are many columns with NULL values, we will handle them later.\n",
    "* First step is to eliminate some columns as part of our analysis for Sentiment and Recommender models.We will inspect them and remove them later."
   ]
  },
  {
   "attachments": {},
   "cell_type": "markdown",
   "metadata": {},
   "source": [
    "### Exploratory Data Analysis(EDA) - Data Cleaning and Pre-Processing"
   ]
  },
  {
   "cell_type": "code",
   "execution_count": 120,
   "metadata": {},
   "outputs": [
    {
     "data": {
      "text/html": [
       "<div>\n",
       "<style scoped>\n",
       "    .dataframe tbody tr th:only-of-type {\n",
       "        vertical-align: middle;\n",
       "    }\n",
       "\n",
       "    .dataframe tbody tr th {\n",
       "        vertical-align: top;\n",
       "    }\n",
       "\n",
       "    .dataframe thead th {\n",
       "        text-align: right;\n",
       "    }\n",
       "</style>\n",
       "<table border=\"1\" class=\"dataframe\">\n",
       "  <thead>\n",
       "    <tr style=\"text-align: right;\">\n",
       "      <th></th>\n",
       "      <th>Columns</th>\n",
       "      <th>Count</th>\n",
       "      <th>Percent</th>\n",
       "    </tr>\n",
       "  </thead>\n",
       "  <tbody>\n",
       "    <tr>\n",
       "      <th>12</th>\n",
       "      <td>reviews_userProvince</td>\n",
       "      <td>29830</td>\n",
       "      <td>99.43</td>\n",
       "    </tr>\n",
       "    <tr>\n",
       "      <th>11</th>\n",
       "      <td>reviews_userCity</td>\n",
       "      <td>28071</td>\n",
       "      <td>93.57</td>\n",
       "    </tr>\n",
       "    <tr>\n",
       "      <th>6</th>\n",
       "      <td>reviews_didPurchase</td>\n",
       "      <td>14068</td>\n",
       "      <td>46.89</td>\n",
       "    </tr>\n",
       "    <tr>\n",
       "      <th>7</th>\n",
       "      <td>reviews_doRecommend</td>\n",
       "      <td>2570</td>\n",
       "      <td>8.57</td>\n",
       "    </tr>\n",
       "    <tr>\n",
       "      <th>10</th>\n",
       "      <td>reviews_title</td>\n",
       "      <td>190</td>\n",
       "      <td>0.63</td>\n",
       "    </tr>\n",
       "    <tr>\n",
       "      <th>3</th>\n",
       "      <td>manufacturer</td>\n",
       "      <td>141</td>\n",
       "      <td>0.47</td>\n",
       "    </tr>\n",
       "    <tr>\n",
       "      <th>13</th>\n",
       "      <td>reviews_username</td>\n",
       "      <td>63</td>\n",
       "      <td>0.21</td>\n",
       "    </tr>\n",
       "    <tr>\n",
       "      <th>5</th>\n",
       "      <td>reviews_date</td>\n",
       "      <td>46</td>\n",
       "      <td>0.15</td>\n",
       "    </tr>\n",
       "    <tr>\n",
       "      <th>0</th>\n",
       "      <td>id</td>\n",
       "      <td>0</td>\n",
       "      <td>0.00</td>\n",
       "    </tr>\n",
       "    <tr>\n",
       "      <th>1</th>\n",
       "      <td>brand</td>\n",
       "      <td>0</td>\n",
       "      <td>0.00</td>\n",
       "    </tr>\n",
       "    <tr>\n",
       "      <th>2</th>\n",
       "      <td>categories</td>\n",
       "      <td>0</td>\n",
       "      <td>0.00</td>\n",
       "    </tr>\n",
       "    <tr>\n",
       "      <th>4</th>\n",
       "      <td>name</td>\n",
       "      <td>0</td>\n",
       "      <td>0.00</td>\n",
       "    </tr>\n",
       "    <tr>\n",
       "      <th>8</th>\n",
       "      <td>reviews_rating</td>\n",
       "      <td>0</td>\n",
       "      <td>0.00</td>\n",
       "    </tr>\n",
       "    <tr>\n",
       "      <th>9</th>\n",
       "      <td>reviews_text</td>\n",
       "      <td>0</td>\n",
       "      <td>0.00</td>\n",
       "    </tr>\n",
       "    <tr>\n",
       "      <th>14</th>\n",
       "      <td>user_sentiment</td>\n",
       "      <td>1</td>\n",
       "      <td>0.00</td>\n",
       "    </tr>\n",
       "  </tbody>\n",
       "</table>\n",
       "</div>"
      ],
      "text/plain": [
       "                 Columns  Count  Percent\n",
       "12  reviews_userProvince  29830    99.43\n",
       "11      reviews_userCity  28071    93.57\n",
       "6    reviews_didPurchase  14068    46.89\n",
       "7    reviews_doRecommend   2570     8.57\n",
       "10         reviews_title    190     0.63\n",
       "3           manufacturer    141     0.47\n",
       "13      reviews_username     63     0.21\n",
       "5           reviews_date     46     0.15\n",
       "0                     id      0     0.00\n",
       "1                  brand      0     0.00\n",
       "2             categories      0     0.00\n",
       "4                   name      0     0.00\n",
       "8         reviews_rating      0     0.00\n",
       "9           reviews_text      0     0.00\n",
       "14        user_sentiment      1     0.00"
      ]
     },
     "execution_count": 120,
     "metadata": {},
     "output_type": "execute_result"
    }
   ],
   "source": [
    "def calc_missing_rowcount(df):\n",
    "    columns = df.columns\n",
    "    null_count = [df[col].isnull().sum() for col in columns]\n",
    "    null_perc = [round((val/df.shape[0]) * 100,2) for val in null_count]\n",
    "    _df = pd.DataFrame({'Columns':np.array(columns),\n",
    "                        'Count': np.array(null_count),\n",
    "                        'Percent':np.array(null_perc)})\n",
    "    # If round is not an option, formatting options in pandas and numpy will \n",
    "    # pd.options.display.float_format = '{:.2f}'.format\n",
    "    # np.set_printoptions(suppress=True)\n",
    "                            \n",
    "    return _df.sort_values(\"Percent\",ascending=False)\n",
    "calc_missing_rowcount(df_reviews)\n",
    "\n"
   ]
  },
  {
   "attachments": {},
   "cell_type": "markdown",
   "metadata": {},
   "source": [
    "#### Observations:\n",
    "**reviews_userProvince** and **reviews_userCity** have over 93% NULL values and are not useful for analysis. We will remove them from the dataset.\n",
    "\n",
    "**reviews_didPurchase** column has over 46% NULL values. This field is not useful in building either Sentiment/Recommender system as well and will be removed.\n",
    "\n",
    "Removing reviews_userProvince, reviews_userCity and reviews_didPurchase from the dataset¶\n"
   ]
  },
  {
   "cell_type": "code",
   "execution_count": 121,
   "metadata": {},
   "outputs": [
    {
     "data": {
      "text/plain": [
       "(30000, 12)"
      ]
     },
     "execution_count": 121,
     "metadata": {},
     "output_type": "execute_result"
    }
   ],
   "source": [
    "df_clean = df_reviews.copy()\n",
    "df_clean.drop(columns=['reviews_userProvince','reviews_userCity','reviews_didPurchase'],\n",
    "                inplace=True)\n",
    "df_clean.shape"
   ]
  },
  {
   "attachments": {},
   "cell_type": "markdown",
   "metadata": {},
   "source": [
    "Checking reviews_doRecommend column¶\n"
   ]
  },
  {
   "cell_type": "code",
   "execution_count": 122,
   "metadata": {},
   "outputs": [
    {
     "name": "stdout",
     "output_type": "stream",
     "text": [
      "True     25880\n",
      "False     1550\n",
      "Name: reviews_doRecommend, dtype: int64\n",
      "True    0.94\n",
      "False   0.06\n",
      "Name: reviews_doRecommend, dtype: float64\n"
     ]
    }
   ],
   "source": [
    "print(df_clean.reviews_doRecommend.value_counts()\n",
    ")\n",
    "print(df_clean.reviews_doRecommend.value_counts(normalize=True)\n",
    ")"
   ]
  },
  {
   "cell_type": "code",
   "execution_count": 123,
   "metadata": {},
   "outputs": [
    {
     "data": {
      "image/png": "[encoded data removed]",
      "text/plain": [
       "<Figure size 432x288 with 1 Axes>"
      ]
     },
     "metadata": {
      "needs_background": "light"
     },
     "output_type": "display_data"
    }
   ],
   "source": [
    "sns.countplot(x = 'reviews_doRecommend', data = df_clean)\n",
    "plt.show()"
   ]
  },
  {
   "attachments": {},
   "cell_type": "markdown",
   "metadata": {},
   "source": [
    "Looking at the distribution of reviews_doRecommend column, we can see that more than 94% of the data is having True value. Hence, the column does not provide any useful information for the model to learn. We will drop this field"
   ]
  },
  {
   "cell_type": "code",
   "execution_count": 124,
   "metadata": {},
   "outputs": [],
   "source": [
    "df_clean.drop(columns=['reviews_doRecommend'], inplace=True)\n"
   ]
  },
  {
   "cell_type": "code",
   "execution_count": 125,
   "metadata": {},
   "outputs": [
    {
     "data": {
      "text/plain": [
       "(30000, 11)"
      ]
     },
     "execution_count": 125,
     "metadata": {},
     "output_type": "execute_result"
    }
   ],
   "source": [
    "df_clean.shape"
   ]
  },
  {
   "attachments": {},
   "cell_type": "markdown",
   "metadata": {},
   "source": [
    "**Handling NULL values in reviews_title**\n",
    "\n",
    "This column is an important component for our analysis as it contains the title of the review given by the user to a particular product. Since the NULL percentage is only 0.633%, we will remove these rows from the dataset.\n",
    "\n",
    "\n",
    "\n"
   ]
  },
  {
   "cell_type": "code",
   "execution_count": 126,
   "metadata": {},
   "outputs": [
    {
     "data": {
      "text/plain": [
       "(29810, 11)"
      ]
     },
     "execution_count": 126,
     "metadata": {},
     "output_type": "execute_result"
    }
   ],
   "source": [
    "df_clean = df_clean[~ df_clean.reviews_title.isna() ]\n",
    "df_clean.shape\n"
   ]
  },
  {
   "attachments": {},
   "cell_type": "markdown",
   "metadata": {},
   "source": [
    "**Handling NULL values in reviews_username**\n",
    "\n",
    "This column is an important component for our analysis as it contains the unique identification for individual user in the dataset. Since the NULL percentage is only 0.20%, we will remove these rows from the dataset."
   ]
  },
  {
   "cell_type": "code",
   "execution_count": 127,
   "metadata": {},
   "outputs": [
    {
     "data": {
      "text/plain": [
       "(29748, 11)"
      ]
     },
     "execution_count": 127,
     "metadata": {},
     "output_type": "execute_result"
    }
   ],
   "source": [
    "df_clean = df_clean[~ df_clean.reviews_username.isna() ]\n",
    "df_clean.shape"
   ]
  },
  {
   "attachments": {},
   "cell_type": "markdown",
   "metadata": {},
   "source": [
    "**Handling NULL values in user_sentiment**"
   ]
  },
  {
   "cell_type": "code",
   "execution_count": 128,
   "metadata": {},
   "outputs": [
    {
     "data": {
      "text/plain": [
       "Positive    26412\n",
       "Negative     3335\n",
       "Name: user_sentiment, dtype: int64"
      ]
     },
     "execution_count": 128,
     "metadata": {},
     "output_type": "execute_result"
    }
   ],
   "source": [
    "df_clean.user_sentiment.value_counts()\n"
   ]
  },
  {
   "cell_type": "code",
   "execution_count": 129,
   "metadata": {},
   "outputs": [
    {
     "data": {
      "text/html": [
       "<div>\n",
       "<style scoped>\n",
       "    .dataframe tbody tr th:only-of-type {\n",
       "        vertical-align: middle;\n",
       "    }\n",
       "\n",
       "    .dataframe tbody tr th {\n",
       "        vertical-align: top;\n",
       "    }\n",
       "\n",
       "    .dataframe thead th {\n",
       "        text-align: right;\n",
       "    }\n",
       "</style>\n",
       "<table border=\"1\" class=\"dataframe\">\n",
       "  <thead>\n",
       "    <tr style=\"text-align: right;\">\n",
       "      <th></th>\n",
       "      <th>id</th>\n",
       "      <th>brand</th>\n",
       "      <th>categories</th>\n",
       "      <th>manufacturer</th>\n",
       "      <th>name</th>\n",
       "      <th>reviews_date</th>\n",
       "      <th>reviews_rating</th>\n",
       "      <th>reviews_text</th>\n",
       "      <th>reviews_title</th>\n",
       "      <th>reviews_username</th>\n",
       "      <th>user_sentiment</th>\n",
       "    </tr>\n",
       "  </thead>\n",
       "  <tbody>\n",
       "    <tr>\n",
       "      <th>28354</th>\n",
       "      <td>AVpfRTh1ilAPnD_xYic2</td>\n",
       "      <td>Disney</td>\n",
       "      <td>Movies, Music &amp; Books,Movies,Kids' &amp; Family,Ways To Shop Entertainment,Movies &amp; Tv On Blu-Ray,Movies &amp; TV,Disney,Blu-ray,Children &amp; Family,Movies &amp; Music,Movies &amp; TV Shows,Electronics, Tech Toys, Movies, Music,Blu-Rays,See ALL Blu-Ray,Frys</td>\n",
       "      <td>Walt Disney</td>\n",
       "      <td>Planes: Fire Rescue (2 Discs) (includes Digital Copy) (blu-Ray/dvd)</td>\n",
       "      <td>2014-11-07T00:00:00.000Z</td>\n",
       "      <td>5</td>\n",
       "      <td>my kids absolutely loved this film so much that we watched it twice. Having a digital copy means that every time we get in the car we get to watch it wherever we go. we even got to use our $5 reward coupon towards the purchase of this movie so we got an additional $5 off + we got to add the poin...</td>\n",
       "      <td>a super hit with my children. they loved it!!??</td>\n",
       "      <td>7.87E+11</td>\n",
       "      <td>NaN</td>\n",
       "    </tr>\n",
       "  </tbody>\n",
       "</table>\n",
       "</div>"
      ],
      "text/plain": [
       "                         id   brand  \\\n",
       "28354  AVpfRTh1ilAPnD_xYic2  Disney   \n",
       "\n",
       "                                                                                                                                                                                                                                            categories  \\\n",
       "28354  Movies, Music & Books,Movies,Kids' & Family,Ways To Shop Entertainment,Movies & Tv On Blu-Ray,Movies & TV,Disney,Blu-ray,Children & Family,Movies & Music,Movies & TV Shows,Electronics, Tech Toys, Movies, Music,Blu-Rays,See ALL Blu-Ray,Frys   \n",
       "\n",
       "      manufacturer  \\\n",
       "28354  Walt Disney   \n",
       "\n",
       "                                                                      name  \\\n",
       "28354  Planes: Fire Rescue (2 Discs) (includes Digital Copy) (blu-Ray/dvd)   \n",
       "\n",
       "                   reviews_date  reviews_rating  \\\n",
       "28354  2014-11-07T00:00:00.000Z               5   \n",
       "\n",
       "                                                                                                                                                                                                                                                                                                      reviews_text  \\\n",
       "28354  my kids absolutely loved this film so much that we watched it twice. Having a digital copy means that every time we get in the car we get to watch it wherever we go. we even got to use our $5 reward coupon towards the purchase of this movie so we got an additional $5 off + we got to add the poin...   \n",
       "\n",
       "                                         reviews_title reviews_username  \\\n",
       "28354  a super hit with my children. they loved it!!??         7.87E+11   \n",
       "\n",
       "      user_sentiment  \n",
       "28354            NaN  "
      ]
     },
     "execution_count": 129,
     "metadata": {},
     "output_type": "execute_result"
    }
   ],
   "source": [
    "df_clean[ df_clean.user_sentiment.isna() ]\n"
   ]
  },
  {
   "attachments": {},
   "cell_type": "markdown",
   "metadata": {},
   "source": [
    "As there is only one record with missing data for user_sentiment, we will read the record manually and update the value.\n",
    "\n",
    "From reading the review title and rating, we can see that the overall sentiment is positive. So, we will update the value as Positive for this particular record with NaN."
   ]
  },
  {
   "cell_type": "code",
   "execution_count": 130,
   "metadata": {},
   "outputs": [],
   "source": [
    "df_clean.user_sentiment.fillna('Positive', inplace=True)\n"
   ]
  },
  {
   "attachments": {},
   "cell_type": "markdown",
   "metadata": {},
   "source": [
    "As the columns manufacturer and reviews_date are not needed for both Sentiment and Recommender models we don't need to handle the NULL values for them."
   ]
  },
  {
   "cell_type": "code",
   "execution_count": 142,
   "metadata": {},
   "outputs": [
    {
     "data": {
      "text/html": [
       "<div>\n",
       "<style scoped>\n",
       "    .dataframe tbody tr th:only-of-type {\n",
       "        vertical-align: middle;\n",
       "    }\n",
       "\n",
       "    .dataframe tbody tr th {\n",
       "        vertical-align: top;\n",
       "    }\n",
       "\n",
       "    .dataframe thead th {\n",
       "        text-align: right;\n",
       "    }\n",
       "</style>\n",
       "<table border=\"1\" class=\"dataframe\">\n",
       "  <thead>\n",
       "    <tr style=\"text-align: right;\">\n",
       "      <th></th>\n",
       "      <th>id</th>\n",
       "      <th>brand</th>\n",
       "      <th>categories</th>\n",
       "      <th>manufacturer</th>\n",
       "      <th>name</th>\n",
       "      <th>reviews_date</th>\n",
       "      <th>reviews_rating</th>\n",
       "      <th>reviews_text</th>\n",
       "      <th>reviews_title</th>\n",
       "      <th>reviews_username</th>\n",
       "      <th>user_sentiment</th>\n",
       "    </tr>\n",
       "  </thead>\n",
       "  <tbody>\n",
       "    <tr>\n",
       "      <th>23365</th>\n",
       "      <td>AVpfPaoqLJeJML435Xk9</td>\n",
       "      <td>Warner Home Video</td>\n",
       "      <td>Movies, Music &amp; Books,Movies,Action &amp; Adventure,Movies &amp; Music,Movies &amp; TV Shows,Frys</td>\n",
       "      <td>Test</td>\n",
       "      <td>Godzilla 3d Includes Digital Copy Ultraviolet 3d/2d Blu-Ray/dvd</td>\n",
       "      <td>2015-05-18T00:00:00.000Z</td>\n",
       "      <td>4</td>\n",
       "      <td>I had to get it. Its a new take on the classic version. I love blu-ray and a free digital copy. WOW</td>\n",
       "      <td>GODZILLA</td>\n",
       "      <td>amazing</td>\n",
       "      <td>Positive</td>\n",
       "    </tr>\n",
       "  </tbody>\n",
       "</table>\n",
       "</div>"
      ],
      "text/plain": [
       "                         id              brand  \\\n",
       "23365  AVpfPaoqLJeJML435Xk9  Warner Home Video   \n",
       "\n",
       "                                                                                  categories  \\\n",
       "23365  Movies, Music & Books,Movies,Action & Adventure,Movies & Music,Movies & TV Shows,Frys   \n",
       "\n",
       "      manufacturer  \\\n",
       "23365         Test   \n",
       "\n",
       "                                                                  name  \\\n",
       "23365  Godzilla 3d Includes Digital Copy Ultraviolet 3d/2d Blu-Ray/dvd   \n",
       "\n",
       "                   reviews_date  reviews_rating  \\\n",
       "23365  2015-05-18T00:00:00.000Z               4   \n",
       "\n",
       "                                                                                              reviews_text  \\\n",
       "23365  I had to get it. Its a new take on the classic version. I love blu-ray and a free digital copy. WOW   \n",
       "\n",
       "      reviews_title reviews_username user_sentiment  \n",
       "23365      GODZILLA          amazing       Positive  "
      ]
     },
     "execution_count": 142,
     "metadata": {},
     "output_type": "execute_result"
    }
   ],
   "source": [
    "# Check the data for top 5 rows\n",
    "df_clean.sample(1)"
   ]
  },
  {
   "attachments": {},
   "cell_type": "markdown",
   "metadata": {},
   "source": [
    "#### Target Analysis"
   ]
  },
  {
   "cell_type": "code",
   "execution_count": 143,
   "metadata": {},
   "outputs": [],
   "source": [
    "# map the categorical user_sentiment to numerical 1 or 0 for modelling\n",
    "df_clean['user_sentiment'] = df_reviews['user_sentiment'].map({'Positive':1,'Negative':0})"
   ]
  },
  {
   "cell_type": "code",
   "execution_count": 156,
   "metadata": {},
   "outputs": [
    {
     "data": {
      "text/plain": [
       "<AxesSubplot:xlabel='user_sentiment', ylabel='count'>"
      ]
     },
     "execution_count": 156,
     "metadata": {},
     "output_type": "execute_result"
    },
    {
     "data": {
      "image/png": "[encoded data removed]",
      "text/plain": [
       "<Figure size 432x288 with 1 Axes>"
      ]
     },
     "metadata": {
      "needs_background": "light"
     },
     "output_type": "display_data"
    }
   ],
   "source": [
    "sns.countplot(x='user_sentiment',\n",
    "              data=df_clean,\n",
    "              palette='Set2')"
   ]
  },
  {
   "cell_type": "code",
   "execution_count": 160,
   "metadata": {},
   "outputs": [
    {
     "data": {
      "text/plain": [
       "Index(['id', 'brand', 'categories', 'manufacturer', 'name', 'reviews_date',\n",
       "       'reviews_rating', 'reviews_text', 'reviews_title', 'reviews_username',\n",
       "       'user_sentiment'],\n",
       "      dtype='object')"
      ]
     },
     "execution_count": 160,
     "metadata": {},
     "output_type": "execute_result"
    }
   ],
   "source": [
    "df_clean.columns"
   ]
  },
  {
   "cell_type": "code",
   "execution_count": 192,
   "metadata": {},
   "outputs": [
    {
     "data": {
      "text/plain": [
       "{'Clorox': 10564,\n",
       " 'Warner Home Video': 3324,\n",
       " 'Disney': 1197,\n",
       " \"L'oreal Paris\": 1186,\n",
       " 'FOX': 887,\n",
       " \"Burt's Bees\": 881,\n",
       " 'Sony Pictures': 845,\n",
       " 'Summit Entertainment': 813,\n",
       " 'Nexxus': 691,\n",
       " 'Universal Home Video': 668,\n",
       " 'Olay': 637,\n",
       " 'Warner Bros.': 458,\n",
       " 'Lundberg': 414,\n",
       " 'Clear Scalp & Hair Therapy': 370,\n",
       " 'Hoover': 349,\n",
       " 'Windex': 348,\n",
       " 'Avery': 314,\n",
       " 'Pendaflex': 310,\n",
       " 'Aveeno': 302,\n",
       " 'Tostitos': 286,\n",
       " 'Storkcraft': 264,\n",
       " 'Vaseline': 253,\n",
       " 'Just For Men': 224,\n",
       " 'Warner Music Group': 204,\n",
       " 'Hormel': 196,\n",
       " 'Lionsgate': 186,\n",
       " \"Chester's\": 177,\n",
       " 'Coty': 158,\n",
       " 'Lysol': 155,\n",
       " 'Pantene': 154,\n",
       " 'Pleasant Hearth': 110,\n",
       " 'Cuisinart': 103,\n",
       " 'Bisquick': 96,\n",
       " 'Vicks': 96,\n",
       " \"L'Oreal Paris\": 94,\n",
       " 'Head & Shoulders': 92,\n",
       " 'Aussie': 89,\n",
       " 'Bounce': 87,\n",
       " 'Banana Boat': 72,\n",
       " 'Chips Ahoy': 69,\n",
       " 'Caress': 68,\n",
       " 'Yes to Carrots': 63,\n",
       " 'Cheetos': 60,\n",
       " 'Ragu': 59,\n",
       " 'TRESemme': 57,\n",
       " 'Axe': 57,\n",
       " 'Suave': 50,\n",
       " 'Meguiars': 49,\n",
       " 'Orajel': 46,\n",
       " \"Mrs. Meyer's\": 44,\n",
       " 'Canada Dry': 43,\n",
       " 'Finish': 42,\n",
       " 'Sony Music': 39,\n",
       " 'Power Crunch': 39,\n",
       " 'Yes to Grapefruit': 39,\n",
       " 'Kraus': 37,\n",
       " 'Australian Gold': 34,\n",
       " 'Holmes': 32,\n",
       " 'UMGD': 32,\n",
       " 'Ogx': 30,\n",
       " 'ANCHOR BAY': 30,\n",
       " 'Chex': 29,\n",
       " 'K-Y': 27,\n",
       " 'Tree Hut': 27,\n",
       " 'Jolly Time': 27,\n",
       " 'Maaya Home': 27,\n",
       " \"STACY'S\": 26,\n",
       " 'CeraVe': 25,\n",
       " 'Chobani': 25,\n",
       " 'Super PoliGrip': 24,\n",
       " 'Delta Faucet': 24,\n",
       " 'Shea Moisture': 24,\n",
       " 'Hawaiian Punch': 22,\n",
       " 'Target.com Use Only': 20,\n",
       " 'Tai Pei': 20,\n",
       " 'Arrid': 18,\n",
       " 'The Honest Company': 18,\n",
       " 'KIND': 17,\n",
       " \"Physician's Formula\": 17,\n",
       " 'Iman': 16,\n",
       " 'Sizzix': 16,\n",
       " 'MaraNatha': 15,\n",
       " 'Eagle Brand': 15,\n",
       " 'Honeywell': 15,\n",
       " \"Johnson's\": 14,\n",
       " 'Neutrogena': 14,\n",
       " 'Solo Foods': 13,\n",
       " 'Sabra': 13,\n",
       " 'Care Free Curl': 13,\n",
       " 'Creme Of Nature': 12,\n",
       " 'Lionsgate Home Entertainment': 12,\n",
       " 'Progresso': 11,\n",
       " 'Stander': 11,\n",
       " 'All-Bran': 11,\n",
       " 'Trend Lab': 11,\n",
       " 'Lush Decor': 11,\n",
       " \"Ben & Jerry's\": 11,\n",
       " 'Way Basics': 10,\n",
       " \"Newman's Own\": 10,\n",
       " 'UNIVERSAL HOME ENTERTAINMENT': 10,\n",
       " 'Bumble Bee': 9,\n",
       " 'Nearly Natural': 9,\n",
       " 'Happy Family': 9,\n",
       " 'Nielsen': 9,\n",
       " 'J.a. Henckels': 9,\n",
       " 'Jergens': 9,\n",
       " 'Queen Helene': 9,\n",
       " 'Baxter of California': 8,\n",
       " 'SC Johnson': 8,\n",
       " 'Pioneer': 8,\n",
       " 'Nojo': 8,\n",
       " 'Kohler': 8,\n",
       " 'Weleda': 8,\n",
       " 'Feit': 8,\n",
       " 'Spam': 8,\n",
       " 'Concept Housewares': 8,\n",
       " 'Barielle': 8,\n",
       " 'Cetaphil': 7,\n",
       " \"Annie's\": 7,\n",
       " 'D-Con': 7,\n",
       " 'Starbucks': 7,\n",
       " 'Sony': 7,\n",
       " \"Musselman's\": 7,\n",
       " 'J.R. Watkins': 6,\n",
       " 'Sea Gull Lighting': 6,\n",
       " 'Pinaud': 6,\n",
       " 'Smead': 6,\n",
       " 'South Shore': 6,\n",
       " \"Africa's Best\": 6,\n",
       " 'Gain': 6,\n",
       " 'Warner Manufacturing': 6,\n",
       " 'JLA Home': 6,\n",
       " \"Lay's\": 6,\n",
       " 'Hollywood Beauty': 6,\n",
       " '4C Foods': 6,\n",
       " 'Bedtime Originals': 6,\n",
       " 'Wagan': 5,\n",
       " 'Plano': 5,\n",
       " 'Kikkoman': 5,\n",
       " 'Era': 5,\n",
       " 'Reebok': 5,\n",
       " 'AMBI': 4,\n",
       " 'Simple Green': 4,\n",
       " 'Dermalogica': 4,\n",
       " 'Home Health': 4,\n",
       " 'Fiskars': 4,\n",
       " 'Voortman': 4,\n",
       " 'Cantu': 4,\n",
       " 'Brownline': 4,\n",
       " 'Alberto VO5': 3,\n",
       " 'Toy Story': 3,\n",
       " 'Chips Deluxe': 3,\n",
       " 'Tramontina': 3,\n",
       " 'Lynk': 3,\n",
       " 'Cococare': 3,\n",
       " 'Maybelline': 3,\n",
       " 'No Brand': 2,\n",
       " 'The Seaweed Bath Co.': 2,\n",
       " 'Biokleen': 2,\n",
       " 'Lite Source': 2,\n",
       " 'Calvin Klein': 2,\n",
       " 'COOLA': 2,\n",
       " 'RC Cola': 2,\n",
       " 'Plum Organics': 2,\n",
       " 'Tim Holtz': 2,\n",
       " 'Hunter Fan': 2,\n",
       " 'Universal Music': 1,\n",
       " 'Heinz': 1,\n",
       " 'Jake And The Neverland Pirates': 1,\n",
       " 'Pearhead': 1,\n",
       " 'Citrus Magic': 1,\n",
       " 'La Tortilla Factory': 1,\n",
       " \"Herr's\": 1,\n",
       " \"Nature's Path\": 1,\n",
       " 'SLOAN VALVE COMPANY': 1,\n",
       " 'Hortense B. Hewitt': 1,\n",
       " \"Newman's Own Organics\": 1,\n",
       " 'iStarUSA': 1,\n",
       " \"Udi's\": 1,\n",
       " 'Wilton': 1,\n",
       " 'Stonyfield': 1,\n",
       " 'Yosemite Home Decor': 1,\n",
       " 'Mill Creek': 1,\n",
       " 'INC International Concepts': 1,\n",
       " 'Scotty': 1,\n",
       " 'Kenroy Home': 1,\n",
       " 'Carson-Dellosa Publishing': 1,\n",
       " 'Cal Lighting': 1,\n",
       " 'Touch of Color': 1,\n",
       " 'JNH Lifestyles': 1,\n",
       " 'Teamson': 1,\n",
       " 'Rizzy Home': 1,\n",
       " 'Pacific Natural Foods': 1,\n",
       " 'Noosa': 1,\n",
       " 'Southern Enterprises': 1,\n",
       " 'LDR': 1,\n",
       " 'National Mfg.': 1,\n",
       " 'Walkers': 1,\n",
       " 'Bodycology': 1}"
      ]
     },
     "execution_count": 192,
     "metadata": {},
     "output_type": "execute_result"
    }
   ],
   "source": [
    "from collections import Counter\n",
    "brands_dict = dict(Counter(df_clean['brand']))\n",
    "brands_count= {key: value for key, value in sorted(brands_dict.items(), \n",
    "               key=lambda item: item[1], reverse=True)}\n",
    "    \n",
    "\n",
    "brands_count"
   ]
  },
  {
   "cell_type": "code",
   "execution_count": 194,
   "metadata": {},
   "outputs": [
    {
     "data": {
      "text/plain": [
       "<AxesSubplot:xlabel='reviews_rating', ylabel='count'>"
      ]
     },
     "execution_count": 194,
     "metadata": {},
     "output_type": "execute_result"
    },
    {
     "data": {
      "image/png": "[encoded data removed]",
      "text/plain": [
       "<Figure size 432x288 with 1 Axes>"
      ]
     },
     "metadata": {
      "needs_background": "light"
     },
     "output_type": "display_data"
    }
   ],
   "source": [
    "df_nexxus = df_clean[df_clean['brand'] == 'Nexxus']\n",
    "(sns.countplot(x='reviews_rating', \n",
    "              data=df_nexxus,\n",
    "              palette='Set2') )\n"
   ]
  },
  {
   "cell_type": "code",
   "execution_count": 195,
   "metadata": {},
   "outputs": [
    {
     "data": {
      "text/plain": [
       "<AxesSubplot:xlabel='user_sentiment', ylabel='count'>"
      ]
     },
     "execution_count": 195,
     "metadata": {},
     "output_type": "execute_result"
    },
    {
     "data": {
      "image/png": "[encoded data removed]",
      "text/plain": [
       "<Figure size 432x288 with 1 Axes>"
      ]
     },
     "metadata": {
      "needs_background": "light"
     },
     "output_type": "display_data"
    }
   ],
   "source": [
    "df_nexxus = df_clean[df_clean['brand'] == 'Nexxus']\n",
    "(sns.countplot(x='user_sentiment', \n",
    "              data=df_nexxus,\n",
    "              palette='Set2') )"
   ]
  },
  {
   "cell_type": "code",
   "execution_count": 193,
   "metadata": {},
   "outputs": [
    {
     "data": {
      "text/html": [
       "<div>\n",
       "<style scoped>\n",
       "    .dataframe tbody tr th:only-of-type {\n",
       "        vertical-align: middle;\n",
       "    }\n",
       "\n",
       "    .dataframe tbody tr th {\n",
       "        vertical-align: top;\n",
       "    }\n",
       "\n",
       "    .dataframe thead th {\n",
       "        text-align: right;\n",
       "    }\n",
       "</style>\n",
       "<table border=\"1\" class=\"dataframe\">\n",
       "  <thead>\n",
       "    <tr style=\"text-align: right;\">\n",
       "      <th></th>\n",
       "      <th>brand</th>\n",
       "      <th>reviews_title</th>\n",
       "      <th>reviews_text</th>\n",
       "      <th>reviews_rating</th>\n",
       "    </tr>\n",
       "  </thead>\n",
       "  <tbody>\n",
       "    <tr>\n",
       "      <th>21751</th>\n",
       "      <td>Nexxus</td>\n",
       "      <td>Bring back the old formula</td>\n",
       "      <td>I have been using this for many years and loved it. However, the new formula smells terrible and the hold is not as strong... what happened Bring back the old formula. I have started looking for alternative products.</td>\n",
       "      <td>2</td>\n",
       "    </tr>\n",
       "    <tr>\n",
       "      <th>21143</th>\n",
       "      <td>Nexxus</td>\n",
       "      <td>Poo</td>\n",
       "      <td>Have been using Nexxus sculpting gel for maybe 3/4 years and now in 2017 you changed your formula and I don't appreciate the product any longer. New formula makes my hair stiff and difficult to comb and style after use. Want to know how could I possibly get the old product back as it was perfect...</td>\n",
       "      <td>1</td>\n",
       "    </tr>\n",
       "    <tr>\n",
       "      <th>21222</th>\n",
       "      <td>Nexxus</td>\n",
       "      <td>Terribly Disappointed!</td>\n",
       "      <td>I've relied on the old formula for 20 years to create body for my baby-fine straight hair. The new formula does not do the trick. I'll have to try other brands until I find a gel comparable to the old formula.</td>\n",
       "      <td>1</td>\n",
       "    </tr>\n",
       "  </tbody>\n",
       "</table>\n",
       "</div>"
      ],
      "text/plain": [
       "        brand               reviews_title  \\\n",
       "21751  Nexxus  Bring back the old formula   \n",
       "21143  Nexxus                         Poo   \n",
       "21222  Nexxus      Terribly Disappointed!   \n",
       "\n",
       "                                                                                                                                                                                                                                                                                                      reviews_text  \\\n",
       "21751                                                                                     I have been using this for many years and loved it. However, the new formula smells terrible and the hold is not as strong... what happened Bring back the old formula. I have started looking for alternative products.   \n",
       "21143  Have been using Nexxus sculpting gel for maybe 3/4 years and now in 2017 you changed your formula and I don't appreciate the product any longer. New formula makes my hair stiff and difficult to comb and style after use. Want to know how could I possibly get the old product back as it was perfect...   \n",
       "21222                                                                                            I've relied on the old formula for 20 years to create body for my baby-fine straight hair. The new formula does not do the trick. I'll have to try other brands until I find a gel comparable to the old formula.   \n",
       "\n",
       "       reviews_rating  \n",
       "21751               2  \n",
       "21143               1  \n",
       "21222               1  "
      ]
     },
     "execution_count": 193,
     "metadata": {},
     "output_type": "execute_result"
    }
   ],
   "source": [
    "# user_sentiment is positive and reviews_rating is less than 4(i.e 3 or less)\n",
    "df_nexxus[(df_nexxus[\"user_sentiment\"]==1) & (df_nexxus[\"reviews_rating\"]<4)][[\"brand\",\"reviews_title\",\"reviews_text\", \"reviews_rating\"]].sample(3)\n"
   ]
  },
  {
   "cell_type": "code",
   "execution_count": 196,
   "metadata": {},
   "outputs": [
    {
     "data": {
      "text/html": [
       "<div>\n",
       "<style scoped>\n",
       "    .dataframe tbody tr th:only-of-type {\n",
       "        vertical-align: middle;\n",
       "    }\n",
       "\n",
       "    .dataframe tbody tr th {\n",
       "        vertical-align: top;\n",
       "    }\n",
       "\n",
       "    .dataframe thead th {\n",
       "        text-align: right;\n",
       "    }\n",
       "</style>\n",
       "<table border=\"1\" class=\"dataframe\">\n",
       "  <thead>\n",
       "    <tr style=\"text-align: right;\">\n",
       "      <th>reviews_rating</th>\n",
       "      <th>1</th>\n",
       "      <th>2</th>\n",
       "      <th>3</th>\n",
       "      <th>4</th>\n",
       "      <th>5</th>\n",
       "      <th>All</th>\n",
       "    </tr>\n",
       "    <tr>\n",
       "      <th>user_sentiment</th>\n",
       "      <th></th>\n",
       "      <th></th>\n",
       "      <th></th>\n",
       "      <th></th>\n",
       "      <th></th>\n",
       "      <th></th>\n",
       "    </tr>\n",
       "  </thead>\n",
       "  <tbody>\n",
       "    <tr>\n",
       "      <th>0.0</th>\n",
       "      <td>272</td>\n",
       "      <td>12</td>\n",
       "      <td>2</td>\n",
       "      <td>1</td>\n",
       "      <td>1</td>\n",
       "      <td>288</td>\n",
       "    </tr>\n",
       "    <tr>\n",
       "      <th>1.0</th>\n",
       "      <td>331</td>\n",
       "      <td>17</td>\n",
       "      <td>8</td>\n",
       "      <td>3</td>\n",
       "      <td>44</td>\n",
       "      <td>403</td>\n",
       "    </tr>\n",
       "    <tr>\n",
       "      <th>All</th>\n",
       "      <td>603</td>\n",
       "      <td>29</td>\n",
       "      <td>10</td>\n",
       "      <td>4</td>\n",
       "      <td>45</td>\n",
       "      <td>691</td>\n",
       "    </tr>\n",
       "  </tbody>\n",
       "</table>\n",
       "</div>"
      ],
      "text/plain": [
       "reviews_rating    1   2   3  4   5  All\n",
       "user_sentiment                         \n",
       "0.0             272  12   2  1   1  288\n",
       "1.0             331  17   8  3  44  403\n",
       "All             603  29  10  4  45  691"
      ]
     },
     "execution_count": 196,
     "metadata": {},
     "output_type": "execute_result"
    }
   ],
   "source": [
    "pd.crosstab(df_nexxus['user_sentiment'], df_nexxus['reviews_rating'], margins=True)"
   ]
  },
  {
   "cell_type": "code",
   "execution_count": 197,
   "metadata": {},
   "outputs": [
    {
     "data": {
      "text/html": [
       "<div>\n",
       "<style scoped>\n",
       "    .dataframe tbody tr th:only-of-type {\n",
       "        vertical-align: middle;\n",
       "    }\n",
       "\n",
       "    .dataframe tbody tr th {\n",
       "        vertical-align: top;\n",
       "    }\n",
       "\n",
       "    .dataframe thead th {\n",
       "        text-align: right;\n",
       "    }\n",
       "</style>\n",
       "<table border=\"1\" class=\"dataframe\">\n",
       "  <thead>\n",
       "    <tr style=\"text-align: right;\">\n",
       "      <th>reviews_rating</th>\n",
       "      <th>1</th>\n",
       "      <th>2</th>\n",
       "      <th>3</th>\n",
       "      <th>4</th>\n",
       "      <th>5</th>\n",
       "      <th>All</th>\n",
       "    </tr>\n",
       "    <tr>\n",
       "      <th>user_sentiment</th>\n",
       "      <th></th>\n",
       "      <th></th>\n",
       "      <th></th>\n",
       "      <th></th>\n",
       "      <th></th>\n",
       "      <th></th>\n",
       "    </tr>\n",
       "  </thead>\n",
       "  <tbody>\n",
       "    <tr>\n",
       "      <th>0.0</th>\n",
       "      <td>585</td>\n",
       "      <td>137</td>\n",
       "      <td>217</td>\n",
       "      <td>548</td>\n",
       "      <td>1848</td>\n",
       "      <td>3335</td>\n",
       "    </tr>\n",
       "    <tr>\n",
       "      <th>1.0</th>\n",
       "      <td>776</td>\n",
       "      <td>272</td>\n",
       "      <td>1115</td>\n",
       "      <td>5444</td>\n",
       "      <td>18805</td>\n",
       "      <td>26412</td>\n",
       "    </tr>\n",
       "    <tr>\n",
       "      <th>All</th>\n",
       "      <td>1361</td>\n",
       "      <td>409</td>\n",
       "      <td>1332</td>\n",
       "      <td>5992</td>\n",
       "      <td>20653</td>\n",
       "      <td>29747</td>\n",
       "    </tr>\n",
       "  </tbody>\n",
       "</table>\n",
       "</div>"
      ],
      "text/plain": [
       "reviews_rating     1    2     3     4      5    All\n",
       "user_sentiment                                     \n",
       "0.0              585  137   217   548   1848   3335\n",
       "1.0              776  272  1115  5444  18805  26412\n",
       "All             1361  409  1332  5992  20653  29747"
      ]
     },
     "execution_count": 197,
     "metadata": {},
     "output_type": "execute_result"
    }
   ],
   "source": [
    "pd.crosstab(df_clean['user_sentiment'], df_clean['reviews_rating'], margins=True)"
   ]
  },
  {
   "attachments": {},
   "cell_type": "markdown",
   "metadata": {},
   "source": [
    "As per the above results, there looks to be mismtach between review_rating and user_sentiment. there are records that have higher user rating but user sentiment is negative and lower user rating but user sentiment is positive. We can either clean up those records or update the target column to the correct user sentiment, so that will be helpful for modelling. Here, updating the user_sentiment to 0 (but was 1) when the reviews_rating is less than 4, and updating the user_sentiment to 1(but was 0), when the reviews_rating is greater than or equal to 4"
   ]
  },
  {
   "cell_type": "code",
   "execution_count": 198,
   "metadata": {},
   "outputs": [
    {
     "data": {
      "text/html": [
       "<div>\n",
       "<style scoped>\n",
       "    .dataframe tbody tr th:only-of-type {\n",
       "        vertical-align: middle;\n",
       "    }\n",
       "\n",
       "    .dataframe tbody tr th {\n",
       "        vertical-align: top;\n",
       "    }\n",
       "\n",
       "    .dataframe thead th {\n",
       "        text-align: right;\n",
       "    }\n",
       "</style>\n",
       "<table border=\"1\" class=\"dataframe\">\n",
       "  <thead>\n",
       "    <tr style=\"text-align: right;\">\n",
       "      <th>reviews_rating</th>\n",
       "      <th>1</th>\n",
       "      <th>2</th>\n",
       "      <th>3</th>\n",
       "      <th>4</th>\n",
       "      <th>5</th>\n",
       "      <th>All</th>\n",
       "    </tr>\n",
       "    <tr>\n",
       "      <th>user_sentiment</th>\n",
       "      <th></th>\n",
       "      <th></th>\n",
       "      <th></th>\n",
       "      <th></th>\n",
       "      <th></th>\n",
       "      <th></th>\n",
       "    </tr>\n",
       "  </thead>\n",
       "  <tbody>\n",
       "    <tr>\n",
       "      <th>0.0</th>\n",
       "      <td>1361</td>\n",
       "      <td>409</td>\n",
       "      <td>1332</td>\n",
       "      <td>0</td>\n",
       "      <td>0</td>\n",
       "      <td>3102</td>\n",
       "    </tr>\n",
       "    <tr>\n",
       "      <th>1.0</th>\n",
       "      <td>0</td>\n",
       "      <td>0</td>\n",
       "      <td>0</td>\n",
       "      <td>5992</td>\n",
       "      <td>20653</td>\n",
       "      <td>26645</td>\n",
       "    </tr>\n",
       "    <tr>\n",
       "      <th>All</th>\n",
       "      <td>1361</td>\n",
       "      <td>409</td>\n",
       "      <td>1332</td>\n",
       "      <td>5992</td>\n",
       "      <td>20653</td>\n",
       "      <td>29747</td>\n",
       "    </tr>\n",
       "  </tbody>\n",
       "</table>\n",
       "</div>"
      ],
      "text/plain": [
       "reviews_rating     1    2     3     4      5    All\n",
       "user_sentiment                                     \n",
       "0.0             1361  409  1332     0      0   3102\n",
       "1.0                0    0     0  5992  20653  26645\n",
       "All             1361  409  1332  5992  20653  29747"
      ]
     },
     "execution_count": 198,
     "metadata": {},
     "output_type": "execute_result"
    }
   ],
   "source": [
    "\"\"\"\n",
    "Updating the user_sentiment so that its relevant to the model\n",
    "Part of pre-processing\n",
    "\"\"\"\n",
    "\n",
    "\n",
    "df_clean.loc[(df_clean[\"user_sentiment\"]==1) & (df_clean[\"reviews_rating\"]<4), \"user_sentiment\"] = 0\n",
    "df_clean.loc[(df_clean[\"user_sentiment\"]==0) & (df_clean[\"reviews_rating\"]>=4), \"user_sentiment\"] = 1\n",
    "\n",
    "pd.crosstab(df_clean['user_sentiment'], df_clean['reviews_rating'], margins=True)\n"
   ]
  },
  {
   "attachments": {},
   "cell_type": "markdown",
   "metadata": {},
   "source": [
    "### Training Analysis\n",
    "\n",
    "\n",
    "Checking Distribution of *reviews_rating* column¶\n"
   ]
  },
  {
   "cell_type": "code",
   "execution_count": 144,
   "metadata": {},
   "outputs": [
    {
     "data": {
      "image/png": "[encoded data removed]",
      "text/plain": [
       "<Figure size 432x288 with 1 Axes>"
      ]
     },
     "metadata": {
      "needs_background": "light"
     },
     "output_type": "display_data"
    }
   ],
   "source": [
    "sns.countplot(x = 'reviews_rating', \n",
    "              data = df_clean,\n",
    "              palette= 'Set2').set(title=\"Distribution of reviews rating by count\", \n",
    "                                                         xlabel=\"reviews rating\", \n",
    "                                                         ylabel=\"reviews count\")\n",
    "plt.show()\n"
   ]
  },
  {
   "attachments": {},
   "cell_type": "markdown",
   "metadata": {},
   "source": [
    "Most of the ratings from the users have been on the higher side. Most of the review ratings have been 5. This would surely cause a data imbalance as user_sentiment should be in alignment with the ratings. We will check and handle it later on.\n",
    "\n",
    "**Checking Top 5 Brands with negative reviews**"
   ]
  },
  {
   "cell_type": "code",
   "execution_count": 202,
   "metadata": {},
   "outputs": [
    {
     "data": {
      "image/png": "[encoded data removed]",
      "text/plain": [
       "<Figure size 432x288 with 1 Axes>"
      ]
     },
     "metadata": {
      "needs_background": "light"
     },
     "output_type": "display_data"
    }
   ],
   "source": [
    "df_clean[ df_clean.user_sentiment == 0].groupby('brand')['brand'].count().sort_values(ascending=False)[:5].plot(kind='bar',color='red')\n",
    "plt.title(\"Top 5 Brands with negative reviews\")\n",
    "plt.xlabel(\"Brands\")\n",
    "plt.ylabel(\"Percentage of negative reviews\")\n",
    "plt.show()"
   ]
  },
  {
   "attachments": {},
   "cell_type": "markdown",
   "metadata": {},
   "source": [
    "**Clorox** is the product that is rated the most negative and nearly 30% of the negative reviews have been towards Clorox.\n",
    "\n"
   ]
  },
  {
   "attachments": {},
   "cell_type": "markdown",
   "metadata": {},
   "source": [
    "#### Checking Top 5 Brands with positive reviews¶\n"
   ]
  },
  {
   "cell_type": "code",
   "execution_count": 201,
   "metadata": {},
   "outputs": [
    {
     "data": {
      "image/png": "[encoded data removed]",
      "text/plain": [
       "<Figure size 432x288 with 1 Axes>"
      ]
     },
     "metadata": {
      "needs_background": "light"
     },
     "output_type": "display_data"
    }
   ],
   "source": [
    "df_clean[ df_clean.user_sentiment == 1 ].groupby('brand')['brand'].count().sort_values(ascending=False)[:5].plot(kind='bar',color='green')\n",
    "# df_clean[ df_clean.user_sentiment == 0 ].brand.value_counts(normalize=True, ascending=False).head(5).plot(kind='bar')\n",
    "\n",
    "plt.title(\"Top 5 Brands with positive reviews\")\n",
    "plt.xlabel(\"Brands\")\n",
    "plt.ylabel(\"Percentage of positive reviews\")\n",
    "plt.show()"
   ]
  },
  {
   "cell_type": "code",
   "execution_count": 206,
   "metadata": {},
   "outputs": [
    {
     "data": {
      "text/plain": [
       "<AxesSubplot:xlabel='manufacturer'>"
      ]
     },
     "execution_count": 206,
     "metadata": {},
     "output_type": "execute_result"
    },
    {
     "data": {
      "image/png": "[encoded data removed]",
      "text/plain": [
       "<Figure size 432x288 with 1 Axes>"
      ]
     },
     "metadata": {
      "needs_background": "light"
     },
     "output_type": "display_data"
    }
   ],
   "source": [
    "df_clean[ df_clean.user_sentiment == 1 ].groupby('manufacturer')['manufacturer'].count().sort_values(ascending=False)[:5].plot(kind='bar',color='blue')\n"
   ]
  },
  {
   "cell_type": "code",
   "execution_count": 151,
   "metadata": {},
   "outputs": [
    {
     "data": {
      "text/plain": [
       "Clorox              0.36\n",
       "Warner Home Video   0.11\n",
       "Disney              0.04\n",
       "L'oreal Paris       0.04\n",
       "FOX                 0.03\n",
       "Name: brand, dtype: float64"
      ]
     },
     "execution_count": 151,
     "metadata": {},
     "output_type": "execute_result"
    }
   ],
   "source": [
    "df_clean.brand.value_counts(normalize=True).head(5)\n"
   ]
  },
  {
   "attachments": {},
   "cell_type": "markdown",
   "metadata": {},
   "source": [
    "* Surprisingly Clorox is the product that is rated the most positive as well and more than 35% of the positive reviews have been towards Clorox.\n",
    "\n",
    "* Checking the data, we realize that 35% of the brands for which we have the data is actually Clorox which is why it has the most reviews."
   ]
  },
  {
   "attachments": {},
   "cell_type": "markdown",
   "metadata": {},
   "source": [
    "#### Type Conversion\n",
    "Before we start the pre-processing steps, we need to make sure that all the text columns are converted to string type for future text operations.\n"
   ]
  },
  {
   "cell_type": "code",
   "execution_count": 152,
   "metadata": {},
   "outputs": [
    {
     "data": {
      "text/html": [
       "<div>\n",
       "<style scoped>\n",
       "    .dataframe tbody tr th:only-of-type {\n",
       "        vertical-align: middle;\n",
       "    }\n",
       "\n",
       "    .dataframe tbody tr th {\n",
       "        vertical-align: top;\n",
       "    }\n",
       "\n",
       "    .dataframe thead th {\n",
       "        text-align: right;\n",
       "    }\n",
       "</style>\n",
       "<table border=\"1\" class=\"dataframe\">\n",
       "  <thead>\n",
       "    <tr style=\"text-align: right;\">\n",
       "      <th></th>\n",
       "      <th>id</th>\n",
       "      <th>brand</th>\n",
       "      <th>categories</th>\n",
       "      <th>manufacturer</th>\n",
       "      <th>name</th>\n",
       "      <th>reviews_date</th>\n",
       "      <th>reviews_rating</th>\n",
       "      <th>reviews_text</th>\n",
       "      <th>reviews_title</th>\n",
       "      <th>reviews_username</th>\n",
       "      <th>user_sentiment</th>\n",
       "    </tr>\n",
       "  </thead>\n",
       "  <tbody>\n",
       "    <tr>\n",
       "      <th>8924</th>\n",
       "      <td>AVpf3VOfilAPnD_xjpun</td>\n",
       "      <td>Clorox</td>\n",
       "      <td>Household Essentials,Cleaning Supplies,Kitchen Cleaners,Cleaning Wipes,All-Purpose Cleaners,Health &amp; Household,Household Supplies,Household Cleaning,Ways To Shop,Classroom Essentials,Featured Brands,Home And Storage &amp; Org,Clorox,Glass Cleaners,Surface Care &amp; Protection,Business &amp; Industrial,Clea...</td>\n",
       "      <td>Clorox</td>\n",
       "      <td>Clorox Disinfecting Wipes Value Pack Scented 150 Ct Total</td>\n",
       "      <td>2015-01-09T21:38:14.000Z</td>\n",
       "      <td>5</td>\n",
       "      <td>teacher really appreciates it when I send them to school This review was collected as part of a promotion.</td>\n",
       "      <td>Schools</td>\n",
       "      <td>lilang8833</td>\n",
       "      <td>1.00</td>\n",
       "    </tr>\n",
       "    <tr>\n",
       "      <th>3439</th>\n",
       "      <td>AVpe5s3RLJeJML43x4eA</td>\n",
       "      <td>Pantene</td>\n",
       "      <td>Personal Care,Hair Care,Conditioner,Beauty,Shampoo &amp; Conditioner,Conditioners,Back To College,Ways To Shop,See more Pantene Expert Pro-v Age Defy Conditioner 8oz ...</td>\n",
       "      <td>Pantene Pro-V Hair Care</td>\n",
       "      <td>Pantene Pro-V Expert Collection Age Defy Conditioner</td>\n",
       "      <td>2016-05-10T00:00:00.000Z</td>\n",
       "      <td>5</td>\n",
       "      <td>I've been using Age Defy - Pantene Expert Collection conditioner for 2 weeks now and my hair is literally coming back to life! It feels so soft and is shining now and also feels stronger, the conditioner is super tick creamy and i use a lot less amount than i used to with another competitive bra...</td>\n",
       "      <td>Age Defy - Pantene Expert Collection Conditioner</td>\n",
       "      <td>mandre86</td>\n",
       "      <td>1.00</td>\n",
       "    </tr>\n",
       "  </tbody>\n",
       "</table>\n",
       "</div>"
      ],
      "text/plain": [
       "                        id    brand  \\\n",
       "8924  AVpf3VOfilAPnD_xjpun   Clorox   \n",
       "3439  AVpe5s3RLJeJML43x4eA  Pantene   \n",
       "\n",
       "                                                                                                                                                                                                                                                                                                       categories  \\\n",
       "8924  Household Essentials,Cleaning Supplies,Kitchen Cleaners,Cleaning Wipes,All-Purpose Cleaners,Health & Household,Household Supplies,Household Cleaning,Ways To Shop,Classroom Essentials,Featured Brands,Home And Storage & Org,Clorox,Glass Cleaners,Surface Care & Protection,Business & Industrial,Clea...   \n",
       "3439                                                                                                                                        Personal Care,Hair Care,Conditioner,Beauty,Shampoo & Conditioner,Conditioners,Back To College,Ways To Shop,See more Pantene Expert Pro-v Age Defy Conditioner 8oz ...   \n",
       "\n",
       "                 manufacturer  \\\n",
       "8924                   Clorox   \n",
       "3439  Pantene Pro-V Hair Care   \n",
       "\n",
       "                                                           name  \\\n",
       "8924  Clorox Disinfecting Wipes Value Pack Scented 150 Ct Total   \n",
       "3439       Pantene Pro-V Expert Collection Age Defy Conditioner   \n",
       "\n",
       "                  reviews_date  reviews_rating  \\\n",
       "8924  2015-01-09T21:38:14.000Z               5   \n",
       "3439  2016-05-10T00:00:00.000Z               5   \n",
       "\n",
       "                                                                                                                                                                                                                                                                                                     reviews_text  \\\n",
       "8924                                                                                                                                                                                                   teacher really appreciates it when I send them to school This review was collected as part of a promotion.   \n",
       "3439  I've been using Age Defy - Pantene Expert Collection conditioner for 2 weeks now and my hair is literally coming back to life! It feels so soft and is shining now and also feels stronger, the conditioner is super tick creamy and i use a lot less amount than i used to with another competitive bra...   \n",
       "\n",
       "                                         reviews_title reviews_username  \\\n",
       "8924                                           Schools       lilang8833   \n",
       "3439  Age Defy - Pantene Expert Collection Conditioner         mandre86   \n",
       "\n",
       "      user_sentiment  \n",
       "8924            1.00  \n",
       "3439            1.00  "
      ]
     },
     "execution_count": 152,
     "metadata": {},
     "output_type": "execute_result"
    }
   ],
   "source": [
    "# Convert all the text columns to string for performing text operations\n",
    "\n",
    "columns_to_str = ['brand', 'categories', 'manufacturer', 'name',\n",
    "                  'reviews_text', 'reviews_title', 'reviews_username']\n",
    "for column in columns_to_str:\n",
    "    df_clean[column] = df_clean[column].astype(str)\n",
    "df_clean.sample(2)\n"
   ]
  },
  {
   "attachments": {},
   "cell_type": "markdown",
   "metadata": {},
   "source": [
    "### Pre - Processing"
   ]
  },
  {
   "cell_type": "code",
   "execution_count": 215,
   "metadata": {},
   "outputs": [
    {
     "data": {
      "text/html": [
       "<div>\n",
       "<style scoped>\n",
       "    .dataframe tbody tr th:only-of-type {\n",
       "        vertical-align: middle;\n",
       "    }\n",
       "\n",
       "    .dataframe tbody tr th {\n",
       "        vertical-align: top;\n",
       "    }\n",
       "\n",
       "    .dataframe thead th {\n",
       "        text-align: right;\n",
       "    }\n",
       "</style>\n",
       "<table border=\"1\" class=\"dataframe\">\n",
       "  <thead>\n",
       "    <tr style=\"text-align: right;\">\n",
       "      <th></th>\n",
       "      <th>id</th>\n",
       "      <th>brand</th>\n",
       "      <th>categories</th>\n",
       "      <th>manufacturer</th>\n",
       "      <th>name</th>\n",
       "      <th>reviews_date</th>\n",
       "      <th>reviews_rating</th>\n",
       "      <th>reviews_text</th>\n",
       "      <th>reviews_title</th>\n",
       "      <th>reviews_username</th>\n",
       "      <th>user_sentiment</th>\n",
       "    </tr>\n",
       "  </thead>\n",
       "  <tbody>\n",
       "    <tr>\n",
       "      <th>28110</th>\n",
       "      <td>AVpfRTh1ilAPnD_xYic2</td>\n",
       "      <td>Disney</td>\n",
       "      <td>Movies, Music &amp; Books,Movies,Kids' &amp; Family,Ways To Shop Entertainment,Movies &amp; Tv On Blu-Ray,Movies &amp; TV,Disney,Blu-ray,Children &amp; Family,Movies &amp; Music,Movies &amp; TV Shows,Electronics, Tech Toys, Movies, Music,Blu-Rays,See ALL Blu-Ray,Frys</td>\n",
       "      <td>Walt Disney</td>\n",
       "      <td>Planes: Fire Rescue (2 Discs) (includes Digital Copy) (blu-Ray/dvd)</td>\n",
       "      <td>2014-11-07T00:00:00.000Z</td>\n",
       "      <td>5</td>\n",
       "      <td>My son just turned 3 - saw it in the theater and of course had to buy it. He is an active kid who can't sit still yet he sits start to finish for this movie!</td>\n",
       "      <td>Engaging family movie action!</td>\n",
       "      <td>jhosborne</td>\n",
       "      <td>1.00</td>\n",
       "    </tr>\n",
       "  </tbody>\n",
       "</table>\n",
       "</div>"
      ],
      "text/plain": [
       "                         id   brand  \\\n",
       "28110  AVpfRTh1ilAPnD_xYic2  Disney   \n",
       "\n",
       "                                                                                                                                                                                                                                            categories  \\\n",
       "28110  Movies, Music & Books,Movies,Kids' & Family,Ways To Shop Entertainment,Movies & Tv On Blu-Ray,Movies & TV,Disney,Blu-ray,Children & Family,Movies & Music,Movies & TV Shows,Electronics, Tech Toys, Movies, Music,Blu-Rays,See ALL Blu-Ray,Frys   \n",
       "\n",
       "      manufacturer  \\\n",
       "28110  Walt Disney   \n",
       "\n",
       "                                                                      name  \\\n",
       "28110  Planes: Fire Rescue (2 Discs) (includes Digital Copy) (blu-Ray/dvd)   \n",
       "\n",
       "                   reviews_date  reviews_rating  \\\n",
       "28110  2014-11-07T00:00:00.000Z               5   \n",
       "\n",
       "                                                                                                                                                        reviews_text  \\\n",
       "28110  My son just turned 3 - saw it in the theater and of course had to buy it. He is an active kid who can't sit still yet he sits start to finish for this movie!   \n",
       "\n",
       "                       reviews_title reviews_username  user_sentiment  \n",
       "28110  Engaging family movie action!        jhosborne            1.00  "
      ]
     },
     "execution_count": 215,
     "metadata": {},
     "output_type": "execute_result"
    }
   ],
   "source": [
    "# Get a copy of dataframe for pre-processing\n",
    "df_prep = df_clean.copy(deep=True)\n",
    "df_prep.sample(1)"
   ]
  },
  {
   "attachments": {},
   "cell_type": "markdown",
   "metadata": {},
   "source": [
    "Combining reviews_text and reviews_title columns into reviews_combined and dropping the initial fields"
   ]
  },
  {
   "cell_type": "code",
   "execution_count": 216,
   "metadata": {},
   "outputs": [],
   "source": [
    "df_prep['reviews_combined'] = df_prep['reviews_text'] + \" \" + df_prep['reviews_title'] + \".\"\n",
    "df_prep.drop(columns=['reviews_text', 'reviews_title'], inplace=True)"
   ]
  },
  {
   "cell_type": "code",
   "execution_count": 217,
   "metadata": {},
   "outputs": [
    {
     "data": {
      "text/plain": [
       "(29748, 10)"
      ]
     },
     "execution_count": 217,
     "metadata": {},
     "output_type": "execute_result"
    }
   ],
   "source": [
    "df_prep.shape"
   ]
  },
  {
   "cell_type": "code",
   "execution_count": 218,
   "metadata": {},
   "outputs": [
    {
     "data": {
      "text/html": [
       "<div>\n",
       "<style scoped>\n",
       "    .dataframe tbody tr th:only-of-type {\n",
       "        vertical-align: middle;\n",
       "    }\n",
       "\n",
       "    .dataframe tbody tr th {\n",
       "        vertical-align: top;\n",
       "    }\n",
       "\n",
       "    .dataframe thead th {\n",
       "        text-align: right;\n",
       "    }\n",
       "</style>\n",
       "<table border=\"1\" class=\"dataframe\">\n",
       "  <thead>\n",
       "    <tr style=\"text-align: right;\">\n",
       "      <th></th>\n",
       "      <th>id</th>\n",
       "      <th>brand</th>\n",
       "      <th>categories</th>\n",
       "      <th>manufacturer</th>\n",
       "      <th>name</th>\n",
       "      <th>reviews_date</th>\n",
       "      <th>reviews_rating</th>\n",
       "      <th>reviews_username</th>\n",
       "      <th>user_sentiment</th>\n",
       "      <th>reviews_combined</th>\n",
       "    </tr>\n",
       "  </thead>\n",
       "  <tbody>\n",
       "    <tr>\n",
       "      <th>8917</th>\n",
       "      <td>AVpf3VOfilAPnD_xjpun</td>\n",
       "      <td>Clorox</td>\n",
       "      <td>Household Essentials,Cleaning Supplies,Kitchen Cleaners,Cleaning Wipes,All-Purpose Cleaners,Health &amp; Household,Household Supplies,Household Cleaning,Ways To Shop,Classroom Essentials,Featured Brands,Home And Storage &amp; Org,Clorox,Glass Cleaners,Surface Care &amp; Protection,Business &amp; Industrial,Clea...</td>\n",
       "      <td>Clorox</td>\n",
       "      <td>Clorox Disinfecting Wipes Value Pack Scented 150 Ct Total</td>\n",
       "      <td>2015-01-04T20:09:19.000Z</td>\n",
       "      <td>5</td>\n",
       "      <td>lovey83</td>\n",
       "      <td>1.00</td>\n",
       "      <td>i love Clorox because it great to clean with it does all the things I need it to do. This review was collected as part of a promotion. Love.</td>\n",
       "    </tr>\n",
       "  </tbody>\n",
       "</table>\n",
       "</div>"
      ],
      "text/plain": [
       "                        id   brand  \\\n",
       "8917  AVpf3VOfilAPnD_xjpun  Clorox   \n",
       "\n",
       "                                                                                                                                                                                                                                                                                                       categories  \\\n",
       "8917  Household Essentials,Cleaning Supplies,Kitchen Cleaners,Cleaning Wipes,All-Purpose Cleaners,Health & Household,Household Supplies,Household Cleaning,Ways To Shop,Classroom Essentials,Featured Brands,Home And Storage & Org,Clorox,Glass Cleaners,Surface Care & Protection,Business & Industrial,Clea...   \n",
       "\n",
       "     manufacturer                                                       name  \\\n",
       "8917       Clorox  Clorox Disinfecting Wipes Value Pack Scented 150 Ct Total   \n",
       "\n",
       "                  reviews_date  reviews_rating reviews_username  \\\n",
       "8917  2015-01-04T20:09:19.000Z               5          lovey83   \n",
       "\n",
       "      user_sentiment  \\\n",
       "8917            1.00   \n",
       "\n",
       "                                                                                                                                  reviews_combined  \n",
       "8917  i love Clorox because it great to clean with it does all the things I need it to do. This review was collected as part of a promotion. Love.  "
      ]
     },
     "execution_count": 218,
     "metadata": {},
     "output_type": "execute_result"
    }
   ],
   "source": [
    "df_prep.sample()"
   ]
  },
  {
   "attachments": {},
   "cell_type": "markdown",
   "metadata": {},
   "source": [
    "\n",
    "**Removing columns unneeded for analysis**"
   ]
  },
  {
   "cell_type": "code",
   "execution_count": 219,
   "metadata": {},
   "outputs": [],
   "source": [
    "df_prep.drop(columns=['categories', 'manufacturer', 'reviews_date'], inplace=True)\n"
   ]
  },
  {
   "cell_type": "code",
   "execution_count": 221,
   "metadata": {},
   "outputs": [
    {
     "data": {
      "text/html": [
       "<div>\n",
       "<style scoped>\n",
       "    .dataframe tbody tr th:only-of-type {\n",
       "        vertical-align: middle;\n",
       "    }\n",
       "\n",
       "    .dataframe tbody tr th {\n",
       "        vertical-align: top;\n",
       "    }\n",
       "\n",
       "    .dataframe thead th {\n",
       "        text-align: right;\n",
       "    }\n",
       "</style>\n",
       "<table border=\"1\" class=\"dataframe\">\n",
       "  <thead>\n",
       "    <tr style=\"text-align: right;\">\n",
       "      <th></th>\n",
       "      <th>id</th>\n",
       "      <th>brand</th>\n",
       "      <th>name</th>\n",
       "      <th>reviews_rating</th>\n",
       "      <th>reviews_username</th>\n",
       "      <th>user_sentiment</th>\n",
       "      <th>reviews_combined</th>\n",
       "    </tr>\n",
       "  </thead>\n",
       "  <tbody>\n",
       "    <tr>\n",
       "      <th>15588</th>\n",
       "      <td>AVpf5Z1zLJeJML43FpB-</td>\n",
       "      <td>Lysol</td>\n",
       "      <td>Lysol Concentrate Deodorizing Cleaner, Original Scent</td>\n",
       "      <td>3</td>\n",
       "      <td>iabfpm</td>\n",
       "      <td>0.00</td>\n",
       "      <td>The original scent should come with a warning. After weeks of flu in our house, and my son got his second bout of flu this season (yes, you can get both type A and type B in one season), I was determined to clean every surface in this house. I had several tubs of wonderful Lysol wipes, and was e...</td>\n",
       "    </tr>\n",
       "  </tbody>\n",
       "</table>\n",
       "</div>"
      ],
      "text/plain": [
       "                         id  brand  \\\n",
       "15588  AVpf5Z1zLJeJML43FpB-  Lysol   \n",
       "\n",
       "                                                        name  reviews_rating  \\\n",
       "15588  Lysol Concentrate Deodorizing Cleaner, Original Scent               3   \n",
       "\n",
       "      reviews_username  user_sentiment  \\\n",
       "15588           iabfpm            0.00   \n",
       "\n",
       "                                                                                                                                                                                                                                                                                                  reviews_combined  \n",
       "15588  The original scent should come with a warning. After weeks of flu in our house, and my son got his second bout of flu this season (yes, you can get both type A and type B in one season), I was determined to clean every surface in this house. I had several tubs of wonderful Lysol wipes, and was e...  "
      ]
     },
     "execution_count": 221,
     "metadata": {},
     "output_type": "execute_result"
    }
   ],
   "source": [
    "df_prep.sample()"
   ]
  },
  {
   "attachments": {},
   "cell_type": "markdown",
   "metadata": {},
   "source": [
    "**Creating dataframe for Sentiment analysis with only the required columns**"
   ]
  },
  {
   "cell_type": "code",
   "execution_count": 222,
   "metadata": {},
   "outputs": [],
   "source": [
    "df_sent = df_prep[['id','name','reviews_combined', 'user_sentiment']]\n"
   ]
  },
  {
   "cell_type": "code",
   "execution_count": 223,
   "metadata": {},
   "outputs": [
    {
     "data": {
      "text/plain": [
       "(29748, 4)"
      ]
     },
     "execution_count": 223,
     "metadata": {},
     "output_type": "execute_result"
    }
   ],
   "source": [
    "df_sent.shape"
   ]
  },
  {
   "cell_type": "code",
   "execution_count": 225,
   "metadata": {},
   "outputs": [
    {
     "data": {
      "text/html": [
       "<div>\n",
       "<style scoped>\n",
       "    .dataframe tbody tr th:only-of-type {\n",
       "        vertical-align: middle;\n",
       "    }\n",
       "\n",
       "    .dataframe tbody tr th {\n",
       "        vertical-align: top;\n",
       "    }\n",
       "\n",
       "    .dataframe thead th {\n",
       "        text-align: right;\n",
       "    }\n",
       "</style>\n",
       "<table border=\"1\" class=\"dataframe\">\n",
       "  <thead>\n",
       "    <tr style=\"text-align: right;\">\n",
       "      <th></th>\n",
       "      <th>id</th>\n",
       "      <th>name</th>\n",
       "      <th>reviews_combined</th>\n",
       "      <th>user_sentiment</th>\n",
       "    </tr>\n",
       "  </thead>\n",
       "  <tbody>\n",
       "    <tr>\n",
       "      <th>10768</th>\n",
       "      <td>AVpf3VOfilAPnD_xjpun</td>\n",
       "      <td>Clorox Disinfecting Wipes Value Pack Scented 150 Ct Total</td>\n",
       "      <td>Love the smell and it is so easy to use. I like to take these to work and clean up messes. This review was collected as part of a promotion. Awesome.</td>\n",
       "      <td>1.00</td>\n",
       "    </tr>\n",
       "  </tbody>\n",
       "</table>\n",
       "</div>"
      ],
      "text/plain": [
       "                         id  \\\n",
       "10768  AVpf3VOfilAPnD_xjpun   \n",
       "\n",
       "                                                            name  \\\n",
       "10768  Clorox Disinfecting Wipes Value Pack Scented 150 Ct Total   \n",
       "\n",
       "                                                                                                                                            reviews_combined  \\\n",
       "10768  Love the smell and it is so easy to use. I like to take these to work and clean up messes. This review was collected as part of a promotion. Awesome.   \n",
       "\n",
       "       user_sentiment  \n",
       "10768            1.00  "
      ]
     },
     "execution_count": 225,
     "metadata": {},
     "output_type": "execute_result"
    }
   ],
   "source": [
    "df_sent.sample()"
   ]
  },
  {
   "attachments": {},
   "cell_type": "markdown",
   "metadata": {},
   "source": [
    "**Handling punctuations**"
   ]
  },
  {
   "cell_type": "code",
   "execution_count": null,
   "metadata": {},
   "outputs": [],
   "source": []
  }
 ],
 "metadata": {
  "kernelspec": {
   "display_name": "Python 3",
   "language": "python",
   "name": "python3"
  },
  "language_info": {
   "codemirror_mode": {
    "name": "ipython",
    "version": 3
   },
   "file_extension": ".py",
   "mimetype": "text/x-python",
   "name": "python",
   "nbconvert_exporter": "python",
   "pygments_lexer": "ipython3",
   "version": "3.9.6"
  },
  "orig_nbformat": 4,
  "vscode": {
   "interpreter": {
    "hash": "7812ea015bdcee6f23a998adcdd2ef97c151c0c241b7b7070987d9313e41299d"
   }
  }
 },
 "nbformat": 4,
 "nbformat_minor": 2
}
