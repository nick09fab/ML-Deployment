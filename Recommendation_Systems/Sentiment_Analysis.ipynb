{
 "cells": [
  {
   "attachments": {},
   "cell_type": "markdown",
   "metadata": {},
   "source": [
    "#### Problem Statement\n",
    "\n",
    "The e-commerce business is quite popular today. Here, you do not need to take orders by going to each customer. A company launches its website to sell the items to the end consumer, and customers can order the products that they require from the same website. Famous examples of such e-commerce companies are Amazon, Flipkart, Myntra, Paytm and Snapdeal.\n",
    "\n",
    "Suppose you are working as a Machine Learning Engineer/Data Scientist in an e-commerce company named 'E-Com'. E-Com has captured a huge market share in many fields, and it sells the products in various categories such as household essentials, books, personal care products, medicines, cosmetic items, beauty products, electrical appliances, kitchen and dining products and health care products.\n",
    "\n",
    "With the advancement in technology, it is imperative for E-Com to grow quickly in the e-commerce market to become a major leader in the market because it has to compete with the likes of Amazon, Flipkart, etc., which are already market leaders.\n",
    "\n",
    "As a Data Scientis/ML Engineer, you are asked to build a model that will improve the recommendations given to the users given their past reviews and ratings.\n",
    "\n",
    "In order to do this, you planned to build a sentiment-based product recommendation system, which includes the following tasks.\n",
    "\n",
    "Data sourcing and sentiment analysis Building a recommendation system Improving the recommendations using the sentiment analysis model Deploying the end-to-end project with a user interface\n"
   ]
  },
  {
   "attachments": {},
   "cell_type": "markdown",
   "metadata": {},
   "source": [
    "### High Level steps \n",
    "\n",
    "* Data Sourcing and Sentiment Analysis\n",
    "\n",
    "* Building a recommendation system\n",
    "\n",
    "* Improving the recommendation system using sentiment analysis model\n",
    "\n",
    "* Deploying the end-to-end project with user interface\n"
   ]
  },
  {
   "cell_type": "code",
   "execution_count": 16,
   "metadata": {},
   "outputs": [],
   "source": [
    "# !pip install pyspellchecker"
   ]
  },
  {
   "cell_type": "code",
   "execution_count": 355,
   "metadata": {},
   "outputs": [],
   "source": [
    "# Import general purpose libraries \n",
    "import re\n",
    "import time\n",
    "import pandas as pd\n",
    "import numpy as np\n",
    "import seaborn as sns\n",
    "import matplotlib.pyplot as plt\n",
    "from collections import Counter\n",
    "from datetime import datetime\n",
    "import warnings\n",
    "import pickle\n",
    "\n",
    "# Import Pre-Processing Tools\n",
    "from imblearn.over_sampling import SMOTE\n",
    "from imblearn.under_sampling import RandomUnderSampler\n",
    "from imblearn.pipeline import Pipeline\n",
    "warnings.filterwarnings(\"ignore\") \n",
    "\n",
    "# Set Pandas options\n",
    "pd.set_option('display.max_columns', 200)\n",
    "pd.set_option('display.max_colwidth', 300)\n",
    "pd.set_option(\"display.precision\", 2)\n",
    "\n",
    "\n",
    "#Helper Functions\n",
    "from utils import (\n",
    "    clean_stopwords,\n",
    "    clean_punctuation, \n",
    "    calc_missing_rowcount    \n",
    ")\n"
   ]
  },
  {
   "cell_type": "code",
   "execution_count": null,
   "metadata": {},
   "outputs": [],
   "source": [
    "# nltk packages\n",
    "import nltk\n",
    "import ssl\n",
    "\n",
    "\"\"\" Download all nltk packages through external ssl\"\"\"\n",
    "try:\n",
    "    _create_unverified_https_context = ssl._create_unverified_context\n",
    "except AttributeError:\n",
    "    pass\n",
    "else:\n",
    "    ssl._create_default_https_context = _create_unverified_https_context\n",
    "\n",
    "nltk.download('stopwords')\n",
    "nltk.download('punkt')\n",
    "nltk.download('averaged_perceptron_tagger')\n",
    "nltk.download('wordnet')\n",
    "nltk.download('omw-1.4')\n",
    "\n"
   ]
  },
  {
   "cell_type": "code",
   "execution_count": 10,
   "metadata": {},
   "outputs": [],
   "source": [
    "# nltk libraries\n",
    "from nltk.corpus import stopwords \n",
    "from nltk import FreqDist\n",
    "from nltk.tokenize import word_tokenize\n",
    "from nltk.stem.wordnet import WordNetLemmatizer\n",
    "from nltk.corpus import wordnet as wn"
   ]
  },
  {
   "cell_type": "code",
   "execution_count": 347,
   "metadata": {},
   "outputs": [],
   "source": [
    "# ML Modelling Libraries\n",
    "\n",
    "from sklearn.model_selection import train_test_split\n",
    "from sklearn.feature_extraction.text import CountVectorizer, TfidfVectorizer\n",
    "from sklearn.linear_model import LogisticRegression\n",
    "from sklearn.ensemble import RandomForestClassifier\n",
    "from sklearn.model_selection import RandomizedSearchCV, GridSearchCV\n",
    "from sklearn.metrics import accuracy_score\n",
    "from sklearn.metrics import confusion_matrix, classification_report, roc_auc_score"
   ]
  },
  {
   "cell_type": "code",
   "execution_count": 24,
   "metadata": {},
   "outputs": [],
   "source": [
    "# import sklearn\n",
    "# print(sklearn.__version__) #1.0.2\n",
    "# print(np.__version__) #1.22.4\n",
    "# print(pd.__version__) #1.3.5\n",
    "# print(nltk.__version__) #3.8.1"
   ]
  },
  {
   "cell_type": "code",
   "execution_count": 107,
   "metadata": {},
   "outputs": [
    {
     "data": {
      "text/plain": [
       "(30000, 15)"
      ]
     },
     "execution_count": 107,
     "metadata": {},
     "output_type": "execute_result"
    }
   ],
   "source": [
    "import os\n",
    "cwd = os.getcwd()\n",
    "df_reviews = pd.read_csv(cwd + \"/user_reviews.csv\", parse_dates= ['reviews_date'])\n",
    "df_reviews.shape"
   ]
  },
  {
   "cell_type": "code",
   "execution_count": 117,
   "metadata": {},
   "outputs": [
    {
     "data": {
      "text/html": [
       "<div>\n",
       "<style scoped>\n",
       "    .dataframe tbody tr th:only-of-type {\n",
       "        vertical-align: middle;\n",
       "    }\n",
       "\n",
       "    .dataframe tbody tr th {\n",
       "        vertical-align: top;\n",
       "    }\n",
       "\n",
       "    .dataframe thead th {\n",
       "        text-align: right;\n",
       "    }\n",
       "</style>\n",
       "<table border=\"1\" class=\"dataframe\">\n",
       "  <thead>\n",
       "    <tr style=\"text-align: right;\">\n",
       "      <th></th>\n",
       "      <th>id</th>\n",
       "      <th>brand</th>\n",
       "      <th>categories</th>\n",
       "      <th>manufacturer</th>\n",
       "      <th>name</th>\n",
       "      <th>reviews_date</th>\n",
       "      <th>reviews_didPurchase</th>\n",
       "      <th>reviews_doRecommend</th>\n",
       "      <th>reviews_rating</th>\n",
       "      <th>reviews_text</th>\n",
       "      <th>reviews_title</th>\n",
       "      <th>reviews_userCity</th>\n",
       "      <th>reviews_userProvince</th>\n",
       "      <th>reviews_username</th>\n",
       "      <th>user_sentiment</th>\n",
       "    </tr>\n",
       "  </thead>\n",
       "  <tbody>\n",
       "    <tr>\n",
       "      <th>29575</th>\n",
       "      <td>AVpfW8y_LJeJML437ySW</td>\n",
       "      <td>L'oreal Paris</td>\n",
       "      <td>Beauty,Hair Care,Shampoo &amp; Conditioner,Holiday Shop,Christmas,Featured Brands,Health &amp; Beauty,L'oreal,Personal Care,Hair Treatments,Conditioner</td>\n",
       "      <td>L'oreal Paris</td>\n",
       "      <td>L'or233al Paris Elvive Extraordinary Clay Rebalancing Conditioner - 12.6 Fl Oz</td>\n",
       "      <td>2017-01-25T16:57:13.000Z</td>\n",
       "      <td>NaN</td>\n",
       "      <td>True</td>\n",
       "      <td>4</td>\n",
       "      <td>Great conditioner in general with quality on par w/ L'Oreal brand. I wish it was as effective as it claims to be since I was so excited to try it thanks to Influenster. I have sensitive hair with oily roots and dry ends from curling iron, blow dryer, etc. So I was expecting this to work and save...</td>\n",
       "      <td>Smells Great; A Little Goes A Long Way!</td>\n",
       "      <td>Yonkers</td>\n",
       "      <td>NaN</td>\n",
       "      <td>skyy</td>\n",
       "      <td>Positive</td>\n",
       "    </tr>\n",
       "  </tbody>\n",
       "</table>\n",
       "</div>"
      ],
      "text/plain": [
       "                         id          brand  \\\n",
       "29575  AVpfW8y_LJeJML437ySW  L'oreal Paris   \n",
       "\n",
       "                                                                                                                                            categories  \\\n",
       "29575  Beauty,Hair Care,Shampoo & Conditioner,Holiday Shop,Christmas,Featured Brands,Health & Beauty,L'oreal,Personal Care,Hair Treatments,Conditioner   \n",
       "\n",
       "        manufacturer  \\\n",
       "29575  L'oreal Paris   \n",
       "\n",
       "                                                                                 name  \\\n",
       "29575  L'or233al Paris Elvive Extraordinary Clay Rebalancing Conditioner - 12.6 Fl Oz   \n",
       "\n",
       "                   reviews_date reviews_didPurchase reviews_doRecommend  \\\n",
       "29575  2017-01-25T16:57:13.000Z                 NaN                True   \n",
       "\n",
       "       reviews_rating  \\\n",
       "29575               4   \n",
       "\n",
       "                                                                                                                                                                                                                                                                                                      reviews_text  \\\n",
       "29575  Great conditioner in general with quality on par w/ L'Oreal brand. I wish it was as effective as it claims to be since I was so excited to try it thanks to Influenster. I have sensitive hair with oily roots and dry ends from curling iron, blow dryer, etc. So I was expecting this to work and save...   \n",
       "\n",
       "                                 reviews_title reviews_userCity  \\\n",
       "29575  Smells Great; A Little Goes A Long Way!          Yonkers   \n",
       "\n",
       "      reviews_userProvince reviews_username user_sentiment  \n",
       "29575                  NaN             skyy       Positive  "
      ]
     },
     "execution_count": 117,
     "metadata": {},
     "output_type": "execute_result"
    }
   ],
   "source": [
    "df_reviews.sample(1)"
   ]
  },
  {
   "cell_type": "code",
   "execution_count": 118,
   "metadata": {},
   "outputs": [
    {
     "name": "stdout",
     "output_type": "stream",
     "text": [
      "<class 'pandas.core.frame.DataFrame'>\n",
      "RangeIndex: 30000 entries, 0 to 29999\n",
      "Data columns (total 15 columns):\n",
      " #   Column                Non-Null Count  Dtype \n",
      "---  ------                --------------  ----- \n",
      " 0   id                    30000 non-null  object\n",
      " 1   brand                 30000 non-null  object\n",
      " 2   categories            30000 non-null  object\n",
      " 3   manufacturer          29859 non-null  object\n",
      " 4   name                  30000 non-null  object\n",
      " 5   reviews_date          29954 non-null  object\n",
      " 6   reviews_didPurchase   15932 non-null  object\n",
      " 7   reviews_doRecommend   27430 non-null  object\n",
      " 8   reviews_rating        30000 non-null  int64 \n",
      " 9   reviews_text          30000 non-null  object\n",
      " 10  reviews_title         29810 non-null  object\n",
      " 11  reviews_userCity      1929 non-null   object\n",
      " 12  reviews_userProvince  170 non-null    object\n",
      " 13  reviews_username      29937 non-null  object\n",
      " 14  user_sentiment        29999 non-null  object\n",
      "dtypes: int64(1), object(14)\n",
      "memory usage: 3.4+ MB\n"
     ]
    }
   ],
   "source": [
    "#Inspect the dataframe to understand the given data\n",
    "df_reviews.info()"
   ]
  },
  {
   "attachments": {},
   "cell_type": "markdown",
   "metadata": {},
   "source": [
    "* There are many columns with NULL values, we will handle them later.\n",
    "* First step is to eliminate some columns as part of our analysis for Sentiment and Recommender models.We will inspect them and remove them later."
   ]
  },
  {
   "attachments": {},
   "cell_type": "markdown",
   "metadata": {},
   "source": [
    "### Exploratory Data Analysis(EDA) - Data Cleaning and Pre-Processing"
   ]
  },
  {
   "cell_type": "code",
   "execution_count": 120,
   "metadata": {},
   "outputs": [
    {
     "data": {
      "text/html": [
       "<div>\n",
       "<style scoped>\n",
       "    .dataframe tbody tr th:only-of-type {\n",
       "        vertical-align: middle;\n",
       "    }\n",
       "\n",
       "    .dataframe tbody tr th {\n",
       "        vertical-align: top;\n",
       "    }\n",
       "\n",
       "    .dataframe thead th {\n",
       "        text-align: right;\n",
       "    }\n",
       "</style>\n",
       "<table border=\"1\" class=\"dataframe\">\n",
       "  <thead>\n",
       "    <tr style=\"text-align: right;\">\n",
       "      <th></th>\n",
       "      <th>Columns</th>\n",
       "      <th>Count</th>\n",
       "      <th>Percent</th>\n",
       "    </tr>\n",
       "  </thead>\n",
       "  <tbody>\n",
       "    <tr>\n",
       "      <th>12</th>\n",
       "      <td>reviews_userProvince</td>\n",
       "      <td>29830</td>\n",
       "      <td>99.43</td>\n",
       "    </tr>\n",
       "    <tr>\n",
       "      <th>11</th>\n",
       "      <td>reviews_userCity</td>\n",
       "      <td>28071</td>\n",
       "      <td>93.57</td>\n",
       "    </tr>\n",
       "    <tr>\n",
       "      <th>6</th>\n",
       "      <td>reviews_didPurchase</td>\n",
       "      <td>14068</td>\n",
       "      <td>46.89</td>\n",
       "    </tr>\n",
       "    <tr>\n",
       "      <th>7</th>\n",
       "      <td>reviews_doRecommend</td>\n",
       "      <td>2570</td>\n",
       "      <td>8.57</td>\n",
       "    </tr>\n",
       "    <tr>\n",
       "      <th>10</th>\n",
       "      <td>reviews_title</td>\n",
       "      <td>190</td>\n",
       "      <td>0.63</td>\n",
       "    </tr>\n",
       "    <tr>\n",
       "      <th>3</th>\n",
       "      <td>manufacturer</td>\n",
       "      <td>141</td>\n",
       "      <td>0.47</td>\n",
       "    </tr>\n",
       "    <tr>\n",
       "      <th>13</th>\n",
       "      <td>reviews_username</td>\n",
       "      <td>63</td>\n",
       "      <td>0.21</td>\n",
       "    </tr>\n",
       "    <tr>\n",
       "      <th>5</th>\n",
       "      <td>reviews_date</td>\n",
       "      <td>46</td>\n",
       "      <td>0.15</td>\n",
       "    </tr>\n",
       "    <tr>\n",
       "      <th>0</th>\n",
       "      <td>id</td>\n",
       "      <td>0</td>\n",
       "      <td>0.00</td>\n",
       "    </tr>\n",
       "    <tr>\n",
       "      <th>1</th>\n",
       "      <td>brand</td>\n",
       "      <td>0</td>\n",
       "      <td>0.00</td>\n",
       "    </tr>\n",
       "    <tr>\n",
       "      <th>2</th>\n",
       "      <td>categories</td>\n",
       "      <td>0</td>\n",
       "      <td>0.00</td>\n",
       "    </tr>\n",
       "    <tr>\n",
       "      <th>4</th>\n",
       "      <td>name</td>\n",
       "      <td>0</td>\n",
       "      <td>0.00</td>\n",
       "    </tr>\n",
       "    <tr>\n",
       "      <th>8</th>\n",
       "      <td>reviews_rating</td>\n",
       "      <td>0</td>\n",
       "      <td>0.00</td>\n",
       "    </tr>\n",
       "    <tr>\n",
       "      <th>9</th>\n",
       "      <td>reviews_text</td>\n",
       "      <td>0</td>\n",
       "      <td>0.00</td>\n",
       "    </tr>\n",
       "    <tr>\n",
       "      <th>14</th>\n",
       "      <td>user_sentiment</td>\n",
       "      <td>1</td>\n",
       "      <td>0.00</td>\n",
       "    </tr>\n",
       "  </tbody>\n",
       "</table>\n",
       "</div>"
      ],
      "text/plain": [
       "                 Columns  Count  Percent\n",
       "12  reviews_userProvince  29830    99.43\n",
       "11      reviews_userCity  28071    93.57\n",
       "6    reviews_didPurchase  14068    46.89\n",
       "7    reviews_doRecommend   2570     8.57\n",
       "10         reviews_title    190     0.63\n",
       "3           manufacturer    141     0.47\n",
       "13      reviews_username     63     0.21\n",
       "5           reviews_date     46     0.15\n",
       "0                     id      0     0.00\n",
       "1                  brand      0     0.00\n",
       "2             categories      0     0.00\n",
       "4                   name      0     0.00\n",
       "8         reviews_rating      0     0.00\n",
       "9           reviews_text      0     0.00\n",
       "14        user_sentiment      1     0.00"
      ]
     },
     "execution_count": 120,
     "metadata": {},
     "output_type": "execute_result"
    }
   ],
   "source": [
    "def calc_missing_rowcount(df):\n",
    "    columns = df.columns\n",
    "    null_count = [df[col].isnull().sum() for col in columns]\n",
    "    null_perc = [round((val/df.shape[0]) * 100,2) for val in null_count]\n",
    "    _df = pd.DataFrame({'Columns':np.array(columns),\n",
    "                        'Count': np.array(null_count),\n",
    "                        'Percent':np.array(null_perc)})\n",
    "    # If round is not an option, formatting options in pandas and numpy will \n",
    "    # pd.options.display.float_format = '{:.2f}'.format\n",
    "    # np.set_printoptions(suppress=True)\n",
    "                            \n",
    "    return _df.sort_values(\"Percent\",ascending=False)\n",
    "calc_missing_rowcount(df_reviews)\n",
    "\n"
   ]
  },
  {
   "attachments": {},
   "cell_type": "markdown",
   "metadata": {},
   "source": [
    "#### Observations:\n",
    "**reviews_userProvince** and **reviews_userCity** have over 93% NULL values and are not useful for analysis. We will remove them from the dataset.\n",
    "\n",
    "**reviews_didPurchase** column has over 46% NULL values. This field is not useful in building either Sentiment/Recommender system as well and will be removed.\n",
    "\n",
    "Removing reviews_userProvince, reviews_userCity and reviews_didPurchase from the dataset¶\n"
   ]
  },
  {
   "cell_type": "code",
   "execution_count": 121,
   "metadata": {},
   "outputs": [
    {
     "data": {
      "text/plain": [
       "(30000, 12)"
      ]
     },
     "execution_count": 121,
     "metadata": {},
     "output_type": "execute_result"
    }
   ],
   "source": [
    "df_clean = df_reviews.copy()\n",
    "df_clean.drop(columns=['reviews_userProvince','reviews_userCity','reviews_didPurchase'],\n",
    "                inplace=True)\n",
    "df_clean.shape"
   ]
  },
  {
   "attachments": {},
   "cell_type": "markdown",
   "metadata": {},
   "source": [
    "Checking reviews_doRecommend column¶\n"
   ]
  },
  {
   "cell_type": "code",
   "execution_count": 122,
   "metadata": {},
   "outputs": [
    {
     "name": "stdout",
     "output_type": "stream",
     "text": [
      "True     25880\n",
      "False     1550\n",
      "Name: reviews_doRecommend, dtype: int64\n",
      "True    0.94\n",
      "False   0.06\n",
      "Name: reviews_doRecommend, dtype: float64\n"
     ]
    }
   ],
   "source": [
    "print(df_clean.reviews_doRecommend.value_counts()\n",
    ")\n",
    "print(df_clean.reviews_doRecommend.value_counts(normalize=True)\n",
    ")"
   ]
  },
  {
   "cell_type": "code",
   "execution_count": 123,
   "metadata": {},
   "outputs": [
    {
     "data": {
      "image/png": "[encoded data removed]",
      "text/plain": [
       "<Figure size 432x288 with 1 Axes>"
      ]
     },
     "metadata": {
      "needs_background": "light"
     },
     "output_type": "display_data"
    }
   ],
   "source": [
    "sns.countplot(x = 'reviews_doRecommend', data = df_clean)\n",
    "plt.show()"
   ]
  },
  {
   "attachments": {},
   "cell_type": "markdown",
   "metadata": {},
   "source": [
    "Looking at the distribution of reviews_doRecommend column, we can see that more than 94% of the data is having True value. Hence, the column does not provide any useful information for the model to learn. We will drop this field"
   ]
  },
  {
   "cell_type": "code",
   "execution_count": 124,
   "metadata": {},
   "outputs": [],
   "source": [
    "df_clean.drop(columns=['reviews_doRecommend'], inplace=True)\n"
   ]
  },
  {
   "cell_type": "code",
   "execution_count": 125,
   "metadata": {},
   "outputs": [
    {
     "data": {
      "text/plain": [
       "(30000, 11)"
      ]
     },
     "execution_count": 125,
     "metadata": {},
     "output_type": "execute_result"
    }
   ],
   "source": [
    "df_clean.shape"
   ]
  },
  {
   "attachments": {},
   "cell_type": "markdown",
   "metadata": {},
   "source": [
    "**Handling NULL values in reviews_title**\n",
    "\n",
    "This column is an important component for our analysis as it contains the title of the review given by the user to a particular product. Since the NULL percentage is only 0.633%, we will remove these rows from the dataset.\n",
    "\n",
    "\n",
    "\n"
   ]
  },
  {
   "cell_type": "code",
   "execution_count": 126,
   "metadata": {},
   "outputs": [
    {
     "data": {
      "text/plain": [
       "(29810, 11)"
      ]
     },
     "execution_count": 126,
     "metadata": {},
     "output_type": "execute_result"
    }
   ],
   "source": [
    "df_clean = df_clean[~ df_clean.reviews_title.isna() ]\n",
    "df_clean.shape\n"
   ]
  },
  {
   "attachments": {},
   "cell_type": "markdown",
   "metadata": {},
   "source": [
    "**Handling NULL values in reviews_username**\n",
    "\n",
    "This column is an important component for our analysis as it contains the unique identification for individual user in the dataset. Since the NULL percentage is only 0.20%, we will remove these rows from the dataset."
   ]
  },
  {
   "cell_type": "code",
   "execution_count": 127,
   "metadata": {},
   "outputs": [
    {
     "data": {
      "text/plain": [
       "(29748, 11)"
      ]
     },
     "execution_count": 127,
     "metadata": {},
     "output_type": "execute_result"
    }
   ],
   "source": [
    "df_clean = df_clean[~ df_clean.reviews_username.isna() ]\n",
    "df_clean.shape"
   ]
  },
  {
   "attachments": {},
   "cell_type": "markdown",
   "metadata": {},
   "source": [
    "**Handling NULL values in user_sentiment**"
   ]
  },
  {
   "cell_type": "code",
   "execution_count": 128,
   "metadata": {},
   "outputs": [
    {
     "data": {
      "text/plain": [
       "Positive    26412\n",
       "Negative     3335\n",
       "Name: user_sentiment, dtype: int64"
      ]
     },
     "execution_count": 128,
     "metadata": {},
     "output_type": "execute_result"
    }
   ],
   "source": [
    "df_clean.user_sentiment.value_counts()\n"
   ]
  },
  {
   "cell_type": "code",
   "execution_count": 129,
   "metadata": {},
   "outputs": [
    {
     "data": {
      "text/html": [
       "<div>\n",
       "<style scoped>\n",
       "    .dataframe tbody tr th:only-of-type {\n",
       "        vertical-align: middle;\n",
       "    }\n",
       "\n",
       "    .dataframe tbody tr th {\n",
       "        vertical-align: top;\n",
       "    }\n",
       "\n",
       "    .dataframe thead th {\n",
       "        text-align: right;\n",
       "    }\n",
       "</style>\n",
       "<table border=\"1\" class=\"dataframe\">\n",
       "  <thead>\n",
       "    <tr style=\"text-align: right;\">\n",
       "      <th></th>\n",
       "      <th>id</th>\n",
       "      <th>brand</th>\n",
       "      <th>categories</th>\n",
       "      <th>manufacturer</th>\n",
       "      <th>name</th>\n",
       "      <th>reviews_date</th>\n",
       "      <th>reviews_rating</th>\n",
       "      <th>reviews_text</th>\n",
       "      <th>reviews_title</th>\n",
       "      <th>reviews_username</th>\n",
       "      <th>user_sentiment</th>\n",
       "    </tr>\n",
       "  </thead>\n",
       "  <tbody>\n",
       "    <tr>\n",
       "      <th>28354</th>\n",
       "      <td>AVpfRTh1ilAPnD_xYic2</td>\n",
       "      <td>Disney</td>\n",
       "      <td>Movies, Music &amp; Books,Movies,Kids' &amp; Family,Ways To Shop Entertainment,Movies &amp; Tv On Blu-Ray,Movies &amp; TV,Disney,Blu-ray,Children &amp; Family,Movies &amp; Music,Movies &amp; TV Shows,Electronics, Tech Toys, Movies, Music,Blu-Rays,See ALL Blu-Ray,Frys</td>\n",
       "      <td>Walt Disney</td>\n",
       "      <td>Planes: Fire Rescue (2 Discs) (includes Digital Copy) (blu-Ray/dvd)</td>\n",
       "      <td>2014-11-07T00:00:00.000Z</td>\n",
       "      <td>5</td>\n",
       "      <td>my kids absolutely loved this film so much that we watched it twice. Having a digital copy means that every time we get in the car we get to watch it wherever we go. we even got to use our $5 reward coupon towards the purchase of this movie so we got an additional $5 off + we got to add the poin...</td>\n",
       "      <td>a super hit with my children. they loved it!!??</td>\n",
       "      <td>7.87E+11</td>\n",
       "      <td>NaN</td>\n",
       "    </tr>\n",
       "  </tbody>\n",
       "</table>\n",
       "</div>"
      ],
      "text/plain": [
       "                         id   brand  \\\n",
       "28354  AVpfRTh1ilAPnD_xYic2  Disney   \n",
       "\n",
       "                                                                                                                                                                                                                                            categories  \\\n",
       "28354  Movies, Music & Books,Movies,Kids' & Family,Ways To Shop Entertainment,Movies & Tv On Blu-Ray,Movies & TV,Disney,Blu-ray,Children & Family,Movies & Music,Movies & TV Shows,Electronics, Tech Toys, Movies, Music,Blu-Rays,See ALL Blu-Ray,Frys   \n",
       "\n",
       "      manufacturer  \\\n",
       "28354  Walt Disney   \n",
       "\n",
       "                                                                      name  \\\n",
       "28354  Planes: Fire Rescue (2 Discs) (includes Digital Copy) (blu-Ray/dvd)   \n",
       "\n",
       "                   reviews_date  reviews_rating  \\\n",
       "28354  2014-11-07T00:00:00.000Z               5   \n",
       "\n",
       "                                                                                                                                                                                                                                                                                                      reviews_text  \\\n",
       "28354  my kids absolutely loved this film so much that we watched it twice. Having a digital copy means that every time we get in the car we get to watch it wherever we go. we even got to use our $5 reward coupon towards the purchase of this movie so we got an additional $5 off + we got to add the poin...   \n",
       "\n",
       "                                         reviews_title reviews_username  \\\n",
       "28354  a super hit with my children. they loved it!!??         7.87E+11   \n",
       "\n",
       "      user_sentiment  \n",
       "28354            NaN  "
      ]
     },
     "execution_count": 129,
     "metadata": {},
     "output_type": "execute_result"
    }
   ],
   "source": [
    "df_clean[ df_clean.user_sentiment.isna() ]\n"
   ]
  },
  {
   "attachments": {},
   "cell_type": "markdown",
   "metadata": {},
   "source": [
    "As there is only one record with missing data for user_sentiment, we will read the record manually and update the value.\n",
    "\n",
    "From reading the review title and rating, we can see that the overall sentiment is positive. So, we will update the value as Positive for this particular record with NaN."
   ]
  },
  {
   "cell_type": "code",
   "execution_count": 130,
   "metadata": {},
   "outputs": [],
   "source": [
    "df_clean.user_sentiment.fillna('Positive', inplace=True)\n"
   ]
  },
  {
   "attachments": {},
   "cell_type": "markdown",
   "metadata": {},
   "source": [
    "As the columns manufacturer and reviews_date are not needed for both Sentiment and Recommender models we don't need to handle the NULL values for them."
   ]
  },
  {
   "cell_type": "code",
   "execution_count": 142,
   "metadata": {},
   "outputs": [
    {
     "data": {
      "text/html": [
       "<div>\n",
       "<style scoped>\n",
       "    .dataframe tbody tr th:only-of-type {\n",
       "        vertical-align: middle;\n",
       "    }\n",
       "\n",
       "    .dataframe tbody tr th {\n",
       "        vertical-align: top;\n",
       "    }\n",
       "\n",
       "    .dataframe thead th {\n",
       "        text-align: right;\n",
       "    }\n",
       "</style>\n",
       "<table border=\"1\" class=\"dataframe\">\n",
       "  <thead>\n",
       "    <tr style=\"text-align: right;\">\n",
       "      <th></th>\n",
       "      <th>id</th>\n",
       "      <th>brand</th>\n",
       "      <th>categories</th>\n",
       "      <th>manufacturer</th>\n",
       "      <th>name</th>\n",
       "      <th>reviews_date</th>\n",
       "      <th>reviews_rating</th>\n",
       "      <th>reviews_text</th>\n",
       "      <th>reviews_title</th>\n",
       "      <th>reviews_username</th>\n",
       "      <th>user_sentiment</th>\n",
       "    </tr>\n",
       "  </thead>\n",
       "  <tbody>\n",
       "    <tr>\n",
       "      <th>23365</th>\n",
       "      <td>AVpfPaoqLJeJML435Xk9</td>\n",
       "      <td>Warner Home Video</td>\n",
       "      <td>Movies, Music &amp; Books,Movies,Action &amp; Adventure,Movies &amp; Music,Movies &amp; TV Shows,Frys</td>\n",
       "      <td>Test</td>\n",
       "      <td>Godzilla 3d Includes Digital Copy Ultraviolet 3d/2d Blu-Ray/dvd</td>\n",
       "      <td>2015-05-18T00:00:00.000Z</td>\n",
       "      <td>4</td>\n",
       "      <td>I had to get it. Its a new take on the classic version. I love blu-ray and a free digital copy. WOW</td>\n",
       "      <td>GODZILLA</td>\n",
       "      <td>amazing</td>\n",
       "      <td>Positive</td>\n",
       "    </tr>\n",
       "  </tbody>\n",
       "</table>\n",
       "</div>"
      ],
      "text/plain": [
       "                         id              brand  \\\n",
       "23365  AVpfPaoqLJeJML435Xk9  Warner Home Video   \n",
       "\n",
       "                                                                                  categories  \\\n",
       "23365  Movies, Music & Books,Movies,Action & Adventure,Movies & Music,Movies & TV Shows,Frys   \n",
       "\n",
       "      manufacturer  \\\n",
       "23365         Test   \n",
       "\n",
       "                                                                  name  \\\n",
       "23365  Godzilla 3d Includes Digital Copy Ultraviolet 3d/2d Blu-Ray/dvd   \n",
       "\n",
       "                   reviews_date  reviews_rating  \\\n",
       "23365  2015-05-18T00:00:00.000Z               4   \n",
       "\n",
       "                                                                                              reviews_text  \\\n",
       "23365  I had to get it. Its a new take on the classic version. I love blu-ray and a free digital copy. WOW   \n",
       "\n",
       "      reviews_title reviews_username user_sentiment  \n",
       "23365      GODZILLA          amazing       Positive  "
      ]
     },
     "execution_count": 142,
     "metadata": {},
     "output_type": "execute_result"
    }
   ],
   "source": [
    "# Check the data for top 5 rows\n",
    "df_clean.sample(1)"
   ]
  },
  {
   "attachments": {},
   "cell_type": "markdown",
   "metadata": {},
   "source": [
    "#### Target Analysis"
   ]
  },
  {
   "cell_type": "code",
   "execution_count": 143,
   "metadata": {},
   "outputs": [],
   "source": [
    "# map the categorical user_sentiment to numerical 1 or 0 for modelling\n",
    "df_clean['user_sentiment'] = df_reviews['user_sentiment'].map({'Positive':1,'Negative':0})"
   ]
  },
  {
   "cell_type": "code",
   "execution_count": 156,
   "metadata": {},
   "outputs": [
    {
     "data": {
      "text/plain": [
       "<AxesSubplot:xlabel='user_sentiment', ylabel='count'>"
      ]
     },
     "execution_count": 156,
     "metadata": {},
     "output_type": "execute_result"
    },
    {
     "data": {
      "image/png": "[encoded data removed]",
      "text/plain": [
       "<Figure size 432x288 with 1 Axes>"
      ]
     },
     "metadata": {
      "needs_background": "light"
     },
     "output_type": "display_data"
    }
   ],
   "source": [
    "sns.countplot(x='user_sentiment',\n",
    "              data=df_clean,\n",
    "              palette='Set2')"
   ]
  },
  {
   "cell_type": "code",
   "execution_count": 160,
   "metadata": {},
   "outputs": [
    {
     "data": {
      "text/plain": [
       "Index(['id', 'brand', 'categories', 'manufacturer', 'name', 'reviews_date',\n",
       "       'reviews_rating', 'reviews_text', 'reviews_title', 'reviews_username',\n",
       "       'user_sentiment'],\n",
       "      dtype='object')"
      ]
     },
     "execution_count": 160,
     "metadata": {},
     "output_type": "execute_result"
    }
   ],
   "source": [
    "df_clean.columns"
   ]
  },
  {
   "cell_type": "code",
   "execution_count": 192,
   "metadata": {},
   "outputs": [
    {
     "data": {
      "text/plain": [
       "{'Clorox': 10564,\n",
       " 'Warner Home Video': 3324,\n",
       " 'Disney': 1197,\n",
       " \"L'oreal Paris\": 1186,\n",
       " 'FOX': 887,\n",
       " \"Burt's Bees\": 881,\n",
       " 'Sony Pictures': 845,\n",
       " 'Summit Entertainment': 813,\n",
       " 'Nexxus': 691,\n",
       " 'Universal Home Video': 668,\n",
       " 'Olay': 637,\n",
       " 'Warner Bros.': 458,\n",
       " 'Lundberg': 414,\n",
       " 'Clear Scalp & Hair Therapy': 370,\n",
       " 'Hoover': 349,\n",
       " 'Windex': 348,\n",
       " 'Avery': 314,\n",
       " 'Pendaflex': 310,\n",
       " 'Aveeno': 302,\n",
       " 'Tostitos': 286,\n",
       " 'Storkcraft': 264,\n",
       " 'Vaseline': 253,\n",
       " 'Just For Men': 224,\n",
       " 'Warner Music Group': 204,\n",
       " 'Hormel': 196,\n",
       " 'Lionsgate': 186,\n",
       " \"Chester's\": 177,\n",
       " 'Coty': 158,\n",
       " 'Lysol': 155,\n",
       " 'Pantene': 154,\n",
       " 'Pleasant Hearth': 110,\n",
       " 'Cuisinart': 103,\n",
       " 'Bisquick': 96,\n",
       " 'Vicks': 96,\n",
       " \"L'Oreal Paris\": 94,\n",
       " 'Head & Shoulders': 92,\n",
       " 'Aussie': 89,\n",
       " 'Bounce': 87,\n",
       " 'Banana Boat': 72,\n",
       " 'Chips Ahoy': 69,\n",
       " 'Caress': 68,\n",
       " 'Yes to Carrots': 63,\n",
       " 'Cheetos': 60,\n",
       " 'Ragu': 59,\n",
       " 'TRESemme': 57,\n",
       " 'Axe': 57,\n",
       " 'Suave': 50,\n",
       " 'Meguiars': 49,\n",
       " 'Orajel': 46,\n",
       " \"Mrs. Meyer's\": 44,\n",
       " 'Canada Dry': 43,\n",
       " 'Finish': 42,\n",
       " 'Sony Music': 39,\n",
       " 'Power Crunch': 39,\n",
       " 'Yes to Grapefruit': 39,\n",
       " 'Kraus': 37,\n",
       " 'Australian Gold': 34,\n",
       " 'Holmes': 32,\n",
       " 'UMGD': 32,\n",
       " 'Ogx': 30,\n",
       " 'ANCHOR BAY': 30,\n",
       " 'Chex': 29,\n",
       " 'K-Y': 27,\n",
       " 'Tree Hut': 27,\n",
       " 'Jolly Time': 27,\n",
       " 'Maaya Home': 27,\n",
       " \"STACY'S\": 26,\n",
       " 'CeraVe': 25,\n",
       " 'Chobani': 25,\n",
       " 'Super PoliGrip': 24,\n",
       " 'Delta Faucet': 24,\n",
       " 'Shea Moisture': 24,\n",
       " 'Hawaiian Punch': 22,\n",
       " 'Target.com Use Only': 20,\n",
       " 'Tai Pei': 20,\n",
       " 'Arrid': 18,\n",
       " 'The Honest Company': 18,\n",
       " 'KIND': 17,\n",
       " \"Physician's Formula\": 17,\n",
       " 'Iman': 16,\n",
       " 'Sizzix': 16,\n",
       " 'MaraNatha': 15,\n",
       " 'Eagle Brand': 15,\n",
       " 'Honeywell': 15,\n",
       " \"Johnson's\": 14,\n",
       " 'Neutrogena': 14,\n",
       " 'Solo Foods': 13,\n",
       " 'Sabra': 13,\n",
       " 'Care Free Curl': 13,\n",
       " 'Creme Of Nature': 12,\n",
       " 'Lionsgate Home Entertainment': 12,\n",
       " 'Progresso': 11,\n",
       " 'Stander': 11,\n",
       " 'All-Bran': 11,\n",
       " 'Trend Lab': 11,\n",
       " 'Lush Decor': 11,\n",
       " \"Ben & Jerry's\": 11,\n",
       " 'Way Basics': 10,\n",
       " \"Newman's Own\": 10,\n",
       " 'UNIVERSAL HOME ENTERTAINMENT': 10,\n",
       " 'Bumble Bee': 9,\n",
       " 'Nearly Natural': 9,\n",
       " 'Happy Family': 9,\n",
       " 'Nielsen': 9,\n",
       " 'J.a. Henckels': 9,\n",
       " 'Jergens': 9,\n",
       " 'Queen Helene': 9,\n",
       " 'Baxter of California': 8,\n",
       " 'SC Johnson': 8,\n",
       " 'Pioneer': 8,\n",
       " 'Nojo': 8,\n",
       " 'Kohler': 8,\n",
       " 'Weleda': 8,\n",
       " 'Feit': 8,\n",
       " 'Spam': 8,\n",
       " 'Concept Housewares': 8,\n",
       " 'Barielle': 8,\n",
       " 'Cetaphil': 7,\n",
       " \"Annie's\": 7,\n",
       " 'D-Con': 7,\n",
       " 'Starbucks': 7,\n",
       " 'Sony': 7,\n",
       " \"Musselman's\": 7,\n",
       " 'J.R. Watkins': 6,\n",
       " 'Sea Gull Lighting': 6,\n",
       " 'Pinaud': 6,\n",
       " 'Smead': 6,\n",
       " 'South Shore': 6,\n",
       " \"Africa's Best\": 6,\n",
       " 'Gain': 6,\n",
       " 'Warner Manufacturing': 6,\n",
       " 'JLA Home': 6,\n",
       " \"Lay's\": 6,\n",
       " 'Hollywood Beauty': 6,\n",
       " '4C Foods': 6,\n",
       " 'Bedtime Originals': 6,\n",
       " 'Wagan': 5,\n",
       " 'Plano': 5,\n",
       " 'Kikkoman': 5,\n",
       " 'Era': 5,\n",
       " 'Reebok': 5,\n",
       " 'AMBI': 4,\n",
       " 'Simple Green': 4,\n",
       " 'Dermalogica': 4,\n",
       " 'Home Health': 4,\n",
       " 'Fiskars': 4,\n",
       " 'Voortman': 4,\n",
       " 'Cantu': 4,\n",
       " 'Brownline': 4,\n",
       " 'Alberto VO5': 3,\n",
       " 'Toy Story': 3,\n",
       " 'Chips Deluxe': 3,\n",
       " 'Tramontina': 3,\n",
       " 'Lynk': 3,\n",
       " 'Cococare': 3,\n",
       " 'Maybelline': 3,\n",
       " 'No Brand': 2,\n",
       " 'The Seaweed Bath Co.': 2,\n",
       " 'Biokleen': 2,\n",
       " 'Lite Source': 2,\n",
       " 'Calvin Klein': 2,\n",
       " 'COOLA': 2,\n",
       " 'RC Cola': 2,\n",
       " 'Plum Organics': 2,\n",
       " 'Tim Holtz': 2,\n",
       " 'Hunter Fan': 2,\n",
       " 'Universal Music': 1,\n",
       " 'Heinz': 1,\n",
       " 'Jake And The Neverland Pirates': 1,\n",
       " 'Pearhead': 1,\n",
       " 'Citrus Magic': 1,\n",
       " 'La Tortilla Factory': 1,\n",
       " \"Herr's\": 1,\n",
       " \"Nature's Path\": 1,\n",
       " 'SLOAN VALVE COMPANY': 1,\n",
       " 'Hortense B. Hewitt': 1,\n",
       " \"Newman's Own Organics\": 1,\n",
       " 'iStarUSA': 1,\n",
       " \"Udi's\": 1,\n",
       " 'Wilton': 1,\n",
       " 'Stonyfield': 1,\n",
       " 'Yosemite Home Decor': 1,\n",
       " 'Mill Creek': 1,\n",
       " 'INC International Concepts': 1,\n",
       " 'Scotty': 1,\n",
       " 'Kenroy Home': 1,\n",
       " 'Carson-Dellosa Publishing': 1,\n",
       " 'Cal Lighting': 1,\n",
       " 'Touch of Color': 1,\n",
       " 'JNH Lifestyles': 1,\n",
       " 'Teamson': 1,\n",
       " 'Rizzy Home': 1,\n",
       " 'Pacific Natural Foods': 1,\n",
       " 'Noosa': 1,\n",
       " 'Southern Enterprises': 1,\n",
       " 'LDR': 1,\n",
       " 'National Mfg.': 1,\n",
       " 'Walkers': 1,\n",
       " 'Bodycology': 1}"
      ]
     },
     "execution_count": 192,
     "metadata": {},
     "output_type": "execute_result"
    }
   ],
   "source": [
    "from collections import Counter\n",
    "brands_dict = dict(Counter(df_clean['brand']))\n",
    "brands_count= {key: value for key, value in sorted(brands_dict.items(), \n",
    "               key=lambda item: item[1], reverse=True)}\n",
    "    \n",
    "\n",
    "brands_count"
   ]
  },
  {
   "cell_type": "code",
   "execution_count": 194,
   "metadata": {},
   "outputs": [
    {
     "data": {
      "text/plain": [
       "<AxesSubplot:xlabel='reviews_rating', ylabel='count'>"
      ]
     },
     "execution_count": 194,
     "metadata": {},
     "output_type": "execute_result"
    },
    {
     "data": {
      "image/png": "[encoded data removed]",
      "text/plain": [
       "<Figure size 432x288 with 1 Axes>"
      ]
     },
     "metadata": {
      "needs_background": "light"
     },
     "output_type": "display_data"
    }
   ],
   "source": [
    "df_nexxus = df_clean[df_clean['brand'] == 'Nexxus']\n",
    "(sns.countplot(x='reviews_rating', \n",
    "              data=df_nexxus,\n",
    "              palette='Set2') )\n"
   ]
  },
  {
   "cell_type": "code",
   "execution_count": 195,
   "metadata": {},
   "outputs": [
    {
     "data": {
      "text/plain": [
       "<AxesSubplot:xlabel='user_sentiment', ylabel='count'>"
      ]
     },
     "execution_count": 195,
     "metadata": {},
     "output_type": "execute_result"
    },
    {
     "data": {
      "image/png": "[encoded data removed]",
      "text/plain": [
       "<Figure size 432x288 with 1 Axes>"
      ]
     },
     "metadata": {
      "needs_background": "light"
     },
     "output_type": "display_data"
    }
   ],
   "source": [
    "df_nexxus = df_clean[df_clean['brand'] == 'Nexxus']\n",
    "(sns.countplot(x='user_sentiment', \n",
    "              data=df_nexxus,\n",
    "              palette='Set2') )"
   ]
  },
  {
   "cell_type": "code",
   "execution_count": 193,
   "metadata": {},
   "outputs": [
    {
     "data": {
      "text/html": [
       "<div>\n",
       "<style scoped>\n",
       "    .dataframe tbody tr th:only-of-type {\n",
       "        vertical-align: middle;\n",
       "    }\n",
       "\n",
       "    .dataframe tbody tr th {\n",
       "        vertical-align: top;\n",
       "    }\n",
       "\n",
       "    .dataframe thead th {\n",
       "        text-align: right;\n",
       "    }\n",
       "</style>\n",
       "<table border=\"1\" class=\"dataframe\">\n",
       "  <thead>\n",
       "    <tr style=\"text-align: right;\">\n",
       "      <th></th>\n",
       "      <th>brand</th>\n",
       "      <th>reviews_title</th>\n",
       "      <th>reviews_text</th>\n",
       "      <th>reviews_rating</th>\n",
       "    </tr>\n",
       "  </thead>\n",
       "  <tbody>\n",
       "    <tr>\n",
       "      <th>21751</th>\n",
       "      <td>Nexxus</td>\n",
       "      <td>Bring back the old formula</td>\n",
       "      <td>I have been using this for many years and loved it. However, the new formula smells terrible and the hold is not as strong... what happened Bring back the old formula. I have started looking for alternative products.</td>\n",
       "      <td>2</td>\n",
       "    </tr>\n",
       "    <tr>\n",
       "      <th>21143</th>\n",
       "      <td>Nexxus</td>\n",
       "      <td>Poo</td>\n",
       "      <td>Have been using Nexxus sculpting gel for maybe 3/4 years and now in 2017 you changed your formula and I don't appreciate the product any longer. New formula makes my hair stiff and difficult to comb and style after use. Want to know how could I possibly get the old product back as it was perfect...</td>\n",
       "      <td>1</td>\n",
       "    </tr>\n",
       "    <tr>\n",
       "      <th>21222</th>\n",
       "      <td>Nexxus</td>\n",
       "      <td>Terribly Disappointed!</td>\n",
       "      <td>I've relied on the old formula for 20 years to create body for my baby-fine straight hair. The new formula does not do the trick. I'll have to try other brands until I find a gel comparable to the old formula.</td>\n",
       "      <td>1</td>\n",
       "    </tr>\n",
       "  </tbody>\n",
       "</table>\n",
       "</div>"
      ],
      "text/plain": [
       "        brand               reviews_title  \\\n",
       "21751  Nexxus  Bring back the old formula   \n",
       "21143  Nexxus                         Poo   \n",
       "21222  Nexxus      Terribly Disappointed!   \n",
       "\n",
       "                                                                                                                                                                                                                                                                                                      reviews_text  \\\n",
       "21751                                                                                     I have been using this for many years and loved it. However, the new formula smells terrible and the hold is not as strong... what happened Bring back the old formula. I have started looking for alternative products.   \n",
       "21143  Have been using Nexxus sculpting gel for maybe 3/4 years and now in 2017 you changed your formula and I don't appreciate the product any longer. New formula makes my hair stiff and difficult to comb and style after use. Want to know how could I possibly get the old product back as it was perfect...   \n",
       "21222                                                                                            I've relied on the old formula for 20 years to create body for my baby-fine straight hair. The new formula does not do the trick. I'll have to try other brands until I find a gel comparable to the old formula.   \n",
       "\n",
       "       reviews_rating  \n",
       "21751               2  \n",
       "21143               1  \n",
       "21222               1  "
      ]
     },
     "execution_count": 193,
     "metadata": {},
     "output_type": "execute_result"
    }
   ],
   "source": [
    "# user_sentiment is positive and reviews_rating is less than 4(i.e 3 or less)\n",
    "df_nexxus[(df_nexxus[\"user_sentiment\"]==1) & (df_nexxus[\"reviews_rating\"]<4)][[\"brand\",\"reviews_title\",\"reviews_text\", \"reviews_rating\"]].sample(3)\n"
   ]
  },
  {
   "cell_type": "code",
   "execution_count": 196,
   "metadata": {},
   "outputs": [
    {
     "data": {
      "text/html": [
       "<div>\n",
       "<style scoped>\n",
       "    .dataframe tbody tr th:only-of-type {\n",
       "        vertical-align: middle;\n",
       "    }\n",
       "\n",
       "    .dataframe tbody tr th {\n",
       "        vertical-align: top;\n",
       "    }\n",
       "\n",
       "    .dataframe thead th {\n",
       "        text-align: right;\n",
       "    }\n",
       "</style>\n",
       "<table border=\"1\" class=\"dataframe\">\n",
       "  <thead>\n",
       "    <tr style=\"text-align: right;\">\n",
       "      <th>reviews_rating</th>\n",
       "      <th>1</th>\n",
       "      <th>2</th>\n",
       "      <th>3</th>\n",
       "      <th>4</th>\n",
       "      <th>5</th>\n",
       "      <th>All</th>\n",
       "    </tr>\n",
       "    <tr>\n",
       "      <th>user_sentiment</th>\n",
       "      <th></th>\n",
       "      <th></th>\n",
       "      <th></th>\n",
       "      <th></th>\n",
       "      <th></th>\n",
       "      <th></th>\n",
       "    </tr>\n",
       "  </thead>\n",
       "  <tbody>\n",
       "    <tr>\n",
       "      <th>0.0</th>\n",
       "      <td>272</td>\n",
       "      <td>12</td>\n",
       "      <td>2</td>\n",
       "      <td>1</td>\n",
       "      <td>1</td>\n",
       "      <td>288</td>\n",
       "    </tr>\n",
       "    <tr>\n",
       "      <th>1.0</th>\n",
       "      <td>331</td>\n",
       "      <td>17</td>\n",
       "      <td>8</td>\n",
       "      <td>3</td>\n",
       "      <td>44</td>\n",
       "      <td>403</td>\n",
       "    </tr>\n",
       "    <tr>\n",
       "      <th>All</th>\n",
       "      <td>603</td>\n",
       "      <td>29</td>\n",
       "      <td>10</td>\n",
       "      <td>4</td>\n",
       "      <td>45</td>\n",
       "      <td>691</td>\n",
       "    </tr>\n",
       "  </tbody>\n",
       "</table>\n",
       "</div>"
      ],
      "text/plain": [
       "reviews_rating    1   2   3  4   5  All\n",
       "user_sentiment                         \n",
       "0.0             272  12   2  1   1  288\n",
       "1.0             331  17   8  3  44  403\n",
       "All             603  29  10  4  45  691"
      ]
     },
     "execution_count": 196,
     "metadata": {},
     "output_type": "execute_result"
    }
   ],
   "source": [
    "pd.crosstab(df_nexxus['user_sentiment'], df_nexxus['reviews_rating'], margins=True)"
   ]
  },
  {
   "cell_type": "code",
   "execution_count": 197,
   "metadata": {},
   "outputs": [
    {
     "data": {
      "text/html": [
       "<div>\n",
       "<style scoped>\n",
       "    .dataframe tbody tr th:only-of-type {\n",
       "        vertical-align: middle;\n",
       "    }\n",
       "\n",
       "    .dataframe tbody tr th {\n",
       "        vertical-align: top;\n",
       "    }\n",
       "\n",
       "    .dataframe thead th {\n",
       "        text-align: right;\n",
       "    }\n",
       "</style>\n",
       "<table border=\"1\" class=\"dataframe\">\n",
       "  <thead>\n",
       "    <tr style=\"text-align: right;\">\n",
       "      <th>reviews_rating</th>\n",
       "      <th>1</th>\n",
       "      <th>2</th>\n",
       "      <th>3</th>\n",
       "      <th>4</th>\n",
       "      <th>5</th>\n",
       "      <th>All</th>\n",
       "    </tr>\n",
       "    <tr>\n",
       "      <th>user_sentiment</th>\n",
       "      <th></th>\n",
       "      <th></th>\n",
       "      <th></th>\n",
       "      <th></th>\n",
       "      <th></th>\n",
       "      <th></th>\n",
       "    </tr>\n",
       "  </thead>\n",
       "  <tbody>\n",
       "    <tr>\n",
       "      <th>0.0</th>\n",
       "      <td>585</td>\n",
       "      <td>137</td>\n",
       "      <td>217</td>\n",
       "      <td>548</td>\n",
       "      <td>1848</td>\n",
       "      <td>3335</td>\n",
       "    </tr>\n",
       "    <tr>\n",
       "      <th>1.0</th>\n",
       "      <td>776</td>\n",
       "      <td>272</td>\n",
       "      <td>1115</td>\n",
       "      <td>5444</td>\n",
       "      <td>18805</td>\n",
       "      <td>26412</td>\n",
       "    </tr>\n",
       "    <tr>\n",
       "      <th>All</th>\n",
       "      <td>1361</td>\n",
       "      <td>409</td>\n",
       "      <td>1332</td>\n",
       "      <td>5992</td>\n",
       "      <td>20653</td>\n",
       "      <td>29747</td>\n",
       "    </tr>\n",
       "  </tbody>\n",
       "</table>\n",
       "</div>"
      ],
      "text/plain": [
       "reviews_rating     1    2     3     4      5    All\n",
       "user_sentiment                                     \n",
       "0.0              585  137   217   548   1848   3335\n",
       "1.0              776  272  1115  5444  18805  26412\n",
       "All             1361  409  1332  5992  20653  29747"
      ]
     },
     "execution_count": 197,
     "metadata": {},
     "output_type": "execute_result"
    }
   ],
   "source": [
    "pd.crosstab(df_clean['user_sentiment'], df_clean['reviews_rating'], margins=True)"
   ]
  },
  {
   "attachments": {},
   "cell_type": "markdown",
   "metadata": {},
   "source": [
    "As per the above results, there looks to be mismtach between review_rating and user_sentiment. there are records that have higher user rating but user sentiment is negative and lower user rating but user sentiment is positive. We can either clean up those records or update the target column to the correct user sentiment, so that will be helpful for modelling. Here, updating the user_sentiment to 0 (but was 1) when the reviews_rating is less than 4, and updating the user_sentiment to 1(but was 0), when the reviews_rating is greater than or equal to 4"
   ]
  },
  {
   "cell_type": "code",
   "execution_count": 198,
   "metadata": {},
   "outputs": [
    {
     "data": {
      "text/html": [
       "<div>\n",
       "<style scoped>\n",
       "    .dataframe tbody tr th:only-of-type {\n",
       "        vertical-align: middle;\n",
       "    }\n",
       "\n",
       "    .dataframe tbody tr th {\n",
       "        vertical-align: top;\n",
       "    }\n",
       "\n",
       "    .dataframe thead th {\n",
       "        text-align: right;\n",
       "    }\n",
       "</style>\n",
       "<table border=\"1\" class=\"dataframe\">\n",
       "  <thead>\n",
       "    <tr style=\"text-align: right;\">\n",
       "      <th>reviews_rating</th>\n",
       "      <th>1</th>\n",
       "      <th>2</th>\n",
       "      <th>3</th>\n",
       "      <th>4</th>\n",
       "      <th>5</th>\n",
       "      <th>All</th>\n",
       "    </tr>\n",
       "    <tr>\n",
       "      <th>user_sentiment</th>\n",
       "      <th></th>\n",
       "      <th></th>\n",
       "      <th></th>\n",
       "      <th></th>\n",
       "      <th></th>\n",
       "      <th></th>\n",
       "    </tr>\n",
       "  </thead>\n",
       "  <tbody>\n",
       "    <tr>\n",
       "      <th>0.0</th>\n",
       "      <td>1361</td>\n",
       "      <td>409</td>\n",
       "      <td>1332</td>\n",
       "      <td>0</td>\n",
       "      <td>0</td>\n",
       "      <td>3102</td>\n",
       "    </tr>\n",
       "    <tr>\n",
       "      <th>1.0</th>\n",
       "      <td>0</td>\n",
       "      <td>0</td>\n",
       "      <td>0</td>\n",
       "      <td>5992</td>\n",
       "      <td>20653</td>\n",
       "      <td>26645</td>\n",
       "    </tr>\n",
       "    <tr>\n",
       "      <th>All</th>\n",
       "      <td>1361</td>\n",
       "      <td>409</td>\n",
       "      <td>1332</td>\n",
       "      <td>5992</td>\n",
       "      <td>20653</td>\n",
       "      <td>29747</td>\n",
       "    </tr>\n",
       "  </tbody>\n",
       "</table>\n",
       "</div>"
      ],
      "text/plain": [
       "reviews_rating     1    2     3     4      5    All\n",
       "user_sentiment                                     \n",
       "0.0             1361  409  1332     0      0   3102\n",
       "1.0                0    0     0  5992  20653  26645\n",
       "All             1361  409  1332  5992  20653  29747"
      ]
     },
     "execution_count": 198,
     "metadata": {},
     "output_type": "execute_result"
    }
   ],
   "source": [
    "\"\"\"\n",
    "Updating the user_sentiment so that its relevant to the model\n",
    "Part of pre-processing\n",
    "\"\"\"\n",
    "\n",
    "\n",
    "df_clean.loc[(df_clean[\"user_sentiment\"]==1) & (df_clean[\"reviews_rating\"]<4), \"user_sentiment\"] = 0\n",
    "df_clean.loc[(df_clean[\"user_sentiment\"]==0) & (df_clean[\"reviews_rating\"]>=4), \"user_sentiment\"] = 1\n",
    "\n",
    "pd.crosstab(df_clean['user_sentiment'], df_clean['reviews_rating'], margins=True)\n"
   ]
  },
  {
   "attachments": {},
   "cell_type": "markdown",
   "metadata": {},
   "source": [
    "### Training Analysis\n",
    "\n",
    "\n",
    "Checking Distribution of *reviews_rating* column¶\n"
   ]
  },
  {
   "cell_type": "code",
   "execution_count": 144,
   "metadata": {},
   "outputs": [
    {
     "data": {
      "image/png": "[encoded data removed]",
      "text/plain": [
       "<Figure size 432x288 with 1 Axes>"
      ]
     },
     "metadata": {
      "needs_background": "light"
     },
     "output_type": "display_data"
    }
   ],
   "source": [
    "sns.countplot(x = 'reviews_rating', \n",
    "              data = df_clean,\n",
    "              palette= 'Set2').set(title=\"Distribution of reviews rating by count\", \n",
    "                                                         xlabel=\"reviews rating\", \n",
    "                                                         ylabel=\"reviews count\")\n",
    "plt.show()\n"
   ]
  },
  {
   "attachments": {},
   "cell_type": "markdown",
   "metadata": {},
   "source": [
    "Most of the ratings from the users have been on the higher side. Most of the review ratings have been 5. This would surely cause a data imbalance as user_sentiment should be in alignment with the ratings. We will check and handle it later on.\n",
    "\n",
    "**Checking Top 5 Brands with negative reviews**"
   ]
  },
  {
   "cell_type": "code",
   "execution_count": 202,
   "metadata": {},
   "outputs": [
    {
     "data": {
      "image/png": "[encoded data removed]",
      "text/plain": [
       "<Figure size 432x288 with 1 Axes>"
      ]
     },
     "metadata": {
      "needs_background": "light"
     },
     "output_type": "display_data"
    }
   ],
   "source": [
    "df_clean[ df_clean.user_sentiment == 0].groupby('brand')['brand'].count().sort_values(ascending=False)[:5].plot(kind='bar',color='red')\n",
    "plt.title(\"Top 5 Brands with negative reviews\")\n",
    "plt.xlabel(\"Brands\")\n",
    "plt.ylabel(\"Percentage of negative reviews\")\n",
    "plt.show()"
   ]
  },
  {
   "attachments": {},
   "cell_type": "markdown",
   "metadata": {},
   "source": [
    "**Clorox** is the product that is rated the most negative and nearly 30% of the negative reviews have been towards Clorox.\n",
    "\n"
   ]
  },
  {
   "attachments": {},
   "cell_type": "markdown",
   "metadata": {},
   "source": [
    "#### Checking Top 5 Brands with positive reviews¶\n"
   ]
  },
  {
   "cell_type": "code",
   "execution_count": 201,
   "metadata": {},
   "outputs": [
    {
     "data": {
      "image/png": "[encoded data removed]",
      "text/plain": [
       "<Figure size 432x288 with 1 Axes>"
      ]
     },
     "metadata": {
      "needs_background": "light"
     },
     "output_type": "display_data"
    }
   ],
   "source": [
    "df_clean[ df_clean.user_sentiment == 1 ].groupby('brand')['brand'].count().sort_values(ascending=False)[:5].plot(kind='bar',color='green')\n",
    "# df_clean[ df_clean.user_sentiment == 0 ].brand.value_counts(normalize=True, ascending=False).head(5).plot(kind='bar')\n",
    "\n",
    "plt.title(\"Top 5 Brands with positive reviews\")\n",
    "plt.xlabel(\"Brands\")\n",
    "plt.ylabel(\"Percentage of positive reviews\")\n",
    "plt.show()"
   ]
  },
  {
   "cell_type": "code",
   "execution_count": 206,
   "metadata": {},
   "outputs": [
    {
     "data": {
      "text/plain": [
       "<AxesSubplot:xlabel='manufacturer'>"
      ]
     },
     "execution_count": 206,
     "metadata": {},
     "output_type": "execute_result"
    },
    {
     "data": {
      "image/png": "[encoded data removed]",
      "text/plain": [
       "<Figure size 432x288 with 1 Axes>"
      ]
     },
     "metadata": {
      "needs_background": "light"
     },
     "output_type": "display_data"
    }
   ],
   "source": [
    "df_clean[ df_clean.user_sentiment == 1 ].groupby('manufacturer')['manufacturer'].count().sort_values(ascending=False)[:5].plot(kind='bar',color='blue')\n"
   ]
  },
  {
   "cell_type": "code",
   "execution_count": 151,
   "metadata": {},
   "outputs": [
    {
     "data": {
      "text/plain": [
       "Clorox              0.36\n",
       "Warner Home Video   0.11\n",
       "Disney              0.04\n",
       "L'oreal Paris       0.04\n",
       "FOX                 0.03\n",
       "Name: brand, dtype: float64"
      ]
     },
     "execution_count": 151,
     "metadata": {},
     "output_type": "execute_result"
    }
   ],
   "source": [
    "df_clean.brand.value_counts(normalize=True).head(5)\n"
   ]
  },
  {
   "attachments": {},
   "cell_type": "markdown",
   "metadata": {},
   "source": [
    "* Surprisingly Clorox is the product that is rated the most positive as well and more than 35% of the positive reviews have been towards Clorox.\n",
    "\n",
    "* Checking the data, we realize that 35% of the brands for which we have the data is actually Clorox which is why it has the most reviews."
   ]
  },
  {
   "attachments": {},
   "cell_type": "markdown",
   "metadata": {},
   "source": [
    "#### Type Conversion\n",
    "Before we start the pre-processing steps, we need to make sure that all the text columns are converted to string type for future text operations.\n"
   ]
  },
  {
   "cell_type": "code",
   "execution_count": 152,
   "metadata": {},
   "outputs": [
    {
     "data": {
      "text/html": [
       "<div>\n",
       "<style scoped>\n",
       "    .dataframe tbody tr th:only-of-type {\n",
       "        vertical-align: middle;\n",
       "    }\n",
       "\n",
       "    .dataframe tbody tr th {\n",
       "        vertical-align: top;\n",
       "    }\n",
       "\n",
       "    .dataframe thead th {\n",
       "        text-align: right;\n",
       "    }\n",
       "</style>\n",
       "<table border=\"1\" class=\"dataframe\">\n",
       "  <thead>\n",
       "    <tr style=\"text-align: right;\">\n",
       "      <th></th>\n",
       "      <th>id</th>\n",
       "      <th>brand</th>\n",
       "      <th>categories</th>\n",
       "      <th>manufacturer</th>\n",
       "      <th>name</th>\n",
       "      <th>reviews_date</th>\n",
       "      <th>reviews_rating</th>\n",
       "      <th>reviews_text</th>\n",
       "      <th>reviews_title</th>\n",
       "      <th>reviews_username</th>\n",
       "      <th>user_sentiment</th>\n",
       "    </tr>\n",
       "  </thead>\n",
       "  <tbody>\n",
       "    <tr>\n",
       "      <th>8924</th>\n",
       "      <td>AVpf3VOfilAPnD_xjpun</td>\n",
       "      <td>Clorox</td>\n",
       "      <td>Household Essentials,Cleaning Supplies,Kitchen Cleaners,Cleaning Wipes,All-Purpose Cleaners,Health &amp; Household,Household Supplies,Household Cleaning,Ways To Shop,Classroom Essentials,Featured Brands,Home And Storage &amp; Org,Clorox,Glass Cleaners,Surface Care &amp; Protection,Business &amp; Industrial,Clea...</td>\n",
       "      <td>Clorox</td>\n",
       "      <td>Clorox Disinfecting Wipes Value Pack Scented 150 Ct Total</td>\n",
       "      <td>2015-01-09T21:38:14.000Z</td>\n",
       "      <td>5</td>\n",
       "      <td>teacher really appreciates it when I send them to school This review was collected as part of a promotion.</td>\n",
       "      <td>Schools</td>\n",
       "      <td>lilang8833</td>\n",
       "      <td>1.00</td>\n",
       "    </tr>\n",
       "    <tr>\n",
       "      <th>3439</th>\n",
       "      <td>AVpe5s3RLJeJML43x4eA</td>\n",
       "      <td>Pantene</td>\n",
       "      <td>Personal Care,Hair Care,Conditioner,Beauty,Shampoo &amp; Conditioner,Conditioners,Back To College,Ways To Shop,See more Pantene Expert Pro-v Age Defy Conditioner 8oz ...</td>\n",
       "      <td>Pantene Pro-V Hair Care</td>\n",
       "      <td>Pantene Pro-V Expert Collection Age Defy Conditioner</td>\n",
       "      <td>2016-05-10T00:00:00.000Z</td>\n",
       "      <td>5</td>\n",
       "      <td>I've been using Age Defy - Pantene Expert Collection conditioner for 2 weeks now and my hair is literally coming back to life! It feels so soft and is shining now and also feels stronger, the conditioner is super tick creamy and i use a lot less amount than i used to with another competitive bra...</td>\n",
       "      <td>Age Defy - Pantene Expert Collection Conditioner</td>\n",
       "      <td>mandre86</td>\n",
       "      <td>1.00</td>\n",
       "    </tr>\n",
       "  </tbody>\n",
       "</table>\n",
       "</div>"
      ],
      "text/plain": [
       "                        id    brand  \\\n",
       "8924  AVpf3VOfilAPnD_xjpun   Clorox   \n",
       "3439  AVpe5s3RLJeJML43x4eA  Pantene   \n",
       "\n",
       "                                                                                                                                                                                                                                                                                                       categories  \\\n",
       "8924  Household Essentials,Cleaning Supplies,Kitchen Cleaners,Cleaning Wipes,All-Purpose Cleaners,Health & Household,Household Supplies,Household Cleaning,Ways To Shop,Classroom Essentials,Featured Brands,Home And Storage & Org,Clorox,Glass Cleaners,Surface Care & Protection,Business & Industrial,Clea...   \n",
       "3439                                                                                                                                        Personal Care,Hair Care,Conditioner,Beauty,Shampoo & Conditioner,Conditioners,Back To College,Ways To Shop,See more Pantene Expert Pro-v Age Defy Conditioner 8oz ...   \n",
       "\n",
       "                 manufacturer  \\\n",
       "8924                   Clorox   \n",
       "3439  Pantene Pro-V Hair Care   \n",
       "\n",
       "                                                           name  \\\n",
       "8924  Clorox Disinfecting Wipes Value Pack Scented 150 Ct Total   \n",
       "3439       Pantene Pro-V Expert Collection Age Defy Conditioner   \n",
       "\n",
       "                  reviews_date  reviews_rating  \\\n",
       "8924  2015-01-09T21:38:14.000Z               5   \n",
       "3439  2016-05-10T00:00:00.000Z               5   \n",
       "\n",
       "                                                                                                                                                                                                                                                                                                     reviews_text  \\\n",
       "8924                                                                                                                                                                                                   teacher really appreciates it when I send them to school This review was collected as part of a promotion.   \n",
       "3439  I've been using Age Defy - Pantene Expert Collection conditioner for 2 weeks now and my hair is literally coming back to life! It feels so soft and is shining now and also feels stronger, the conditioner is super tick creamy and i use a lot less amount than i used to with another competitive bra...   \n",
       "\n",
       "                                         reviews_title reviews_username  \\\n",
       "8924                                           Schools       lilang8833   \n",
       "3439  Age Defy - Pantene Expert Collection Conditioner         mandre86   \n",
       "\n",
       "      user_sentiment  \n",
       "8924            1.00  \n",
       "3439            1.00  "
      ]
     },
     "execution_count": 152,
     "metadata": {},
     "output_type": "execute_result"
    }
   ],
   "source": [
    "# Convert all the text columns to string for performing text operations\n",
    "\n",
    "columns_to_str = ['brand', 'categories', 'manufacturer', 'name',\n",
    "                  'reviews_text', 'reviews_title', 'reviews_username']\n",
    "for column in columns_to_str:\n",
    "    df_clean[column] = df_clean[column].astype(str)\n",
    "df_clean.sample(2)\n"
   ]
  },
  {
   "attachments": {},
   "cell_type": "markdown",
   "metadata": {},
   "source": [
    "### Pre - Processing"
   ]
  },
  {
   "cell_type": "code",
   "execution_count": 271,
   "metadata": {},
   "outputs": [
    {
     "data": {
      "text/html": [
       "<div>\n",
       "<style scoped>\n",
       "    .dataframe tbody tr th:only-of-type {\n",
       "        vertical-align: middle;\n",
       "    }\n",
       "\n",
       "    .dataframe tbody tr th {\n",
       "        vertical-align: top;\n",
       "    }\n",
       "\n",
       "    .dataframe thead th {\n",
       "        text-align: right;\n",
       "    }\n",
       "</style>\n",
       "<table border=\"1\" class=\"dataframe\">\n",
       "  <thead>\n",
       "    <tr style=\"text-align: right;\">\n",
       "      <th></th>\n",
       "      <th>id</th>\n",
       "      <th>brand</th>\n",
       "      <th>categories</th>\n",
       "      <th>manufacturer</th>\n",
       "      <th>name</th>\n",
       "      <th>reviews_date</th>\n",
       "      <th>reviews_rating</th>\n",
       "      <th>reviews_text</th>\n",
       "      <th>reviews_title</th>\n",
       "      <th>reviews_username</th>\n",
       "      <th>user_sentiment</th>\n",
       "    </tr>\n",
       "  </thead>\n",
       "  <tbody>\n",
       "    <tr>\n",
       "      <th>10883</th>\n",
       "      <td>AVpf3VOfilAPnD_xjpun</td>\n",
       "      <td>Clorox</td>\n",
       "      <td>Household Essentials,Cleaning Supplies,Kitchen Cleaners,Cleaning Wipes,All-Purpose Cleaners,Health &amp; Household,Household Supplies,Household Cleaning,Ways To Shop,Classroom Essentials,Featured Brands,Home And Storage &amp; Org,Clorox,Glass Cleaners,Surface Care &amp; Protection,Business &amp; Industrial,Clea...</td>\n",
       "      <td>Clorox</td>\n",
       "      <td>Clorox Disinfecting Wipes Value Pack Scented 150 Ct Total</td>\n",
       "      <td>2014-12-05T00:00:00.000Z</td>\n",
       "      <td>5</td>\n",
       "      <td>Great product!! I care for my 91 year old mother and these wipes have been a wonderful help in so many ways. I primarily keep them in the bathroom where I use them every day for quick messes. I also like to use them in the kitchen to keep my counter tops extra clean. They have a nice scent and a...</td>\n",
       "      <td>Clorox Disinfecting Wipes are Great!</td>\n",
       "      <td>bettyhop</td>\n",
       "      <td>1.00</td>\n",
       "    </tr>\n",
       "  </tbody>\n",
       "</table>\n",
       "</div>"
      ],
      "text/plain": [
       "                         id   brand  \\\n",
       "10883  AVpf3VOfilAPnD_xjpun  Clorox   \n",
       "\n",
       "                                                                                                                                                                                                                                                                                                        categories  \\\n",
       "10883  Household Essentials,Cleaning Supplies,Kitchen Cleaners,Cleaning Wipes,All-Purpose Cleaners,Health & Household,Household Supplies,Household Cleaning,Ways To Shop,Classroom Essentials,Featured Brands,Home And Storage & Org,Clorox,Glass Cleaners,Surface Care & Protection,Business & Industrial,Clea...   \n",
       "\n",
       "      manufacturer                                                       name  \\\n",
       "10883       Clorox  Clorox Disinfecting Wipes Value Pack Scented 150 Ct Total   \n",
       "\n",
       "                   reviews_date  reviews_rating  \\\n",
       "10883  2014-12-05T00:00:00.000Z               5   \n",
       "\n",
       "                                                                                                                                                                                                                                                                                                      reviews_text  \\\n",
       "10883  Great product!! I care for my 91 year old mother and these wipes have been a wonderful help in so many ways. I primarily keep them in the bathroom where I use them every day for quick messes. I also like to use them in the kitchen to keep my counter tops extra clean. They have a nice scent and a...   \n",
       "\n",
       "                              reviews_title reviews_username  user_sentiment  \n",
       "10883  Clorox Disinfecting Wipes are Great!         bettyhop            1.00  "
      ]
     },
     "execution_count": 271,
     "metadata": {},
     "output_type": "execute_result"
    }
   ],
   "source": [
    "# Get a copy of dataframe for pre-processing\n",
    "df_prep = df_clean.copy(deep=True)\n",
    "df_prep.sample(1)"
   ]
  },
  {
   "attachments": {},
   "cell_type": "markdown",
   "metadata": {},
   "source": [
    "Combining reviews_text and reviews_title columns into reviews_combined and dropping the initial fields"
   ]
  },
  {
   "cell_type": "code",
   "execution_count": 272,
   "metadata": {},
   "outputs": [],
   "source": [
    "df_prep['reviews_combined'] = df_prep['reviews_text'] + \" \" + df_prep['reviews_title'] + \".\"\n",
    "df_prep.drop(columns=['reviews_text', 'reviews_title'], inplace=True)"
   ]
  },
  {
   "cell_type": "code",
   "execution_count": 273,
   "metadata": {},
   "outputs": [
    {
     "data": {
      "text/plain": [
       "(29748, 10)"
      ]
     },
     "execution_count": 273,
     "metadata": {},
     "output_type": "execute_result"
    }
   ],
   "source": [
    "df_prep.shape"
   ]
  },
  {
   "cell_type": "code",
   "execution_count": 274,
   "metadata": {},
   "outputs": [
    {
     "data": {
      "text/html": [
       "<div>\n",
       "<style scoped>\n",
       "    .dataframe tbody tr th:only-of-type {\n",
       "        vertical-align: middle;\n",
       "    }\n",
       "\n",
       "    .dataframe tbody tr th {\n",
       "        vertical-align: top;\n",
       "    }\n",
       "\n",
       "    .dataframe thead th {\n",
       "        text-align: right;\n",
       "    }\n",
       "</style>\n",
       "<table border=\"1\" class=\"dataframe\">\n",
       "  <thead>\n",
       "    <tr style=\"text-align: right;\">\n",
       "      <th></th>\n",
       "      <th>id</th>\n",
       "      <th>brand</th>\n",
       "      <th>categories</th>\n",
       "      <th>manufacturer</th>\n",
       "      <th>name</th>\n",
       "      <th>reviews_date</th>\n",
       "      <th>reviews_rating</th>\n",
       "      <th>reviews_username</th>\n",
       "      <th>user_sentiment</th>\n",
       "      <th>reviews_combined</th>\n",
       "    </tr>\n",
       "  </thead>\n",
       "  <tbody>\n",
       "    <tr>\n",
       "      <th>22684</th>\n",
       "      <td>AVpfOmKwLJeJML435GM7</td>\n",
       "      <td>Clear Scalp &amp; Hair Therapy</td>\n",
       "      <td>Personal Care,Hair Care,Shampoo,Featured Brands,Health &amp; Beauty,Unilever,Beauty,Shampoo &amp; Conditioner,Shampoos,Hair Care &amp; Styling,Shampoos &amp; Conditioners,Ways To Shop</td>\n",
       "      <td>Clear</td>\n",
       "      <td>Clear Scalp &amp; Hair Therapy Total Care Nourishing Shampoo</td>\n",
       "      <td>2016-02-10T14:56:35.000Z</td>\n",
       "      <td>5</td>\n",
       "      <td>barbb</td>\n",
       "      <td>1.00</td>\n",
       "      <td>I didn't know what to expect when I first tried these products but as soon as I started to pour out the shampoo I couldn't believe how thick and rich it was. I knew I was on to something good. The shampoo left my hair feeling so soft and easy to manage. The conditioner was a surprise too. Not th...</td>\n",
       "    </tr>\n",
       "  </tbody>\n",
       "</table>\n",
       "</div>"
      ],
      "text/plain": [
       "                         id                       brand  \\\n",
       "22684  AVpfOmKwLJeJML435GM7  Clear Scalp & Hair Therapy   \n",
       "\n",
       "                                                                                                                                                                    categories  \\\n",
       "22684  Personal Care,Hair Care,Shampoo,Featured Brands,Health & Beauty,Unilever,Beauty,Shampoo & Conditioner,Shampoos,Hair Care & Styling,Shampoos & Conditioners,Ways To Shop   \n",
       "\n",
       "      manufacturer                                                      name  \\\n",
       "22684        Clear  Clear Scalp & Hair Therapy Total Care Nourishing Shampoo   \n",
       "\n",
       "                   reviews_date  reviews_rating reviews_username  \\\n",
       "22684  2016-02-10T14:56:35.000Z               5            barbb   \n",
       "\n",
       "       user_sentiment  \\\n",
       "22684            1.00   \n",
       "\n",
       "                                                                                                                                                                                                                                                                                                  reviews_combined  \n",
       "22684  I didn't know what to expect when I first tried these products but as soon as I started to pour out the shampoo I couldn't believe how thick and rich it was. I knew I was on to something good. The shampoo left my hair feeling so soft and easy to manage. The conditioner was a surprise too. Not th...  "
      ]
     },
     "execution_count": 274,
     "metadata": {},
     "output_type": "execute_result"
    }
   ],
   "source": [
    "df_prep.sample()"
   ]
  },
  {
   "attachments": {},
   "cell_type": "markdown",
   "metadata": {},
   "source": [
    "\n",
    "**Removing columns unneeded for analysis**"
   ]
  },
  {
   "cell_type": "code",
   "execution_count": 275,
   "metadata": {},
   "outputs": [],
   "source": [
    "df_prep.drop(columns=['categories', 'manufacturer', 'reviews_date'], inplace=True)\n"
   ]
  },
  {
   "cell_type": "code",
   "execution_count": 276,
   "metadata": {},
   "outputs": [
    {
     "data": {
      "text/html": [
       "<div>\n",
       "<style scoped>\n",
       "    .dataframe tbody tr th:only-of-type {\n",
       "        vertical-align: middle;\n",
       "    }\n",
       "\n",
       "    .dataframe tbody tr th {\n",
       "        vertical-align: top;\n",
       "    }\n",
       "\n",
       "    .dataframe thead th {\n",
       "        text-align: right;\n",
       "    }\n",
       "</style>\n",
       "<table border=\"1\" class=\"dataframe\">\n",
       "  <thead>\n",
       "    <tr style=\"text-align: right;\">\n",
       "      <th></th>\n",
       "      <th>id</th>\n",
       "      <th>brand</th>\n",
       "      <th>name</th>\n",
       "      <th>reviews_rating</th>\n",
       "      <th>reviews_username</th>\n",
       "      <th>user_sentiment</th>\n",
       "      <th>reviews_combined</th>\n",
       "    </tr>\n",
       "  </thead>\n",
       "  <tbody>\n",
       "    <tr>\n",
       "      <th>19672</th>\n",
       "      <td>AVpfJP1C1cnluZ0-e3Xy</td>\n",
       "      <td>Clorox</td>\n",
       "      <td>Clorox Disinfecting Bathroom Cleaner</td>\n",
       "      <td>5</td>\n",
       "      <td>yohnie1</td>\n",
       "      <td>1.00</td>\n",
       "      <td>clorox wipes are great for the bathroom and kitchen. i keep them everywhere around the house. i also love the various scents that are available. love these wipes.</td>\n",
       "    </tr>\n",
       "  </tbody>\n",
       "</table>\n",
       "</div>"
      ],
      "text/plain": [
       "                         id   brand                                  name  \\\n",
       "19672  AVpfJP1C1cnluZ0-e3Xy  Clorox  Clorox Disinfecting Bathroom Cleaner   \n",
       "\n",
       "       reviews_rating reviews_username  user_sentiment  \\\n",
       "19672               5          yohnie1            1.00   \n",
       "\n",
       "                                                                                                                                                         reviews_combined  \n",
       "19672  clorox wipes are great for the bathroom and kitchen. i keep them everywhere around the house. i also love the various scents that are available. love these wipes.  "
      ]
     },
     "execution_count": 276,
     "metadata": {},
     "output_type": "execute_result"
    }
   ],
   "source": [
    "df_prep.sample()"
   ]
  },
  {
   "attachments": {},
   "cell_type": "markdown",
   "metadata": {},
   "source": [
    "**Creating dataframe for Sentiment analysis with only the required columns**"
   ]
  },
  {
   "cell_type": "code",
   "execution_count": 277,
   "metadata": {},
   "outputs": [],
   "source": [
    "df_sent = df_prep[['id','name','reviews_combined', 'user_sentiment']]\n"
   ]
  },
  {
   "cell_type": "code",
   "execution_count": 278,
   "metadata": {},
   "outputs": [
    {
     "data": {
      "text/plain": [
       "(29748, 4)"
      ]
     },
     "execution_count": 278,
     "metadata": {},
     "output_type": "execute_result"
    }
   ],
   "source": [
    "df_sent.shape"
   ]
  },
  {
   "cell_type": "code",
   "execution_count": 279,
   "metadata": {},
   "outputs": [
    {
     "data": {
      "text/html": [
       "<div>\n",
       "<style scoped>\n",
       "    .dataframe tbody tr th:only-of-type {\n",
       "        vertical-align: middle;\n",
       "    }\n",
       "\n",
       "    .dataframe tbody tr th {\n",
       "        vertical-align: top;\n",
       "    }\n",
       "\n",
       "    .dataframe thead th {\n",
       "        text-align: right;\n",
       "    }\n",
       "</style>\n",
       "<table border=\"1\" class=\"dataframe\">\n",
       "  <thead>\n",
       "    <tr style=\"text-align: right;\">\n",
       "      <th></th>\n",
       "      <th>id</th>\n",
       "      <th>name</th>\n",
       "      <th>reviews_combined</th>\n",
       "      <th>user_sentiment</th>\n",
       "    </tr>\n",
       "  </thead>\n",
       "  <tbody>\n",
       "    <tr>\n",
       "      <th>8770</th>\n",
       "      <td>AVpf3VOfilAPnD_xjpun</td>\n",
       "      <td>Clorox Disinfecting Wipes Value Pack Scented 150 Ct Total</td>\n",
       "      <td>Great products! i enjoyed each product and use them everyday. This review was collected as part of a promotion. Clorox Wipes.</td>\n",
       "      <td>1.00</td>\n",
       "    </tr>\n",
       "  </tbody>\n",
       "</table>\n",
       "</div>"
      ],
      "text/plain": [
       "                        id  \\\n",
       "8770  AVpf3VOfilAPnD_xjpun   \n",
       "\n",
       "                                                           name  \\\n",
       "8770  Clorox Disinfecting Wipes Value Pack Scented 150 Ct Total   \n",
       "\n",
       "                                                                                                                   reviews_combined  \\\n",
       "8770  Great products! i enjoyed each product and use them everyday. This review was collected as part of a promotion. Clorox Wipes.   \n",
       "\n",
       "      user_sentiment  \n",
       "8770            1.00  "
      ]
     },
     "execution_count": 279,
     "metadata": {},
     "output_type": "execute_result"
    }
   ],
   "source": [
    "df_sent.sample()"
   ]
  },
  {
   "attachments": {},
   "cell_type": "markdown",
   "metadata": {},
   "source": [
    "**Handling punctuations**"
   ]
  },
  {
   "cell_type": "code",
   "execution_count": 281,
   "metadata": {},
   "outputs": [
    {
     "data": {
      "text/html": [
       "<div>\n",
       "<style scoped>\n",
       "    .dataframe tbody tr th:only-of-type {\n",
       "        vertical-align: middle;\n",
       "    }\n",
       "\n",
       "    .dataframe tbody tr th {\n",
       "        vertical-align: top;\n",
       "    }\n",
       "\n",
       "    .dataframe thead th {\n",
       "        text-align: right;\n",
       "    }\n",
       "</style>\n",
       "<table border=\"1\" class=\"dataframe\">\n",
       "  <thead>\n",
       "    <tr style=\"text-align: right;\">\n",
       "      <th></th>\n",
       "      <th>id</th>\n",
       "      <th>name</th>\n",
       "      <th>reviews_combined</th>\n",
       "      <th>user_sentiment</th>\n",
       "      <th>reviews_cleaned</th>\n",
       "    </tr>\n",
       "  </thead>\n",
       "  <tbody>\n",
       "    <tr>\n",
       "      <th>25646</th>\n",
       "      <td>AVpfPaoqLJeJML435Xk9</td>\n",
       "      <td>Godzilla 3d Includes Digital Copy Ultraviolet 3d/2d Blu-Ray/dvd</td>\n",
       "      <td>My son will love it when he opens his Christmas presents. He is a big fan of Godzilla movies. I purchased this Godzilla movie for Christmas..</td>\n",
       "      <td>1.00</td>\n",
       "      <td>my son will love it when he opens his christmas presents he is a big fan of godzilla movies i purchased this godzilla movie for christmas</td>\n",
       "    </tr>\n",
       "  </tbody>\n",
       "</table>\n",
       "</div>"
      ],
      "text/plain": [
       "                         id  \\\n",
       "25646  AVpfPaoqLJeJML435Xk9   \n",
       "\n",
       "                                                                  name  \\\n",
       "25646  Godzilla 3d Includes Digital Copy Ultraviolet 3d/2d Blu-Ray/dvd   \n",
       "\n",
       "                                                                                                                                    reviews_combined  \\\n",
       "25646  My son will love it when he opens his Christmas presents. He is a big fan of Godzilla movies. I purchased this Godzilla movie for Christmas..   \n",
       "\n",
       "       user_sentiment  \\\n",
       "25646            1.00   \n",
       "\n",
       "                                                                                                                                 reviews_cleaned  \n",
       "25646  my son will love it when he opens his christmas presents he is a big fan of godzilla movies i purchased this godzilla movie for christmas  "
      ]
     },
     "execution_count": 281,
     "metadata": {},
     "output_type": "execute_result"
    }
   ],
   "source": [
    "df_sent['reviews_cleaned'] = df_sent['reviews_combined'].apply(clean_punctuation)\n",
    "df_sent.sample()"
   ]
  },
  {
   "cell_type": "code",
   "execution_count": 269,
   "metadata": {},
   "outputs": [],
   "source": [
    "# #Get all the stopwords from the text\n",
    "# stopwords_set = set(stopwords.words(\"english\"))\n",
    "# print(stopwords_set)"
   ]
  },
  {
   "cell_type": "code",
   "execution_count": 282,
   "metadata": {},
   "outputs": [],
   "source": [
    "df_sent['reviews_stopwords_cleaned'] = df_sent['reviews_cleaned'].apply(clean_stopwords)"
   ]
  },
  {
   "cell_type": "code",
   "execution_count": 283,
   "metadata": {},
   "outputs": [
    {
     "data": {
      "text/html": [
       "<div>\n",
       "<style scoped>\n",
       "    .dataframe tbody tr th:only-of-type {\n",
       "        vertical-align: middle;\n",
       "    }\n",
       "\n",
       "    .dataframe tbody tr th {\n",
       "        vertical-align: top;\n",
       "    }\n",
       "\n",
       "    .dataframe thead th {\n",
       "        text-align: right;\n",
       "    }\n",
       "</style>\n",
       "<table border=\"1\" class=\"dataframe\">\n",
       "  <thead>\n",
       "    <tr style=\"text-align: right;\">\n",
       "      <th></th>\n",
       "      <th>id</th>\n",
       "      <th>name</th>\n",
       "      <th>reviews_combined</th>\n",
       "      <th>user_sentiment</th>\n",
       "      <th>reviews_cleaned</th>\n",
       "      <th>reviews_stopwords_cleaned</th>\n",
       "    </tr>\n",
       "  </thead>\n",
       "  <tbody>\n",
       "    <tr>\n",
       "      <th>22631</th>\n",
       "      <td>AVpfOmKwLJeJML435GM7</td>\n",
       "      <td>Clear Scalp &amp; Hair Therapy Total Care Nourishing Shampoo</td>\n",
       "      <td>this product is great. it leaves my hair soft but yet manageable! This review was collected as part of a promotion. great stuff.</td>\n",
       "      <td>1.00</td>\n",
       "      <td>this product is great it leaves my hair soft but yet manageable this review was collected as part of a promotion great stuff</td>\n",
       "      <td>product great leaves hair soft yet manageable review collected part promotion great stuff</td>\n",
       "    </tr>\n",
       "    <tr>\n",
       "      <th>8819</th>\n",
       "      <td>AVpf3VOfilAPnD_xjpun</td>\n",
       "      <td>Clorox Disinfecting Wipes Value Pack Scented 150 Ct Total</td>\n",
       "      <td>We go through Clorox wipes like crazy!!! I have a canister in each of our 3 bathrooms at all times. I also keep travel packs in our vehicle and 1 in my purse. I always keep a canister or 2 under the kitchen sink. Sometimes I have to go look for the one under the sink because my 16 yr old son use...</td>\n",
       "      <td>1.00</td>\n",
       "      <td>we go through clorox wipes like crazy i have a canister in each of our 3 bathrooms at all times i also keep travel packs in our vehicle and 1 in my purse i always keep a canister or 2 under the kitchen sink sometimes i have to go look for the one under the sink because my 16 yr old son uses them...</td>\n",
       "      <td>go clorox wipes like crazy canister 3 bathrooms times also keep travel packs vehicle 1 purse always keep canister 2 kitchen sink sometimes go look one sink 16 yr old son uses keep tennis shoes clean couldnt live without clorox wipes thank great product best product market</td>\n",
       "    </tr>\n",
       "  </tbody>\n",
       "</table>\n",
       "</div>"
      ],
      "text/plain": [
       "                         id  \\\n",
       "22631  AVpfOmKwLJeJML435GM7   \n",
       "8819   AVpf3VOfilAPnD_xjpun   \n",
       "\n",
       "                                                            name  \\\n",
       "22631   Clear Scalp & Hair Therapy Total Care Nourishing Shampoo   \n",
       "8819   Clorox Disinfecting Wipes Value Pack Scented 150 Ct Total   \n",
       "\n",
       "                                                                                                                                                                                                                                                                                                  reviews_combined  \\\n",
       "22631                                                                                                                                                                             this product is great. it leaves my hair soft but yet manageable! This review was collected as part of a promotion. great stuff.   \n",
       "8819   We go through Clorox wipes like crazy!!! I have a canister in each of our 3 bathrooms at all times. I also keep travel packs in our vehicle and 1 in my purse. I always keep a canister or 2 under the kitchen sink. Sometimes I have to go look for the one under the sink because my 16 yr old son use...   \n",
       "\n",
       "       user_sentiment  \\\n",
       "22631            1.00   \n",
       "8819             1.00   \n",
       "\n",
       "                                                                                                                                                                                                                                                                                                   reviews_cleaned  \\\n",
       "22631                                                                                                                                                                                 this product is great it leaves my hair soft but yet manageable this review was collected as part of a promotion great stuff   \n",
       "8819   we go through clorox wipes like crazy i have a canister in each of our 3 bathrooms at all times i also keep travel packs in our vehicle and 1 in my purse i always keep a canister or 2 under the kitchen sink sometimes i have to go look for the one under the sink because my 16 yr old son uses them...   \n",
       "\n",
       "                                                                                                                                                                                                                                                              reviews_stopwords_cleaned  \n",
       "22631                                                                                                                                                                                         product great leaves hair soft yet manageable review collected part promotion great stuff  \n",
       "8819   go clorox wipes like crazy canister 3 bathrooms times also keep travel packs vehicle 1 purse always keep canister 2 kitchen sink sometimes go look one sink 16 yr old son uses keep tennis shoes clean couldnt live without clorox wipes thank great product best product market  "
      ]
     },
     "execution_count": 283,
     "metadata": {},
     "output_type": "execute_result"
    }
   ],
   "source": [
    "df_sent.sample(2)"
   ]
  },
  {
   "attachments": {},
   "cell_type": "markdown",
   "metadata": {},
   "source": [
    "**Handling Lemmatization**"
   ]
  },
  {
   "cell_type": "code",
   "execution_count": 304,
   "metadata": {},
   "outputs": [],
   "source": [
    "class Lemma(object):\n",
    "    def __init__(self):\n",
    "        pass\n",
    "\n",
    "    # This is a helper function to map NTLK position tags\n",
    "    def get_wordnet_pos(self,tag):\n",
    "        if tag.startswith('J'):\n",
    "            return wn.ADJ\n",
    "        elif tag.startswith('V'):\n",
    "            return wn.VERB\n",
    "        elif tag.startswith('N'):\n",
    "            return wn.NOUN\n",
    "        elif tag.startswith('R'):\n",
    "            return wn.ADV\n",
    "        else:\n",
    "            return wn.NOUN\n",
    "\n",
    "    def remove_stopword(self,text):\n",
    "        stop_words = set(stopwords.words('english'))\n",
    "        words = [word for word in text.split() if word.isalpha() and word not in stop_words]\n",
    "        return \" \".join(words)\n",
    "\n",
    "    # Lemmatize the sentence\n",
    "    def clean_lemma(self,text):\n",
    "        lemmatizer = WordNetLemmatizer()\n",
    "        word_pos_tags = nltk.pos_tag(word_tokenize(self.remove_stopword(text))) # Get position tags\n",
    "        # Map the position tag and lemmatize the word/token\n",
    "        words =[lemmatizer.lemmatize(tag[0], self.get_wordnet_pos(tag[1])) \n",
    "                for _, tag in enumerate(word_pos_tags)] \n",
    "        return \" \".join(words)\n",
    "    \n"
   ]
  },
  {
   "cell_type": "code",
   "execution_count": 306,
   "metadata": {},
   "outputs": [],
   "source": [
    "df_sent['reviews_lemmatized'] = df_sent['reviews_stopwords_cleaned'].apply(Lemma().clean_lemma)"
   ]
  },
  {
   "cell_type": "code",
   "execution_count": 300,
   "metadata": {},
   "outputs": [
    {
     "data": {
      "text/html": [
       "<div>\n",
       "<style scoped>\n",
       "    .dataframe tbody tr th:only-of-type {\n",
       "        vertical-align: middle;\n",
       "    }\n",
       "\n",
       "    .dataframe tbody tr th {\n",
       "        vertical-align: top;\n",
       "    }\n",
       "\n",
       "    .dataframe thead th {\n",
       "        text-align: right;\n",
       "    }\n",
       "</style>\n",
       "<table border=\"1\" class=\"dataframe\">\n",
       "  <thead>\n",
       "    <tr style=\"text-align: right;\">\n",
       "      <th></th>\n",
       "      <th>id</th>\n",
       "      <th>name</th>\n",
       "      <th>reviews_combined</th>\n",
       "      <th>user_sentiment</th>\n",
       "      <th>reviews_cleaned</th>\n",
       "      <th>reviews_stopwords_cleaned</th>\n",
       "      <th>reviews_lemmatized</th>\n",
       "    </tr>\n",
       "  </thead>\n",
       "  <tbody>\n",
       "    <tr>\n",
       "      <th>13531</th>\n",
       "      <td>AVpf3VOfilAPnD_xjpun</td>\n",
       "      <td>Clorox Disinfecting Wipes Value Pack Scented 150 Ct Total</td>\n",
       "      <td>Love the product. I use it for everything, especially when I handle meats, such as chicken.. I wipe down the cutting boards and the counters with this. Work in Progess.</td>\n",
       "      <td>1.00</td>\n",
       "      <td>love the product i use it for everything especially when i handle meats such as chicken i wipe down the cutting boards and the counters with this work in progess</td>\n",
       "      <td>love product use everything especially handle meats chicken wipe cutting boards counters work progess</td>\n",
       "      <td>love product use everything especially handle meat chicken wipe cutting board counter work progess</td>\n",
       "    </tr>\n",
       "  </tbody>\n",
       "</table>\n",
       "</div>"
      ],
      "text/plain": [
       "                         id  \\\n",
       "13531  AVpf3VOfilAPnD_xjpun   \n",
       "\n",
       "                                                            name  \\\n",
       "13531  Clorox Disinfecting Wipes Value Pack Scented 150 Ct Total   \n",
       "\n",
       "                                                                                                                                                               reviews_combined  \\\n",
       "13531  Love the product. I use it for everything, especially when I handle meats, such as chicken.. I wipe down the cutting boards and the counters with this. Work in Progess.   \n",
       "\n",
       "       user_sentiment  \\\n",
       "13531            1.00   \n",
       "\n",
       "                                                                                                                                                         reviews_cleaned  \\\n",
       "13531  love the product i use it for everything especially when i handle meats such as chicken i wipe down the cutting boards and the counters with this work in progess   \n",
       "\n",
       "                                                                                   reviews_stopwords_cleaned  \\\n",
       "13531  love product use everything especially handle meats chicken wipe cutting boards counters work progess   \n",
       "\n",
       "                                                                                       reviews_lemmatized  \n",
       "13531  love product use everything especially handle meat chicken wipe cutting board counter work progess  "
      ]
     },
     "execution_count": 300,
     "metadata": {},
     "output_type": "execute_result"
    }
   ],
   "source": [
    "df_sent.sample()"
   ]
  },
  {
   "cell_type": "code",
   "execution_count": 307,
   "metadata": {},
   "outputs": [
    {
     "data": {
      "image/png": "[encoded data removed]",
      "text/plain": [
       "<Figure size 360x360 with 1 Axes>"
      ]
     },
     "metadata": {
      "needs_background": "light"
     },
     "output_type": "display_data"
    }
   ],
   "source": [
    "# Visualizing 'reviews_lemmatized' character length\n",
    "character_length = [len(each_sent) for each_sent in df_sent['reviews_lemmatized']]\n",
    "\n",
    "sns.displot(character_length, kind='hist', bins=60)\n",
    "plt.xlabel(\"Reviews character length\")\n",
    "plt.ylabel(\"Total number of Reviews\")\n",
    "plt.title(\"Distribution of Reviews character length\")\n",
    "plt.show()"
   ]
  },
  {
   "cell_type": "code",
   "execution_count": 310,
   "metadata": {},
   "outputs": [
    {
     "data": {
      "image/png": "[encoded data removed]",
      "text/plain": [
       "<Figure size 720x720 with 1 Axes>"
      ]
     },
     "metadata": {
      "needs_background": "light"
     },
     "output_type": "display_data"
    }
   ],
   "source": [
    "from wordcloud import WordCloud, STOPWORDS, ImageColorGenerator\n",
    "#Using a word cloud visualize the top 30 words in review by frequency\n",
    "stopwords_wordcloud = set(STOPWORDS)\n",
    "wordcloud = WordCloud(max_font_size=60, max_words=200, \n",
    "                      background_color=\"white\", random_state=42, \n",
    "                      stopwords=stopwords_wordcloud).generate(str(df_sent['reviews_lemmatized']))\n",
    "plt.figure(figsize=[10,10])\n",
    "plt.imshow(wordcloud, interpolation=\"bilinear\")\n",
    "plt.axis(\"off\")\n",
    "plt.show()"
   ]
  },
  {
   "cell_type": "code",
   "execution_count": 311,
   "metadata": {},
   "outputs": [],
   "source": [
    "import string\n",
    "def getMostCommonWords(reviews, n_most_common):\n",
    "    # flatten review column into a list of words, and set each to lowercase\n",
    "    flattened_reviews = [word for review in reviews for word in \\\n",
    "                         review.lower().split()]\n",
    "\n",
    "\n",
    "    # remove punctuation from reviews\n",
    "    flattened_reviews = [''.join(char for char in review if \\\n",
    "                                 char not in string.punctuation) for \\\n",
    "                         review in flattened_reviews]\n",
    "\n",
    "\n",
    "    # remove any empty strings that were created by this process\n",
    "    flattened_reviews = [review for review in flattened_reviews if review]\n",
    "\n",
    "    return Counter(flattened_reviews).most_common(n_most_common)"
   ]
  },
  {
   "cell_type": "code",
   "execution_count": 316,
   "metadata": {},
   "outputs": [
    {
     "data": {
      "text/plain": [
       "([('great', 14347),\n",
       "  ('love', 12382),\n",
       "  ('use', 11694),\n",
       "  ('product', 10749),\n",
       "  ('movie', 9849),\n",
       "  ('review', 8880),\n",
       "  ('part', 8722),\n",
       "  ('promotion', 8374),\n",
       "  ('wipe', 8215),\n",
       "  ('collect', 7945)],\n",
       " [('product', 1915),\n",
       "  ('use', 1788),\n",
       "  ('hair', 1544),\n",
       "  ('formula', 1440),\n",
       "  ('new', 1260),\n",
       "  ('old', 1078),\n",
       "  ('good', 1070),\n",
       "  ('like', 1065),\n",
       "  ('movie', 1032),\n",
       "  ('gel', 874)])"
      ]
     },
     "execution_count": 316,
     "metadata": {},
     "output_type": "execute_result"
    }
   ],
   "source": [
    "pos_reviews = df_sent[df_sent['user_sentiment']==1]\n",
    "neg_reviews = df_sent[df_sent['user_sentiment']==0]\n",
    "\n",
    "getMostCommonWords(pos_reviews['reviews_lemmatized'],10), getMostCommonWords(neg_reviews['reviews_lemmatized'],10)"
   ]
  },
  {
   "cell_type": "code",
   "execution_count": 317,
   "metadata": {},
   "outputs": [],
   "source": [
    "#function to collect the n-gram frequency of words\n",
    "def get_top_n_ngram( corpus, n_gram_range ,n=None):\n",
    "    vec = CountVectorizer(ngram_range=(n_gram_range, n_gram_range), stop_words='english').fit(corpus)\n",
    "    bag_of_words = vec.transform(corpus)\n",
    "    #print(bag_of_words)\n",
    "    sum_words = bag_of_words.sum(axis=0) \n",
    "    print(\"--1\",sum_words)\n",
    "    for word, idx in vec.vocabulary_.items():\n",
    "        #print(word)\n",
    "        #print(idx)\n",
    "        break\n",
    "    words_freq = [(word, sum_words[0, idx]) for word, idx in vec.vocabulary_.items()]\n",
    "    #print(\"-31\",words_freq)\n",
    "    words_freq =sorted(words_freq, key = lambda x: x[1], reverse=True)\n",
    "    return words_freq[:n]"
   ]
  },
  {
   "cell_type": "code",
   "execution_count": 318,
   "metadata": {},
   "outputs": [
    {
     "name": "stdout",
     "output_type": "stream",
     "text": [
      "--1 [[1 1 1 ... 1 1 1]]\n"
     ]
    },
    {
     "data": {
      "text/html": [
       "<div>\n",
       "<style scoped>\n",
       "    .dataframe tbody tr th:only-of-type {\n",
       "        vertical-align: middle;\n",
       "    }\n",
       "\n",
       "    .dataframe tbody tr th {\n",
       "        vertical-align: top;\n",
       "    }\n",
       "\n",
       "    .dataframe thead th {\n",
       "        text-align: right;\n",
       "    }\n",
       "</style>\n",
       "<table border=\"1\" class=\"dataframe\">\n",
       "  <thead>\n",
       "    <tr style=\"text-align: right;\">\n",
       "      <th></th>\n",
       "      <th>0</th>\n",
       "      <th>1</th>\n",
       "    </tr>\n",
       "  </thead>\n",
       "  <tbody>\n",
       "    <tr>\n",
       "      <th>0</th>\n",
       "      <td>review collect</td>\n",
       "      <td>7921</td>\n",
       "    </tr>\n",
       "    <tr>\n",
       "      <th>1</th>\n",
       "      <td>collect promotion</td>\n",
       "      <td>7921</td>\n",
       "    </tr>\n",
       "    <tr>\n",
       "      <th>2</th>\n",
       "      <td>clorox wipe</td>\n",
       "      <td>2805</td>\n",
       "    </tr>\n",
       "    <tr>\n",
       "      <th>3</th>\n",
       "      <td>great product</td>\n",
       "      <td>1901</td>\n",
       "    </tr>\n",
       "    <tr>\n",
       "      <th>4</th>\n",
       "      <td>great movie</td>\n",
       "      <td>1725</td>\n",
       "    </tr>\n",
       "    <tr>\n",
       "      <th>5</th>\n",
       "      <td>easy use</td>\n",
       "      <td>1541</td>\n",
       "    </tr>\n",
       "    <tr>\n",
       "      <th>6</th>\n",
       "      <td>promotion great</td>\n",
       "      <td>1306</td>\n",
       "    </tr>\n",
       "    <tr>\n",
       "      <th>7</th>\n",
       "      <td>love clorox</td>\n",
       "      <td>1203</td>\n",
       "    </tr>\n",
       "    <tr>\n",
       "      <th>8</th>\n",
       "      <td>love product</td>\n",
       "      <td>1112</td>\n",
       "    </tr>\n",
       "    <tr>\n",
       "      <th>9</th>\n",
       "      <td>promotion love</td>\n",
       "      <td>1100</td>\n",
       "    </tr>\n",
       "  </tbody>\n",
       "</table>\n",
       "</div>"
      ],
      "text/plain": [
       "                   0     1\n",
       "0     review collect  7921\n",
       "1  collect promotion  7921\n",
       "2        clorox wipe  2805\n",
       "3      great product  1901\n",
       "4        great movie  1725\n",
       "5           easy use  1541\n",
       "6    promotion great  1306\n",
       "7        love clorox  1203\n",
       "8       love product  1112\n",
       "9     promotion love  1100"
      ]
     },
     "execution_count": 318,
     "metadata": {},
     "output_type": "execute_result"
    }
   ],
   "source": [
    "#Print the top 10 words in the bigram frequency\n",
    "common_words = get_top_n_ngram(pos_reviews['reviews_lemmatized'], 2, 10)\n",
    "pd.DataFrame(common_words)"
   ]
  },
  {
   "cell_type": "code",
   "execution_count": 319,
   "metadata": {},
   "outputs": [
    {
     "name": "stdout",
     "output_type": "stream",
     "text": [
      "--1 [[1 1 1 ... 1 1 2]]\n"
     ]
    },
    {
     "data": {
      "text/html": [
       "<div>\n",
       "<style scoped>\n",
       "    .dataframe tbody tr th:only-of-type {\n",
       "        vertical-align: middle;\n",
       "    }\n",
       "\n",
       "    .dataframe tbody tr th {\n",
       "        vertical-align: top;\n",
       "    }\n",
       "\n",
       "    .dataframe thead th {\n",
       "        text-align: right;\n",
       "    }\n",
       "</style>\n",
       "<table border=\"1\" class=\"dataframe\">\n",
       "  <thead>\n",
       "    <tr style=\"text-align: right;\">\n",
       "      <th></th>\n",
       "      <th>0</th>\n",
       "      <th>1</th>\n",
       "    </tr>\n",
       "  </thead>\n",
       "  <tbody>\n",
       "    <tr>\n",
       "      <th>0</th>\n",
       "      <td>new formula</td>\n",
       "      <td>520</td>\n",
       "    </tr>\n",
       "    <tr>\n",
       "      <th>1</th>\n",
       "      <td>old formula</td>\n",
       "      <td>515</td>\n",
       "    </tr>\n",
       "    <tr>\n",
       "      <th>2</th>\n",
       "      <td>bring old</td>\n",
       "      <td>370</td>\n",
       "    </tr>\n",
       "    <tr>\n",
       "      <th>3</th>\n",
       "      <td>review collect</td>\n",
       "      <td>345</td>\n",
       "    </tr>\n",
       "    <tr>\n",
       "      <th>4</th>\n",
       "      <td>collect promotion</td>\n",
       "      <td>345</td>\n",
       "    </tr>\n",
       "    <tr>\n",
       "      <th>5</th>\n",
       "      <td>exxtra gel</td>\n",
       "      <td>205</td>\n",
       "    </tr>\n",
       "    <tr>\n",
       "      <th>6</th>\n",
       "      <td>use product</td>\n",
       "      <td>179</td>\n",
       "    </tr>\n",
       "    <tr>\n",
       "      <th>7</th>\n",
       "      <td>make hair</td>\n",
       "      <td>156</td>\n",
       "    </tr>\n",
       "    <tr>\n",
       "      <th>8</th>\n",
       "      <td>shampoo conditioner</td>\n",
       "      <td>147</td>\n",
       "    </tr>\n",
       "    <tr>\n",
       "      <th>9</th>\n",
       "      <td>receive product</td>\n",
       "      <td>127</td>\n",
       "    </tr>\n",
       "  </tbody>\n",
       "</table>\n",
       "</div>"
      ],
      "text/plain": [
       "                     0    1\n",
       "0          new formula  520\n",
       "1          old formula  515\n",
       "2            bring old  370\n",
       "3       review collect  345\n",
       "4    collect promotion  345\n",
       "5           exxtra gel  205\n",
       "6          use product  179\n",
       "7            make hair  156\n",
       "8  shampoo conditioner  147\n",
       "9      receive product  127"
      ]
     },
     "execution_count": 319,
     "metadata": {},
     "output_type": "execute_result"
    }
   ],
   "source": [
    "#Print the top 10 words in the bigram frequency\n",
    "common_words = get_top_n_ngram(neg_reviews['reviews_lemmatized'], 2, 10)\n",
    "pd.DataFrame(common_words)"
   ]
  },
  {
   "attachments": {},
   "cell_type": "markdown",
   "metadata": {},
   "source": [
    "### Feature Extraction\n",
    "\n",
    "In this part, we will be performing\n",
    "\n",
    "1. Feature Extraction using TF-IDF\n",
    "2. Check for and handle Class imbalance\n",
    "3. Perform train, test split"
   ]
  },
  {
   "attachments": {},
   "cell_type": "markdown",
   "metadata": {},
   "source": [
    "Feature Extraction using **TF-IDF** Convert the raw texts to a matrix of TF-IDF features\n",
    "\n",
    "**max_df** is used for removing terms that appear too frequently, also known as \"corpus-specific stop words\" max_df = 0.95 means \"ignore terms that appear in more than 95% of the complaints\"\n",
    "\n",
    "**min_df** is used for removing terms that appear too infrequently min_df = 5 means \"ignore terms that appear in less than 5 complaints\"\n",
    "\n"
   ]
  },
  {
   "cell_type": "code",
   "execution_count": 331,
   "metadata": {},
   "outputs": [],
   "source": [
    "df_sent.user_sentiment.fillna(1, inplace=True)\n"
   ]
  },
  {
   "cell_type": "code",
   "execution_count": 333,
   "metadata": {},
   "outputs": [],
   "source": [
    "# Initialize the TfidfVectorizer \n",
    "tfidf = TfidfVectorizer(min_df=5, max_df=0.95, stop_words='english', ngram_range=(1,2))"
   ]
  },
  {
   "cell_type": "code",
   "execution_count": 334,
   "metadata": {},
   "outputs": [],
   "source": [
    "X = tfidf.fit_transform(df_sent['reviews_lemmatized'])\n",
    "\n",
    "y= df_sent['user_sentiment']"
   ]
  },
  {
   "attachments": {},
   "cell_type": "markdown",
   "metadata": {},
   "source": [
    "Train - Test Split"
   ]
  },
  {
   "cell_type": "code",
   "execution_count": 335,
   "metadata": {},
   "outputs": [
    {
     "name": "stdout",
     "output_type": "stream",
     "text": [
      "Train shapes: (22311, 16199) (22311,)\n",
      "Test shapes: (7437, 16199) (7437,)\n"
     ]
    }
   ],
   "source": [
    "X_train, X_test, y_train, y_test = train_test_split(X, y, random_state=42, test_size=0.25)\n",
    "print(\"Train shapes:\", X_train.shape, y_train.shape)\n",
    "print(\"Test shapes:\", X_test.shape, y_test.shape)"
   ]
  },
  {
   "attachments": {},
   "cell_type": "markdown",
   "metadata": {},
   "source": [
    "Class Imbalance"
   ]
  },
  {
   "cell_type": "code",
   "execution_count": 336,
   "metadata": {},
   "outputs": [
    {
     "data": {
      "text/plain": [
       "1.00   0.90\n",
       "0.00   0.10\n",
       "Name: user_sentiment, dtype: float64"
      ]
     },
     "execution_count": 336,
     "metadata": {},
     "output_type": "execute_result"
    }
   ],
   "source": [
    "# Check the data to see if there is a class imbalance in the data\n",
    "df_sent['user_sentiment'].value_counts(normalize=True)"
   ]
  },
  {
   "attachments": {},
   "cell_type": "markdown",
   "metadata": {},
   "source": [
    "From the results above, we can concluded that there is a heavy class imbalance prevalent in the data.\n",
    "\n",
    "Positive sentiments make up 89% of the data and Negative sentiments make up only 11%\n",
    "\n",
    "We are going to handle the imbalance using a technique called SMOTE (Synthetic Minority Oversampling Technique)\n",
    "This is an oversampling method that generates synthetic samples for the minority class"
   ]
  },
  {
   "cell_type": "code",
   "execution_count": 337,
   "metadata": {},
   "outputs": [
    {
     "name": "stdout",
     "output_type": "stream",
     "text": [
      "Before handling imbalance Counter({1.0: 19967, 0.0: 2344})\n",
      "After handling imbalance Counter({1.0: 19967, 0.0: 19967})\n"
     ]
    }
   ],
   "source": [
    "counter = Counter(y_train)\n",
    "print(\"Before handling imbalance\", counter)\n",
    "\n",
    "#oversampling using SMOTE\n",
    "smote = SMOTE(random_state=42)\n",
    "X_train_sm, y_train_sm = smote.fit_resample(X_train,y_train)\n",
    "\n",
    "counter = Counter(y_train_sm)\n",
    "print(\"After handling imbalance\", counter)"
   ]
  },
  {
   "attachments": {},
   "cell_type": "markdown",
   "metadata": {},
   "source": [
    "**Both the positive and negative sentiments now have equal no of rows.**"
   ]
  },
  {
   "attachments": {},
   "cell_type": "markdown",
   "metadata": {},
   "source": [
    "### Model Building\n",
    "\n",
    "We will be creating the following three ML models based on performance for predicting the sentiments based on the text and title of the reviews:\n",
    "\n",
    "1. Random Forest\n",
    "2. XGBoost"
   ]
  },
  {
   "cell_type": "code",
   "execution_count": 338,
   "metadata": {},
   "outputs": [],
   "source": [
    "# Function to display scores\n",
    "def evaluation_scores(classifier, X_test, y_test):\n",
    "\n",
    "  # Calculating Predicted value\n",
    "  y_pred = classifier.predict(X_test)\n",
    "\n",
    "  # Create confusion matrix\n",
    "  conf_m = confusion_matrix(y_test, y_pred)\n",
    "\n",
    "  print(\"Visualizing the Confusion Matrix with a Heatmap\")\n",
    "  print(\"\\n\")\n",
    "  print(\"*\"*50)\n",
    "  # Visualize Confusion Matrix with heatmap\n",
    "  fig, ax = plt.subplots(figsize=(6, 6))\n",
    "  ax = sns.heatmap(confusion_matrix(y_test, y_pred),\n",
    "                  annot=True,\n",
    "                  cbar=False,\n",
    "                  cmap=\"RdYlGn\", fmt = '0.1f')\n",
    "  plt.xlabel(\"Actual label\")\n",
    "  plt.ylabel(\"Predicted label\")\n",
    "  plt.show()\n",
    "  print(\"*\"*50)\n",
    "  print(\"\\n\")\n",
    "\n",
    "  # Calculating the values of True Positives, True Negatives, False Positivies and False Negatives\n",
    "  TP = conf_m[1][1]\n",
    "  TN = conf_m[0][0]\n",
    "  FP = conf_m[0][1]\n",
    "  FN = conf_m[1][0]\n",
    "\n",
    "  print(\"Values of True Positives, True Negatives, False Positivies and False Negatives\")\n",
    "  print(\"~\"*50)\n",
    "  print('True Positives:', TP)\n",
    "  print('True Negatives:', TN)\n",
    "  print('False Positives:', FP)\n",
    "  print('False Negatives:', FN)\n",
    "  print(\"~\"*50)\n",
    "  print(\"\\n\")\n",
    "\n",
    "  # Calculating Accuracy\n",
    "  accuracy = accuracy_score(y_test, y_pred)\n",
    "  accuracy = round(accuracy,2)\n",
    "  \n",
    "  # Calculating Sensitivity/Recall\n",
    "  sensitivity_recall = (TP / float(TP + FN))\n",
    "  sensitivity_recall = round(sensitivity_recall,2)\n",
    "  \n",
    "  # Calculating Specificity\n",
    "  specificity = (TN / float(TN + FP))\n",
    "  specificity = round(specificity,2)  \n",
    "  \n",
    "  # Calculating Precision\n",
    "  precision = (TN / float(TN + FP))\n",
    "  precision = round(precision,2)  \n",
    "  \n",
    "  # Calculating F_1 score\n",
    "  F1_score = 2 * ((precision * sensitivity_recall) / (precision + sensitivity_recall))\n",
    "  F1_score = round(F1_score,2)  \n",
    "  \n",
    "  print(\"Evaluation Score Summary\")\n",
    "  print('-'*50)\n",
    "  print(f'Accuracy Score: {round(accuracy,2)}')\n",
    "  print(f'Sensitivity/Recall Score: {round(sensitivity_recall,2)}') \n",
    "  print(f'Specificity Score: {round(specificity,2)}') \n",
    "  print(f'Precision: {round(precision,2)}')\n",
    "  print(f'F1 Score: {round(F1_score,2)}')\n",
    "  print('-'*50)\n",
    "\n",
    "  # Returning evaluation results for comparison later\n",
    "  evaluation_metrics = []\n",
    "  evaluation_metrics.append(accuracy)\n",
    "  evaluation_metrics.append(sensitivity_recall)\n",
    "  evaluation_metrics.append(specificity)\n",
    "  evaluation_metrics.append(precision)\n",
    "  evaluation_metrics.append(F1_score)\n",
    "  \n",
    "  return evaluation_metrics"
   ]
  },
  {
   "attachments": {},
   "cell_type": "markdown",
   "metadata": {},
   "source": [
    "#### Base Model\n"
   ]
  },
  {
   "cell_type": "code",
   "execution_count": 339,
   "metadata": {},
   "outputs": [],
   "source": [
    "logreg = LogisticRegression(random_state=42, solver='liblinear').fit(X_train_sm, y_train_sm)\n"
   ]
  },
  {
   "cell_type": "code",
   "execution_count": 341,
   "metadata": {},
   "outputs": [
    {
     "name": "stdout",
     "output_type": "stream",
     "text": [
      "Visualizing the Confusion Matrix with a Heatmap\n",
      "\n",
      "\n",
      "**************************************************\n"
     ]
    },
    {
     "data": {
      "image/png": "[encoded data removed]",
      "text/plain": [
       "<Figure size 432x432 with 1 Axes>"
      ]
     },
     "metadata": {
      "needs_background": "light"
     },
     "output_type": "display_data"
    },
    {
     "name": "stdout",
     "output_type": "stream",
     "text": [
      "**************************************************\n",
      "\n",
      "\n",
      "Values of True Positives, True Negatives, False Positivies and False Negatives\n",
      "~~~~~~~~~~~~~~~~~~~~~~~~~~~~~~~~~~~~~~~~~~~~~~~~~~\n",
      "True Positives: 6227\n",
      "True Negatives: 591\n",
      "False Positives: 167\n",
      "False Negatives: 452\n",
      "~~~~~~~~~~~~~~~~~~~~~~~~~~~~~~~~~~~~~~~~~~~~~~~~~~\n",
      "\n",
      "\n",
      "Evaluation Score Summary\n",
      "--------------------------------------------------\n",
      "Accuracy Score: 0.92\n",
      "Sensitivity/Recall Score: 0.93\n",
      "Specificity Score: 0.78\n",
      "Precision: 0.78\n",
      "F1 Score: 0.85\n",
      "--------------------------------------------------\n"
     ]
    }
   ],
   "source": [
    "#Getting the score from the base model\n",
    "lr_metrics = evaluation_scores(logreg, X_test, y_test)"
   ]
  },
  {
   "cell_type": "code",
   "execution_count": 342,
   "metadata": {},
   "outputs": [
    {
     "data": {
      "text/html": [
       "<div>\n",
       "<style scoped>\n",
       "    .dataframe tbody tr th:only-of-type {\n",
       "        vertical-align: middle;\n",
       "    }\n",
       "\n",
       "    .dataframe tbody tr th {\n",
       "        vertical-align: top;\n",
       "    }\n",
       "\n",
       "    .dataframe thead th {\n",
       "        text-align: right;\n",
       "    }\n",
       "</style>\n",
       "<table border=\"1\" class=\"dataframe\">\n",
       "  <thead>\n",
       "    <tr style=\"text-align: right;\">\n",
       "      <th></th>\n",
       "      <th>Metrics</th>\n",
       "      <th>Logistic Regression Base Model</th>\n",
       "    </tr>\n",
       "  </thead>\n",
       "  <tbody>\n",
       "    <tr>\n",
       "      <th>0</th>\n",
       "      <td>Accuracy</td>\n",
       "      <td>0.92</td>\n",
       "    </tr>\n",
       "    <tr>\n",
       "      <th>1</th>\n",
       "      <td>Sensitivity/Recall</td>\n",
       "      <td>0.93</td>\n",
       "    </tr>\n",
       "    <tr>\n",
       "      <th>2</th>\n",
       "      <td>Specificity</td>\n",
       "      <td>0.78</td>\n",
       "    </tr>\n",
       "    <tr>\n",
       "      <th>3</th>\n",
       "      <td>Precision</td>\n",
       "      <td>0.78</td>\n",
       "    </tr>\n",
       "    <tr>\n",
       "      <th>4</th>\n",
       "      <td>F1 Score</td>\n",
       "      <td>0.85</td>\n",
       "    </tr>\n",
       "  </tbody>\n",
       "</table>\n",
       "</div>"
      ],
      "text/plain": [
       "              Metrics  Logistic Regression Base Model\n",
       "0            Accuracy                            0.92\n",
       "1  Sensitivity/Recall                            0.93\n",
       "2         Specificity                            0.78\n",
       "3           Precision                            0.78\n",
       "4            F1 Score                            0.85"
      ]
     },
     "execution_count": 342,
     "metadata": {},
     "output_type": "execute_result"
    }
   ],
   "source": [
    "# Printing the scores of the base model as reference\n",
    "df_lrb_metrics = pd.DataFrame({'Metrics': ['Accuracy','Sensitivity/Recall','Specificity','Precision','F1 Score'], 'Logistic Regression Base Model': lr_metrics},\n",
    "                             columns = ['Metrics', 'Logistic Regression Base Model']\n",
    "                             )\n",
    "df_lrb_metrics"
   ]
  },
  {
   "attachments": {},
   "cell_type": "markdown",
   "metadata": {},
   "source": [
    "#### Random Forest Classifier"
   ]
  },
  {
   "cell_type": "code",
   "execution_count": 343,
   "metadata": {},
   "outputs": [],
   "source": [
    "rf = RandomForestClassifier(random_state=42).fit(X_train_sm, y_train_sm)\n"
   ]
  },
  {
   "cell_type": "code",
   "execution_count": 344,
   "metadata": {},
   "outputs": [
    {
     "name": "stdout",
     "output_type": "stream",
     "text": [
      "Visualizing the Confusion Matrix with a Heatmap\n",
      "\n",
      "\n",
      "**************************************************\n"
     ]
    },
    {
     "data": {
      "image/png": "[encoded data removed]",
      "text/plain": [
       "<Figure size 432x432 with 1 Axes>"
      ]
     },
     "metadata": {
      "needs_background": "light"
     },
     "output_type": "display_data"
    },
    {
     "name": "stdout",
     "output_type": "stream",
     "text": [
      "**************************************************\n",
      "\n",
      "\n",
      "Values of True Positives, True Negatives, False Positivies and False Negatives\n",
      "~~~~~~~~~~~~~~~~~~~~~~~~~~~~~~~~~~~~~~~~~~~~~~~~~~\n",
      "True Positives: 6533\n",
      "True Negatives: 438\n",
      "False Positives: 320\n",
      "False Negatives: 146\n",
      "~~~~~~~~~~~~~~~~~~~~~~~~~~~~~~~~~~~~~~~~~~~~~~~~~~\n",
      "\n",
      "\n",
      "Evaluation Score Summary\n",
      "--------------------------------------------------\n",
      "Accuracy Score: 0.94\n",
      "Sensitivity/Recall Score: 0.98\n",
      "Specificity Score: 0.58\n",
      "Precision: 0.58\n",
      "F1 Score: 0.73\n",
      "--------------------------------------------------\n"
     ]
    }
   ],
   "source": [
    "rf_metrics = evaluation_scores(rf, X_test, y_test)"
   ]
  },
  {
   "cell_type": "code",
   "execution_count": 345,
   "metadata": {},
   "outputs": [
    {
     "data": {
      "text/html": [
       "<div>\n",
       "<style scoped>\n",
       "    .dataframe tbody tr th:only-of-type {\n",
       "        vertical-align: middle;\n",
       "    }\n",
       "\n",
       "    .dataframe tbody tr th {\n",
       "        vertical-align: top;\n",
       "    }\n",
       "\n",
       "    .dataframe thead th {\n",
       "        text-align: right;\n",
       "    }\n",
       "</style>\n",
       "<table border=\"1\" class=\"dataframe\">\n",
       "  <thead>\n",
       "    <tr style=\"text-align: right;\">\n",
       "      <th></th>\n",
       "      <th>Metrics</th>\n",
       "      <th>RF Base Model</th>\n",
       "    </tr>\n",
       "  </thead>\n",
       "  <tbody>\n",
       "    <tr>\n",
       "      <th>0</th>\n",
       "      <td>Accuracy</td>\n",
       "      <td>0.94</td>\n",
       "    </tr>\n",
       "    <tr>\n",
       "      <th>1</th>\n",
       "      <td>Sensitivity/Recall</td>\n",
       "      <td>0.98</td>\n",
       "    </tr>\n",
       "    <tr>\n",
       "      <th>2</th>\n",
       "      <td>Specificity</td>\n",
       "      <td>0.58</td>\n",
       "    </tr>\n",
       "    <tr>\n",
       "      <th>3</th>\n",
       "      <td>Precision</td>\n",
       "      <td>0.58</td>\n",
       "    </tr>\n",
       "    <tr>\n",
       "      <th>4</th>\n",
       "      <td>F1 Score</td>\n",
       "      <td>0.73</td>\n",
       "    </tr>\n",
       "  </tbody>\n",
       "</table>\n",
       "</div>"
      ],
      "text/plain": [
       "              Metrics  RF Base Model\n",
       "0            Accuracy           0.94\n",
       "1  Sensitivity/Recall           0.98\n",
       "2         Specificity           0.58\n",
       "3           Precision           0.58\n",
       "4            F1 Score           0.73"
      ]
     },
     "execution_count": 345,
     "metadata": {},
     "output_type": "execute_result"
    }
   ],
   "source": [
    "# Printing the scores of the base model as reference\n",
    "df_rfb_metrics = pd.DataFrame({'Metrics': ['Accuracy','Sensitivity/Recall','Specificity','Precision','F1 Score'], 'RF Base Model': rf_metrics},\n",
    "                             columns = ['Metrics', 'RF Base Model']\n",
    "                             )\n",
    "df_rfb_metrics"
   ]
  },
  {
   "attachments": {},
   "cell_type": "markdown",
   "metadata": {},
   "source": [
    "Sensitivity and Accuracy are high but Specificity and Precision are low. Let's perform hyperparameter tuning and see if we can improve the scores.\n",
    "\n",
    "**Hyperparameter Tuning**"
   ]
  },
  {
   "cell_type": "code",
   "execution_count": 346,
   "metadata": {},
   "outputs": [],
   "source": [
    "rf_grid = {\"n_estimators\": np.arange(10, 1000, 50),\n",
    "           \"max_depth\": np.arange(10, 50, 5),\n",
    "           \"min_samples_split\": np.arange(15, 500, 15),\n",
    "           \"min_samples_leaf\": np.arange(5, 50, 5)}"
   ]
  },
  {
   "cell_type": "code",
   "execution_count": 348,
   "metadata": {},
   "outputs": [
    {
     "name": "stdout",
     "output_type": "stream",
     "text": [
      "Fitting 5 folds for each of 10 candidates, totalling 50 fits\n"
     ]
    }
   ],
   "source": [
    "# Setup random hyperparameter search for Random Forest Classifier\n",
    "rf_hpt = RandomizedSearchCV(RandomForestClassifier(random_state=42),\n",
    "                                param_distributions=rf_grid,\n",
    "                                cv=5,\n",
    "                                verbose=True,\n",
    "                                n_jobs=-1,\n",
    "                                scoring='f1')\n",
    "\n",
    "# Fit random hyperparameter search model\n",
    "rf_hpt.fit(X_train_sm, y_train_sm);"
   ]
  },
  {
   "cell_type": "code",
   "execution_count": 349,
   "metadata": {},
   "outputs": [
    {
     "data": {
      "text/plain": [
       "{'n_estimators': 610,\n",
       " 'min_samples_split': 15,\n",
       " 'min_samples_leaf': 20,\n",
       " 'max_depth': 30}"
      ]
     },
     "execution_count": 349,
     "metadata": {},
     "output_type": "execute_result"
    }
   ],
   "source": [
    "# Check best parameters\n",
    "rf_hpt.best_params_"
   ]
  },
  {
   "cell_type": "code",
   "execution_count": 350,
   "metadata": {},
   "outputs": [
    {
     "name": "stdout",
     "output_type": "stream",
     "text": [
      "Visualizing the Confusion Matrix with a Heatmap\n",
      "\n",
      "\n",
      "**************************************************\n"
     ]
    },
    {
     "data": {
      "image/png": "[encoded data removed]",
      "text/plain": [
       "<Figure size 432x432 with 1 Axes>"
      ]
     },
     "metadata": {
      "needs_background": "light"
     },
     "output_type": "display_data"
    },
    {
     "name": "stdout",
     "output_type": "stream",
     "text": [
      "**************************************************\n",
      "\n",
      "\n",
      "Values of True Positives, True Negatives, False Positivies and False Negatives\n",
      "~~~~~~~~~~~~~~~~~~~~~~~~~~~~~~~~~~~~~~~~~~~~~~~~~~\n",
      "True Positives: 6108\n",
      "True Negatives: 470\n",
      "False Positives: 288\n",
      "False Negatives: 571\n",
      "~~~~~~~~~~~~~~~~~~~~~~~~~~~~~~~~~~~~~~~~~~~~~~~~~~\n",
      "\n",
      "\n",
      "Evaluation Score Summary\n",
      "--------------------------------------------------\n",
      "Accuracy Score: 0.88\n",
      "Sensitivity/Recall Score: 0.91\n",
      "Specificity Score: 0.62\n",
      "Precision: 0.62\n",
      "F1 Score: 0.74\n",
      "--------------------------------------------------\n"
     ]
    },
    {
     "data": {
      "text/plain": [
       "[0.88, 0.91, 0.62, 0.62, 0.74]"
      ]
     },
     "execution_count": 350,
     "metadata": {},
     "output_type": "execute_result"
    }
   ],
   "source": [
    "evaluation_scores(rf_hpt, X_test, y_test)"
   ]
  },
  {
   "cell_type": "code",
   "execution_count": 351,
   "metadata": {},
   "outputs": [
    {
     "name": "stdout",
     "output_type": "stream",
     "text": [
      "Visualizing the Confusion Matrix with a Heatmap\n",
      "\n",
      "\n",
      "**************************************************\n"
     ]
    },
    {
     "data": {
      "image/png": "[encoded data removed]",
      "text/plain": [
       "<Figure size 432x432 with 1 Axes>"
      ]
     },
     "metadata": {
      "needs_background": "light"
     },
     "output_type": "display_data"
    },
    {
     "name": "stdout",
     "output_type": "stream",
     "text": [
      "**************************************************\n",
      "\n",
      "\n",
      "Values of True Positives, True Negatives, False Positivies and False Negatives\n",
      "~~~~~~~~~~~~~~~~~~~~~~~~~~~~~~~~~~~~~~~~~~~~~~~~~~\n",
      "True Positives: 6108\n",
      "True Negatives: 470\n",
      "False Positives: 288\n",
      "False Negatives: 571\n",
      "~~~~~~~~~~~~~~~~~~~~~~~~~~~~~~~~~~~~~~~~~~~~~~~~~~\n",
      "\n",
      "\n",
      "Evaluation Score Summary\n",
      "--------------------------------------------------\n",
      "Accuracy Score: 0.88\n",
      "Sensitivity/Recall Score: 0.91\n",
      "Specificity Score: 0.62\n",
      "Precision: 0.62\n",
      "F1 Score: 0.74\n",
      "--------------------------------------------------\n"
     ]
    }
   ],
   "source": [
    "# Getting the scores of the tuned model\n",
    "rf_tuned_metrics = evaluation_scores(rf_hpt, X_test, y_test)"
   ]
  },
  {
   "cell_type": "code",
   "execution_count": 352,
   "metadata": {},
   "outputs": [
    {
     "data": {
      "text/html": [
       "<div>\n",
       "<style scoped>\n",
       "    .dataframe tbody tr th:only-of-type {\n",
       "        vertical-align: middle;\n",
       "    }\n",
       "\n",
       "    .dataframe tbody tr th {\n",
       "        vertical-align: top;\n",
       "    }\n",
       "\n",
       "    .dataframe thead th {\n",
       "        text-align: right;\n",
       "    }\n",
       "</style>\n",
       "<table border=\"1\" class=\"dataframe\">\n",
       "  <thead>\n",
       "    <tr style=\"text-align: right;\">\n",
       "      <th></th>\n",
       "      <th>Metrics</th>\n",
       "      <th>RF Base Model</th>\n",
       "      <th>RF Tuned Model</th>\n",
       "    </tr>\n",
       "  </thead>\n",
       "  <tbody>\n",
       "    <tr>\n",
       "      <th>0</th>\n",
       "      <td>Accuracy</td>\n",
       "      <td>0.94</td>\n",
       "      <td>0.88</td>\n",
       "    </tr>\n",
       "    <tr>\n",
       "      <th>1</th>\n",
       "      <td>Sensitivity/Recall</td>\n",
       "      <td>0.98</td>\n",
       "      <td>0.91</td>\n",
       "    </tr>\n",
       "    <tr>\n",
       "      <th>2</th>\n",
       "      <td>Specificity</td>\n",
       "      <td>0.58</td>\n",
       "      <td>0.62</td>\n",
       "    </tr>\n",
       "    <tr>\n",
       "      <th>3</th>\n",
       "      <td>Precision</td>\n",
       "      <td>0.58</td>\n",
       "      <td>0.62</td>\n",
       "    </tr>\n",
       "    <tr>\n",
       "      <th>4</th>\n",
       "      <td>F1 Score</td>\n",
       "      <td>0.73</td>\n",
       "      <td>0.74</td>\n",
       "    </tr>\n",
       "  </tbody>\n",
       "</table>\n",
       "</div>"
      ],
      "text/plain": [
       "              Metrics  RF Base Model  RF Tuned Model\n",
       "0            Accuracy           0.94            0.88\n",
       "1  Sensitivity/Recall           0.98            0.91\n",
       "2         Specificity           0.58            0.62\n",
       "3           Precision           0.58            0.62\n",
       "4            F1 Score           0.73            0.74"
      ]
     },
     "execution_count": 352,
     "metadata": {},
     "output_type": "execute_result"
    }
   ],
   "source": [
    "# Printing the scores of the base and tuned Random Forest model as reference\n",
    "dict_rf_bt_metrics = {'Metrics': ['Accuracy','Sensitivity/Recall','Specificity','Precision','F1 Score'], \n",
    "                               'RF Base Model': rf_metrics,\n",
    "                               'RF Tuned Model': rf_tuned_metrics}\n",
    "\n",
    "df_rf_bt_metrics = pd.DataFrame(dict_rf_bt_metrics, columns = ['Metrics', 'RF Base Model', 'RF Tuned Model'])\n",
    "df_rf_bt_metrics"
   ]
  },
  {
   "attachments": {},
   "cell_type": "markdown",
   "metadata": {},
   "source": [
    "#### Model Evaluation"
   ]
  },
  {
   "cell_type": "code",
   "execution_count": 354,
   "metadata": {},
   "outputs": [
    {
     "data": {
      "text/html": [
       "<div>\n",
       "<style scoped>\n",
       "    .dataframe tbody tr th:only-of-type {\n",
       "        vertical-align: middle;\n",
       "    }\n",
       "\n",
       "    .dataframe tbody tr th {\n",
       "        vertical-align: top;\n",
       "    }\n",
       "\n",
       "    .dataframe thead th {\n",
       "        text-align: right;\n",
       "    }\n",
       "</style>\n",
       "<table border=\"1\" class=\"dataframe\">\n",
       "  <thead>\n",
       "    <tr style=\"text-align: right;\">\n",
       "      <th></th>\n",
       "      <th>Metrics</th>\n",
       "      <th>LR Base Model</th>\n",
       "      <th>RF Base Model</th>\n",
       "      <th>RF Tuned Model</th>\n",
       "    </tr>\n",
       "  </thead>\n",
       "  <tbody>\n",
       "    <tr>\n",
       "      <th>0</th>\n",
       "      <td>Accuracy</td>\n",
       "      <td>0.92</td>\n",
       "      <td>0.94</td>\n",
       "      <td>0.88</td>\n",
       "    </tr>\n",
       "    <tr>\n",
       "      <th>1</th>\n",
       "      <td>Sensitivity/Recall</td>\n",
       "      <td>0.93</td>\n",
       "      <td>0.98</td>\n",
       "      <td>0.91</td>\n",
       "    </tr>\n",
       "    <tr>\n",
       "      <th>2</th>\n",
       "      <td>Specificity</td>\n",
       "      <td>0.78</td>\n",
       "      <td>0.58</td>\n",
       "      <td>0.62</td>\n",
       "    </tr>\n",
       "    <tr>\n",
       "      <th>3</th>\n",
       "      <td>Precision</td>\n",
       "      <td>0.78</td>\n",
       "      <td>0.58</td>\n",
       "      <td>0.62</td>\n",
       "    </tr>\n",
       "    <tr>\n",
       "      <th>4</th>\n",
       "      <td>F1 Score</td>\n",
       "      <td>0.85</td>\n",
       "      <td>0.73</td>\n",
       "      <td>0.74</td>\n",
       "    </tr>\n",
       "  </tbody>\n",
       "</table>\n",
       "</div>"
      ],
      "text/plain": [
       "              Metrics  LR Base Model  RF Base Model  RF Tuned Model\n",
       "0            Accuracy           0.92           0.94            0.88\n",
       "1  Sensitivity/Recall           0.93           0.98            0.91\n",
       "2         Specificity           0.78           0.58            0.62\n",
       "3           Precision           0.78           0.58            0.62\n",
       "4            F1 Score           0.85           0.73            0.74"
      ]
     },
     "execution_count": 354,
     "metadata": {},
     "output_type": "execute_result"
    }
   ],
   "source": [
    "# Printing the scores of all the 3 Models (Base and Tuned)\n",
    "dict_bt_metrics = {'Metrics': ['Accuracy','Sensitivity/Recall','Specificity','Precision','F1 Score'],\n",
    "                              'LR Base Model': lr_metrics, \n",
    "                              'RF Base Model': rf_metrics, \n",
    "                              'RF Tuned Model': rf_tuned_metrics,\n",
    "                              }\n",
    "\n",
    "df_bt_metrics = pd.DataFrame(dict_bt_metrics, columns = ['Metrics', 'LR Base Model','RF Base Model', 'RF Tuned Model'])\n",
    "df_bt_metrics"
   ]
  },
  {
   "attachments": {},
   "cell_type": "markdown",
   "metadata": {},
   "source": [
    "Looking at the model evaluation metrics and focusing on Sensitivity, Specificity and F1 Score, we can conclude that the base Logistic Regression Model is the best model out of all of them."
   ]
  },
  {
   "cell_type": "code",
   "execution_count": 359,
   "metadata": {},
   "outputs": [],
   "source": [
    "def save_model(model, filename):\n",
    "    filename = filename+'.pkl'\n",
    "    pickle.dump(model, open(filename, 'wb'))\n"
   ]
  },
  {
   "cell_type": "code",
   "execution_count": 360,
   "metadata": {},
   "outputs": [],
   "source": [
    "save_model(logreg, 'sentiment_classification_logreg_model')"
   ]
  }
 ],
 "metadata": {
  "kernelspec": {
   "display_name": "Python 3",
   "language": "python",
   "name": "python3"
  },
  "language_info": {
   "codemirror_mode": {
    "name": "ipython",
    "version": 3
   },
   "file_extension": ".py",
   "mimetype": "text/x-python",
   "name": "python",
   "nbconvert_exporter": "python",
   "pygments_lexer": "ipython3",
   "version": "3.9.6"
  },
  "orig_nbformat": 4,
  "vscode": {
   "interpreter": {
    "hash": "7812ea015bdcee6f23a998adcdd2ef97c151c0c241b7b7070987d9313e41299d"
   }
  }
 },
 "nbformat": 4,
 "nbformat_minor": 2
}
